{
 "cells": [
  {
   "cell_type": "code",
   "execution_count": 1,
   "metadata": {},
   "outputs": [],
   "source": [
    "import pandas as pd\n",
    "import matplotlib.pyplot as plt\n",
    "import json\n",
    "import json_lines as jl"
   ]
  },
  {
   "cell_type": "code",
   "execution_count": 4,
   "metadata": {},
   "outputs": [],
   "source": [
    "limit = 50\n",
    "train_file = \"../data/raw/train_dataset.jl.gz\"\n",
    "\n",
    "with jl.open(train_file) as file:\n",
    "    train_json = [next(file) for _ in range(0,50)]"
   ]
  },
  {
   "cell_type": "code",
   "execution_count": 7,
   "metadata": {},
   "outputs": [
    {
     "data": {
      "text/plain": [
       "{'item_bought': 228737,\n",
       " 'user_history': [{'event_info': 643652,\n",
       "   'event_timestamp': '2019-10-06T18:02:53.893-0400',\n",
       "   'event_type': 'view'},\n",
       "  {'event_info': 'DESMAMADEIRA ELETRICA',\n",
       "   'event_timestamp': '2019-10-07T09:45:29.322-0400',\n",
       "   'event_type': 'search'},\n",
       "  {'event_info': 1156086,\n",
       "   'event_timestamp': '2019-10-07T09:46:07.960-0400',\n",
       "   'event_type': 'view'},\n",
       "  {'event_info': 'DESMAMADEIRA ELETRICA',\n",
       "   'event_timestamp': '2019-10-07T09:46:17.100-0400',\n",
       "   'event_type': 'search'},\n",
       "  {'event_info': 'DESMAMADEIRA ELETRICA',\n",
       "   'event_timestamp': '2019-10-07T09:46:19.173-0400',\n",
       "   'event_type': 'search'},\n",
       "  {'event_info': 1943604,\n",
       "   'event_timestamp': '2019-10-07T09:47:53.958-0400',\n",
       "   'event_type': 'view'},\n",
       "  {'event_info': 'DESMAMADEIRA ELETRICA',\n",
       "   'event_timestamp': '2019-10-07T18:53:20.113-0400',\n",
       "   'event_type': 'search'},\n",
       "  {'event_info': 206667,\n",
       "   'event_timestamp': '2019-10-07T18:53:26.670-0400',\n",
       "   'event_type': 'view'},\n",
       "  {'event_info': 'DESMAMADEIRA ELETRICA',\n",
       "   'event_timestamp': '2019-10-07T18:54:36.944-0400',\n",
       "   'event_type': 'search'},\n",
       "  {'event_info': 1282813,\n",
       "   'event_timestamp': '2019-10-07T18:54:50.998-0400',\n",
       "   'event_type': 'view'},\n",
       "  {'event_info': 228737,\n",
       "   'event_timestamp': '2019-10-07T18:56:43.678-0400',\n",
       "   'event_type': 'view'},\n",
       "  {'event_info': 228737,\n",
       "   'event_timestamp': '2019-10-07T19:01:44.718-0400',\n",
       "   'event_type': 'view'},\n",
       "  {'event_info': 228737,\n",
       "   'event_timestamp': '2019-10-07T19:46:18.382-0400',\n",
       "   'event_type': 'view'}]}"
      ]
     },
     "execution_count": 7,
     "metadata": {},
     "output_type": "execute_result"
    }
   ],
   "source": [
    "train_json[1]"
   ]
  },
  {
   "cell_type": "code",
   "execution_count": null,
   "metadata": {},
   "outputs": [],
   "source": []
  }
 ],
 "metadata": {
  "kernelspec": {
   "display_name": "Python 3",
   "language": "python",
   "name": "python3"
  },
  "language_info": {
   "codemirror_mode": {
    "name": "ipython",
    "version": 3
   },
   "file_extension": ".py",
   "mimetype": "text/x-python",
   "name": "python",
   "nbconvert_exporter": "python",
   "pygments_lexer": "ipython3",
   "version": "3.5.10"
  }
 },
 "nbformat": 4,
 "nbformat_minor": 4
}
