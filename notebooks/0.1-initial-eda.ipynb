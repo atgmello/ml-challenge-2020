{
 "cells": [
  {
   "cell_type": "code",
   "execution_count": 1,
   "metadata": {},
   "outputs": [],
   "source": [
    "import matplotlib.pyplot as plt\n",
    "import json_lines as jl\n",
    "import seaborn as sns\n",
    "import pandas as pd\n",
    "import json\n",
    "\n",
    "from itertools import (islice, takewhile)\n",
    "from collections import Counter"
   ]
  },
  {
   "cell_type": "code",
   "execution_count": 2,
   "metadata": {},
   "outputs": [],
   "source": [
    "def take(n, iterable):\n",
    "    \"Return first n items of the iterable as a list\"\n",
    "    return list(islice(iterable, n))"
   ]
  },
  {
   "cell_type": "code",
   "execution_count": 3,
   "metadata": {},
   "outputs": [],
   "source": [
    "limit = 50\n",
    "train_file = \"../data/raw/train_dataset.jl.gz\"\n",
    "\n",
    "with jl.open(train_file) as file:\n",
    "    train_json = take(limit, file)"
   ]
  },
  {
   "cell_type": "code",
   "execution_count": 4,
   "metadata": {},
   "outputs": [
    {
     "data": {
      "text/plain": [
       "{'item_bought': 1748830,\n",
       " 'user_history': [{'event_info': 1786148,\n",
       "   'event_timestamp': '2019-10-19T11:25:42.444-0400',\n",
       "   'event_type': 'view'},\n",
       "  {'event_info': 1786148,\n",
       "   'event_timestamp': '2019-10-19T11:25:57.487-0400',\n",
       "   'event_type': 'view'},\n",
       "  {'event_info': 'RELOGIO SMARTWATCH',\n",
       "   'event_timestamp': '2019-10-19T11:26:07.063-0400',\n",
       "   'event_type': 'search'},\n",
       "  {'event_info': 1615991,\n",
       "   'event_timestamp': '2019-10-19T11:27:26.879-0400',\n",
       "   'event_type': 'view'},\n",
       "  {'event_info': 1615991,\n",
       "   'event_timestamp': '2019-10-19T11:28:36.558-0400',\n",
       "   'event_type': 'view'},\n",
       "  {'event_info': 1615991,\n",
       "   'event_timestamp': '2019-10-19T11:28:40.827-0400',\n",
       "   'event_type': 'view'},\n",
       "  {'event_info': 1615991,\n",
       "   'event_timestamp': '2019-10-19T11:30:42.089-0400',\n",
       "   'event_type': 'view'},\n",
       "  {'event_info': 1615991,\n",
       "   'event_timestamp': '2019-10-19T21:51:29.622-0400',\n",
       "   'event_type': 'view'},\n",
       "  {'event_info': 1615991,\n",
       "   'event_timestamp': '2019-10-19T21:52:09.281-0400',\n",
       "   'event_type': 'view'},\n",
       "  {'event_info': 1615991,\n",
       "   'event_timestamp': '2019-10-19T21:52:41.863-0400',\n",
       "   'event_type': 'view'},\n",
       "  {'event_info': 1615991,\n",
       "   'event_timestamp': '2019-10-19T21:54:16.119-0400',\n",
       "   'event_type': 'view'},\n",
       "  {'event_info': 1615991,\n",
       "   'event_timestamp': '2019-10-19T21:54:40.629-0400',\n",
       "   'event_type': 'view'},\n",
       "  {'event_info': 1615991,\n",
       "   'event_timestamp': '2019-10-19T21:54:57.329-0400',\n",
       "   'event_type': 'view'},\n",
       "  {'event_info': 1615991,\n",
       "   'event_timestamp': '2019-10-19T22:00:04.577-0400',\n",
       "   'event_type': 'view'},\n",
       "  {'event_info': 1615991,\n",
       "   'event_timestamp': '2019-10-20T10:36:47.525-0400',\n",
       "   'event_type': 'view'},\n",
       "  {'event_info': 1615991,\n",
       "   'event_timestamp': '2019-10-20T10:37:23.202-0400',\n",
       "   'event_type': 'view'},\n",
       "  {'event_info': 1615991,\n",
       "   'event_timestamp': '2019-10-20T10:37:47.699-0400',\n",
       "   'event_type': 'view'},\n",
       "  {'event_info': 1615991,\n",
       "   'event_timestamp': '2019-10-20T19:28:14.619-0400',\n",
       "   'event_type': 'view'},\n",
       "  {'event_info': 1615991,\n",
       "   'event_timestamp': '2019-10-20T19:28:41.646-0400',\n",
       "   'event_type': 'view'}]}"
      ]
     },
     "execution_count": 4,
     "metadata": {},
     "output_type": "execute_result"
    }
   ],
   "source": [
    "train_json[0]"
   ]
  },
  {
   "cell_type": "markdown",
   "metadata": {},
   "source": [
    "Verificar distribuição das classes a serem estimadas (item_bought)"
   ]
  },
  {
   "cell_type": "code",
   "execution_count": 5,
   "metadata": {},
   "outputs": [],
   "source": [
    "limit = 10000\n",
    "train_file = \"../data/raw/train_dataset.jl.gz\"\n",
    "item_bought_list = []\n",
    "train_json = [0]\n",
    "\n",
    "with jl.open(train_file) as file:\n",
    "    while len(train_json) > 0:\n",
    "        train_json = take(limit, file)\n",
    "        item_bought_list.extend([user['item_bought'] for user in train_json])"
   ]
  },
  {
   "cell_type": "markdown",
   "metadata": {},
   "source": [
    "Tamanho do dataset"
   ]
  },
  {
   "cell_type": "code",
   "execution_count": 6,
   "metadata": {},
   "outputs": [
    {
     "data": {
      "text/plain": [
       "413163"
      ]
     },
     "execution_count": 6,
     "metadata": {},
     "output_type": "execute_result"
    }
   ],
   "source": [
    "len(item_bought_list)"
   ]
  },
  {
   "cell_type": "markdown",
   "metadata": {},
   "source": [
    "Distribuição das classes"
   ]
  },
  {
   "cell_type": "code",
   "execution_count": 7,
   "metadata": {},
   "outputs": [],
   "source": [
    "item_bought_counter = Counter(item_bought_list)"
   ]
  },
  {
   "cell_type": "code",
   "execution_count": 8,
   "metadata": {},
   "outputs": [
    {
     "data": {
      "text/plain": [
       "64928"
      ]
     },
     "execution_count": 8,
     "metadata": {},
     "output_type": "execute_result"
    }
   ],
   "source": [
    "len(item_bought_counter)"
   ]
  },
  {
   "cell_type": "code",
   "execution_count": 9,
   "metadata": {},
   "outputs": [
    {
     "data": {
      "text/plain": [
       "[(1587422, 558),\n",
       " (1803710, 384),\n",
       " (10243, 371),\n",
       " (548905, 348),\n",
       " (1906937, 344),\n",
       " (716822, 330),\n",
       " (1361154, 326),\n",
       " (1716388, 324),\n",
       " (725371, 322),\n",
       " (859574, 322),\n",
       " (290755, 318),\n",
       " (1371799, 313),\n",
       " (429798, 297),\n",
       " (119703, 271),\n",
       " (1332849, 269),\n",
       " (1748830, 267),\n",
       " (882697, 262),\n",
       " (1303554, 256),\n",
       " (1098739, 251),\n",
       " (545369, 249)]"
      ]
     },
     "execution_count": 9,
     "metadata": {},
     "output_type": "execute_result"
    }
   ],
   "source": [
    "item_bought_counter.most_common()[:20]"
   ]
  },
  {
   "cell_type": "code",
   "execution_count": 10,
   "metadata": {},
   "outputs": [
    {
     "data": {
      "text/plain": [
       "[(261990, 1),\n",
       " (1048423, 1),\n",
       " (1703912, 1),\n",
       " (1811271, 1),\n",
       " (786306, 1),\n",
       " (1179528, 1),\n",
       " (2097033, 1),\n",
       " (2097050, 1),\n",
       " (393124, 1),\n",
       " (1310631, 1),\n",
       " (1310635, 1),\n",
       " (955827, 1),\n",
       " (1965999, 1),\n",
       " (655285, 1),\n",
       " (2097084, 1),\n",
       " (262086, 1),\n",
       " (1441751, 1),\n",
       " (1503864, 1),\n",
       " (1834987, 1),\n",
       " (262142, 1)]"
      ]
     },
     "execution_count": 10,
     "metadata": {},
     "output_type": "execute_result"
    }
   ],
   "source": [
    "item_bought_counter.most_common()[-20:]"
   ]
  },
  {
   "cell_type": "code",
   "execution_count": 11,
   "metadata": {},
   "outputs": [
    {
     "data": {
      "text/plain": [
       "64019"
      ]
     },
     "execution_count": 11,
     "metadata": {},
     "output_type": "execute_result"
    }
   ],
   "source": [
    "len(list(filter(lambda k: item_bought_counter[k] < 50, item_bought_counter.keys())))"
   ]
  },
  {
   "cell_type": "markdown",
   "metadata": {},
   "source": [
    "Mais de 64.000 itens com menos de 50 compras.\n",
    "\n",
    "Dificilmente essas classes terão algum peso na estimação."
   ]
  },
  {
   "cell_type": "markdown",
   "metadata": {},
   "source": [
    "Ideia: olhar para a distribuição dos domínios dos itens."
   ]
  },
  {
   "cell_type": "code",
   "execution_count": 12,
   "metadata": {},
   "outputs": [],
   "source": [
    "limit = 100000\n",
    "item_file = \"../data/raw/item_data.jl.gz\"\n",
    "df_item = pd.DataFrame()\n",
    "item_temp = [0]\n",
    "\n",
    "with jl.open(item_file) as file:\n",
    "    while len(item_temp) > 0:\n",
    "        item_temp = take(limit, file)\n",
    "        df_item = df_item.append(pd.DataFrame(item_temp))"
   ]
  },
  {
   "cell_type": "code",
   "execution_count": 13,
   "metadata": {},
   "outputs": [
    {
     "data": {
      "text/html": [
       "<div>\n",
       "<style scoped>\n",
       "    .dataframe tbody tr th:only-of-type {\n",
       "        vertical-align: middle;\n",
       "    }\n",
       "\n",
       "    .dataframe tbody tr th {\n",
       "        vertical-align: top;\n",
       "    }\n",
       "\n",
       "    .dataframe thead th {\n",
       "        text-align: right;\n",
       "    }\n",
       "</style>\n",
       "<table border=\"1\" class=\"dataframe\">\n",
       "  <thead>\n",
       "    <tr style=\"text-align: right;\">\n",
       "      <th></th>\n",
       "      <th>category_id</th>\n",
       "      <th>condition</th>\n",
       "      <th>domain_id</th>\n",
       "      <th>item_id</th>\n",
       "      <th>price</th>\n",
       "      <th>product_id</th>\n",
       "      <th>title</th>\n",
       "    </tr>\n",
       "  </thead>\n",
       "  <tbody>\n",
       "    <tr>\n",
       "      <th>0</th>\n",
       "      <td>MLM170527</td>\n",
       "      <td>new</td>\n",
       "      <td>MLM-INDIVIDUAL_HOUSES_FOR_SALE</td>\n",
       "      <td>111260</td>\n",
       "      <td>1150000.00</td>\n",
       "      <td>None</td>\n",
       "      <td>Casa Sola En Venta Con Gran Patio Solo Pago De...</td>\n",
       "    </tr>\n",
       "    <tr>\n",
       "      <th>1</th>\n",
       "      <td>MLM151595</td>\n",
       "      <td>new</td>\n",
       "      <td>MLM-VIDEO_GAMES</td>\n",
       "      <td>871377</td>\n",
       "      <td>1392.83</td>\n",
       "      <td>15270800</td>\n",
       "      <td>Resident Evil Origins Collection Nintendo Swit...</td>\n",
       "    </tr>\n",
       "    <tr>\n",
       "      <th>2</th>\n",
       "      <td>MLM7697</td>\n",
       "      <td>new</td>\n",
       "      <td>MLM-SKIRTS</td>\n",
       "      <td>490232</td>\n",
       "      <td>350.00</td>\n",
       "      <td>None</td>\n",
       "      <td>Falda De Imitación Piel Negra</td>\n",
       "    </tr>\n",
       "    <tr>\n",
       "      <th>3</th>\n",
       "      <td>MLM9761</td>\n",
       "      <td>used</td>\n",
       "      <td>MLM-GRAPHICS_CARDS</td>\n",
       "      <td>1150706</td>\n",
       "      <td>3200.00</td>\n",
       "      <td>None</td>\n",
       "      <td>Powercolor Red Devil Radeon Rx 580 8gb Gddr5</td>\n",
       "    </tr>\n",
       "    <tr>\n",
       "      <th>4</th>\n",
       "      <td>MLM1652</td>\n",
       "      <td>used</td>\n",
       "      <td>MLM-NOTEBOOKS</td>\n",
       "      <td>934912</td>\n",
       "      <td>1599.00</td>\n",
       "      <td>None</td>\n",
       "      <td>Laptop Hp Nx6320 Core Duo Con Puerto Db9 Windo...</td>\n",
       "    </tr>\n",
       "    <tr>\n",
       "      <th>...</th>\n",
       "      <td>...</td>\n",
       "      <td>...</td>\n",
       "      <td>...</td>\n",
       "      <td>...</td>\n",
       "      <td>...</td>\n",
       "      <td>...</td>\n",
       "      <td>...</td>\n",
       "    </tr>\n",
       "    <tr>\n",
       "      <th>2272</th>\n",
       "      <td>MLB1386</td>\n",
       "      <td>used</td>\n",
       "      <td>MLB-BABY_STROLLERS</td>\n",
       "      <td>1099649</td>\n",
       "      <td>1600.00</td>\n",
       "      <td>None</td>\n",
       "      <td>Carrinho De Bebê Stoke</td>\n",
       "    </tr>\n",
       "    <tr>\n",
       "      <th>2273</th>\n",
       "      <td>MLB193425</td>\n",
       "      <td>new</td>\n",
       "      <td>MLB-KITCHEN_SUPPLIES</td>\n",
       "      <td>1482187</td>\n",
       "      <td>69.90</td>\n",
       "      <td>None</td>\n",
       "      <td>Grelha Para Hambúrguer Preta Com Cabo Em Madei...</td>\n",
       "    </tr>\n",
       "    <tr>\n",
       "      <th>2274</th>\n",
       "      <td>MLB108791</td>\n",
       "      <td>new</td>\n",
       "      <td>MLB-SOCKS</td>\n",
       "      <td>1118904</td>\n",
       "      <td>118.00</td>\n",
       "      <td>None</td>\n",
       "      <td>Meia Tam 7/8 Anti Embolia Trombose Antitrombo</td>\n",
       "    </tr>\n",
       "    <tr>\n",
       "      <th>2275</th>\n",
       "      <td>MLB40629</td>\n",
       "      <td>new</td>\n",
       "      <td>MLB-DISPOSABLE_BABY_DIAPERS</td>\n",
       "      <td>237229</td>\n",
       "      <td>26.90</td>\n",
       "      <td>None</td>\n",
       "      <td>Pano De Boca Cremer Menina Luxo Bordado C/3 Und</td>\n",
       "    </tr>\n",
       "    <tr>\n",
       "      <th>2276</th>\n",
       "      <td>MLB117639</td>\n",
       "      <td>new</td>\n",
       "      <td>MLB-VEHICLE_ACCESSORIES</td>\n",
       "      <td>2010306</td>\n",
       "      <td>64.99</td>\n",
       "      <td>None</td>\n",
       "      <td>Kit Turbo Turbina Virtual Simulador Som Apito ...</td>\n",
       "    </tr>\n",
       "  </tbody>\n",
       "</table>\n",
       "<p>2102277 rows × 7 columns</p>\n",
       "</div>"
      ],
      "text/plain": [
       "     category_id condition                       domain_id  item_id  \\\n",
       "0      MLM170527       new  MLM-INDIVIDUAL_HOUSES_FOR_SALE   111260   \n",
       "1      MLM151595       new                 MLM-VIDEO_GAMES   871377   \n",
       "2        MLM7697       new                      MLM-SKIRTS   490232   \n",
       "3        MLM9761      used              MLM-GRAPHICS_CARDS  1150706   \n",
       "4        MLM1652      used                   MLM-NOTEBOOKS   934912   \n",
       "...          ...       ...                             ...      ...   \n",
       "2272     MLB1386      used              MLB-BABY_STROLLERS  1099649   \n",
       "2273   MLB193425       new            MLB-KITCHEN_SUPPLIES  1482187   \n",
       "2274   MLB108791       new                       MLB-SOCKS  1118904   \n",
       "2275    MLB40629       new     MLB-DISPOSABLE_BABY_DIAPERS   237229   \n",
       "2276   MLB117639       new         MLB-VEHICLE_ACCESSORIES  2010306   \n",
       "\n",
       "           price product_id                                              title  \n",
       "0     1150000.00       None  Casa Sola En Venta Con Gran Patio Solo Pago De...  \n",
       "1        1392.83   15270800  Resident Evil Origins Collection Nintendo Swit...  \n",
       "2         350.00       None                      Falda De Imitación Piel Negra  \n",
       "3        3200.00       None       Powercolor Red Devil Radeon Rx 580 8gb Gddr5  \n",
       "4        1599.00       None  Laptop Hp Nx6320 Core Duo Con Puerto Db9 Windo...  \n",
       "...          ...        ...                                                ...  \n",
       "2272     1600.00       None                             Carrinho De Bebê Stoke  \n",
       "2273       69.90       None  Grelha Para Hambúrguer Preta Com Cabo Em Madei...  \n",
       "2274      118.00       None      Meia Tam 7/8 Anti Embolia Trombose Antitrombo  \n",
       "2275       26.90       None    Pano De Boca Cremer Menina Luxo Bordado C/3 Und  \n",
       "2276       64.99       None  Kit Turbo Turbina Virtual Simulador Som Apito ...  \n",
       "\n",
       "[2102277 rows x 7 columns]"
      ]
     },
     "execution_count": 13,
     "metadata": {},
     "output_type": "execute_result"
    }
   ],
   "source": [
    "df_item"
   ]
  },
  {
   "cell_type": "markdown",
   "metadata": {},
   "source": [
    "Quantidade total de domínios:"
   ]
  },
  {
   "cell_type": "code",
   "execution_count": 14,
   "metadata": {},
   "outputs": [
    {
     "data": {
      "text/plain": [
       "7893"
      ]
     },
     "execution_count": 14,
     "metadata": {},
     "output_type": "execute_result"
    }
   ],
   "source": [
    "df_item['domain_id'].nunique()"
   ]
  },
  {
   "cell_type": "code",
   "execution_count": 21,
   "metadata": {},
   "outputs": [
    {
     "data": {
      "text/plain": [
       "{10: 'a', 20: 'b'}"
      ]
     },
     "execution_count": 21,
     "metadata": {},
     "output_type": "execute_result"
    }
   ],
   "source": [
    "{x[0]: x[1] for x in [[10,'a'],[20,'b']]}"
   ]
  },
  {
   "cell_type": "code",
   "execution_count": 28,
   "metadata": {},
   "outputs": [],
   "source": [
    "item_domain_mapper = {str(x[0]): x[1] for x in df_item[['item_id','domain_id']].values}"
   ]
  },
  {
   "cell_type": "code",
   "execution_count": 34,
   "metadata": {},
   "outputs": [],
   "source": [
    "item_bought_domain_counter = Counter([item_domain_mapper[str(i)] for i in item_bought_list])"
   ]
  },
  {
   "cell_type": "code",
   "execution_count": 36,
   "metadata": {},
   "outputs": [
    {
     "data": {
      "text/plain": [
       "[('MLB-CELLPHONES', 25070),\n",
       " ('MLB-SNEAKERS', 14608),\n",
       " ('MLB-SUPPLEMENTS', 9562),\n",
       " ('MLB-HEADPHONES', 9053),\n",
       " ('MLB-SMARTWATCHES', 7963),\n",
       " ('MLB-DOLLS', 4915),\n",
       " ('MLB-VIDEO_GAMES', 4637),\n",
       " ('MLM-HEADPHONES', 4603),\n",
       " ('MLB-BOOTS_AND_BOOTIES', 4325),\n",
       " ('MLB-STREAMING_MEDIA_DEVICES', 4104)]"
      ]
     },
     "execution_count": 36,
     "metadata": {},
     "output_type": "execute_result"
    }
   ],
   "source": [
    "item_bought_domain_counter.most_common()[:10]"
   ]
  },
  {
   "cell_type": "code",
   "execution_count": 37,
   "metadata": {},
   "outputs": [
    {
     "data": {
      "text/plain": [
       "[('MLM-POINTS_OF_SALE_KITS', 1),\n",
       " ('MLB-EYEBROW_STENCILS', 1),\n",
       " ('MLB-CAR_CUP_HOLDERS', 1),\n",
       " ('MLM-DEFENSE_KNUCKLES', 1),\n",
       " ('MLM-TATTOO_KITS', 1),\n",
       " ('MLB-ARCADE_PARTS_KITS', 1),\n",
       " ('MLB-DIVING_MASKS', 1),\n",
       " ('MLM-COMPUTER_REMOTE_CONTROLS', 1),\n",
       " ('MLM-VIOLIN_AND_VIOLA_SHOULDER_RESTS', 1),\n",
       " ('MLB-AUTOMOTIVE_ENGINE_COVERS', 1)]"
      ]
     },
     "execution_count": 37,
     "metadata": {},
     "output_type": "execute_result"
    }
   ],
   "source": [
    "item_bought_domain_counter.most_common()[-10:]"
   ]
  },
  {
   "cell_type": "code",
   "execution_count": null,
   "metadata": {},
   "outputs": [],
   "source": []
  }
 ],
 "metadata": {
  "kernelspec": {
   "display_name": "Python 3",
   "language": "python",
   "name": "python3"
  },
  "language_info": {
   "codemirror_mode": {
    "name": "ipython",
    "version": 3
   },
   "file_extension": ".py",
   "mimetype": "text/x-python",
   "name": "python",
   "nbconvert_exporter": "python",
   "pygments_lexer": "ipython3",
   "version": "3.8.0"
  }
 },
 "nbformat": 4,
 "nbformat_minor": 4
}
