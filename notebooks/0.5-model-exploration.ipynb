{
 "cells": [
  {
   "cell_type": "code",
   "execution_count": 1,
   "metadata": {},
   "outputs": [
    {
     "name": "stderr",
     "output_type": "stream",
     "text": [
      "/home/atgmello/git/ml-challenge-2020/venv/lib/python3.8/site-packages/pandas/compat/__init__.py:120: UserWarning: Could not import the lzma module. Your installed Python is incomplete. Attempting to use lzma compression will result in a RuntimeError.\n",
      "  warnings.warn(msg)\n"
     ]
    }
   ],
   "source": [
    "import pandas as pd\n",
    "import numpy as np\n",
    "import swifter\n",
    "import gzip\n",
    "import json\n",
    "import os\n",
    "\n",
    "from sklearn.model_selection import train_test_split\n",
    "from sklearn.ensemble import RandomForestClassifier\n",
    "from functools import partial, reduce\n",
    "from src.models import ndcg_score\n",
    "from collections import Counter\n",
    "from datetime import datetime"
   ]
  },
  {
   "cell_type": "code",
   "execution_count": 2,
   "metadata": {},
   "outputs": [],
   "source": [
    "path = '../'\n",
    "train_filename = 'data/interim/train_dataset_features.parquet'\n",
    "cols_load_train = ['item_bought', 'domain_id_item_bought']\n",
    "cols_feat_domain = []\n",
    "\n",
    "cols_item = [f'{i}_viewed_item_{j}' for i in ['most','last'] for j in range(1,3)]\n",
    "cols_load_train.extend(cols_item)\n",
    "\n",
    "cols_item_domain = [f'domain_id_{c}' for c in cols_item]\n",
    "cols_load_train.extend(cols_item_domain)\n",
    "cols_feat_domain.extend(cols_item_domain)\n",
    "\n",
    "cols_domain = [f'most_viewed_domain_{i}' for i in range(1,3)]\n",
    "cols_load_train.extend(cols_domain)\n",
    "cols_feat_domain.extend(cols_domain)\n",
    "\n",
    "cols_ngram_domain = [f'domain_id_most_searched_ngram_{i}' for i in range(1,3)]\n",
    "cols_load_train.extend(cols_ngram_domain)\n",
    "cols_feat_domain.extend(cols_ngram_domain)\n",
    "\n",
    "cols_searched_domain = [f'domain_id_last_searched_{i}' for i in range(1,3)]\n",
    "cols_load_train.extend(cols_searched_domain)\n",
    "cols_feat_domain.extend(cols_searched_domain)"
   ]
  },
  {
   "cell_type": "code",
   "execution_count": 3,
   "metadata": {},
   "outputs": [
    {
     "data": {
      "text/plain": [
       "['item_bought',\n",
       " 'domain_id_item_bought',\n",
       " 'most_viewed_item_1',\n",
       " 'most_viewed_item_2',\n",
       " 'last_viewed_item_1',\n",
       " 'last_viewed_item_2',\n",
       " 'domain_id_most_viewed_item_1',\n",
       " 'domain_id_most_viewed_item_2',\n",
       " 'domain_id_last_viewed_item_1',\n",
       " 'domain_id_last_viewed_item_2',\n",
       " 'most_viewed_domain_1',\n",
       " 'most_viewed_domain_2',\n",
       " 'domain_id_most_searched_ngram_1',\n",
       " 'domain_id_most_searched_ngram_2',\n",
       " 'domain_id_last_searched_1',\n",
       " 'domain_id_last_searched_2']"
      ]
     },
     "execution_count": 3,
     "metadata": {},
     "output_type": "execute_result"
    }
   ],
   "source": [
    "cols_load_train"
   ]
  },
  {
   "cell_type": "code",
   "execution_count": 5,
   "metadata": {},
   "outputs": [],
   "source": [
    "df_train = pd.read_parquet(os.path.join(path, train_filename), columns=cols_load_train)"
   ]
  },
  {
   "cell_type": "code",
   "execution_count": 6,
   "metadata": {},
   "outputs": [
    {
     "data": {
      "text/html": [
       "<div>\n",
       "<style scoped>\n",
       "    .dataframe tbody tr th:only-of-type {\n",
       "        vertical-align: middle;\n",
       "    }\n",
       "\n",
       "    .dataframe tbody tr th {\n",
       "        vertical-align: top;\n",
       "    }\n",
       "\n",
       "    .dataframe thead th {\n",
       "        text-align: right;\n",
       "    }\n",
       "</style>\n",
       "<table border=\"1\" class=\"dataframe\">\n",
       "  <thead>\n",
       "    <tr style=\"text-align: right;\">\n",
       "      <th></th>\n",
       "      <th>item_bought</th>\n",
       "      <th>domain_id_item_bought</th>\n",
       "      <th>most_viewed_item_1</th>\n",
       "      <th>most_viewed_item_2</th>\n",
       "      <th>last_viewed_item_1</th>\n",
       "      <th>last_viewed_item_2</th>\n",
       "      <th>domain_id_most_viewed_item_1</th>\n",
       "      <th>domain_id_most_viewed_item_2</th>\n",
       "      <th>domain_id_last_viewed_item_1</th>\n",
       "      <th>domain_id_last_viewed_item_2</th>\n",
       "      <th>most_viewed_domain_1</th>\n",
       "      <th>most_viewed_domain_2</th>\n",
       "      <th>domain_id_most_searched_ngram_1</th>\n",
       "      <th>domain_id_most_searched_ngram_2</th>\n",
       "      <th>domain_id_last_searched_1</th>\n",
       "      <th>domain_id_last_searched_2</th>\n",
       "    </tr>\n",
       "  </thead>\n",
       "  <tbody>\n",
       "    <tr>\n",
       "      <th>0</th>\n",
       "      <td>394965</td>\n",
       "      <td>MLB-PRINTER_INKS</td>\n",
       "      <td>626904.0</td>\n",
       "      <td>1833895.0</td>\n",
       "      <td>1.0</td>\n",
       "      <td>1.0</td>\n",
       "      <td>MLB-NETWORK_PLUGS</td>\n",
       "      <td>MLB-COMPUTER_EQUIPMENT_AND_SPARE_PARTS</td>\n",
       "      <td>MLB-BOOTS_AND_BOOTIES</td>\n",
       "      <td>MLB-BOOTS_AND_BOOTIES</td>\n",
       "      <td>MLB-TOOLS</td>\n",
       "      <td>MLB-HATS_AND_CAPS</td>\n",
       "      <td>None</td>\n",
       "      <td>None</td>\n",
       "      <td>None</td>\n",
       "      <td>None</td>\n",
       "    </tr>\n",
       "    <tr>\n",
       "      <th>1</th>\n",
       "      <td>331081</td>\n",
       "      <td>MLM-BAR_CODE_SCANNERS</td>\n",
       "      <td>331081.0</td>\n",
       "      <td>768359.0</td>\n",
       "      <td>768359.0</td>\n",
       "      <td>11.0</td>\n",
       "      <td>MLM-BAR_CODE_SCANNERS</td>\n",
       "      <td>MLM-BAR_CODE_SCANNERS</td>\n",
       "      <td>MLM-BAR_CODE_SCANNERS</td>\n",
       "      <td>MLM-COMPUTER_EQUIPMENT_AND_SPARE_PARTS</td>\n",
       "      <td>MLM-BAR_CODE_SCANNERS</td>\n",
       "      <td>MLM-COMPUTER_EQUIPMENT_AND_SPARE_PARTS</td>\n",
       "      <td>None</td>\n",
       "      <td>None</td>\n",
       "      <td>None</td>\n",
       "      <td>None</td>\n",
       "    </tr>\n",
       "    <tr>\n",
       "      <th>2</th>\n",
       "      <td>1434557</td>\n",
       "      <td>MLB-WRENCH_SETS</td>\n",
       "      <td>1100593.0</td>\n",
       "      <td>74407.0</td>\n",
       "      <td>1021802.0</td>\n",
       "      <td>13.0</td>\n",
       "      <td>MLB-PLANTS</td>\n",
       "      <td>MLB-SPEAKERS</td>\n",
       "      <td>MLB-SPEAKERS</td>\n",
       "      <td>MLB-SPEAKERS</td>\n",
       "      <td>MLB-SPEAKERS</td>\n",
       "      <td>MLB-TV_STORAGE_UNITS</td>\n",
       "      <td>None</td>\n",
       "      <td>None</td>\n",
       "      <td>None</td>\n",
       "      <td>None</td>\n",
       "    </tr>\n",
       "    <tr>\n",
       "      <th>3</th>\n",
       "      <td>492271</td>\n",
       "      <td>MLM-CELLPHONE_SCREENS</td>\n",
       "      <td>15.0</td>\n",
       "      <td>106702.0</td>\n",
       "      <td>15.0</td>\n",
       "      <td>15.0</td>\n",
       "      <td>MLM-GAME_CONSOLES_VIDEO_GAMES_AND_ARCADE_MACHINES</td>\n",
       "      <td>MLM-CAR_LIGHT_BULBS</td>\n",
       "      <td>MLM-GAME_CONSOLES_VIDEO_GAMES_AND_ARCADE_MACHINES</td>\n",
       "      <td>MLM-GAME_CONSOLES_VIDEO_GAMES_AND_ARCADE_MACHINES</td>\n",
       "      <td>MLM-CAR_LIGHT_BULBS</td>\n",
       "      <td>MLM-GAME_CONSOLES_VIDEO_GAMES_AND_ARCADE_MACHINES</td>\n",
       "      <td>None</td>\n",
       "      <td>None</td>\n",
       "      <td>None</td>\n",
       "      <td>None</td>\n",
       "    </tr>\n",
       "    <tr>\n",
       "      <th>4</th>\n",
       "      <td>1540965</td>\n",
       "      <td>MLB-MUGS</td>\n",
       "      <td>860111.0</td>\n",
       "      <td>33.0</td>\n",
       "      <td>194780.0</td>\n",
       "      <td>33.0</td>\n",
       "      <td>MLB-BALL_PIT_BALLS</td>\n",
       "      <td>MLB-INFLATABLE_BALL_PITS</td>\n",
       "      <td>MLB-KIDS_TENTS</td>\n",
       "      <td>MLB-INFLATABLE_BALL_PITS</td>\n",
       "      <td>MLB-BALL_PIT_BALLS</td>\n",
       "      <td>MLB-INFLATABLE_BALL_PITS</td>\n",
       "      <td>None</td>\n",
       "      <td>None</td>\n",
       "      <td>None</td>\n",
       "      <td>None</td>\n",
       "    </tr>\n",
       "    <tr>\n",
       "      <th>...</th>\n",
       "      <td>...</td>\n",
       "      <td>...</td>\n",
       "      <td>...</td>\n",
       "      <td>...</td>\n",
       "      <td>...</td>\n",
       "      <td>...</td>\n",
       "      <td>...</td>\n",
       "      <td>...</td>\n",
       "      <td>...</td>\n",
       "      <td>...</td>\n",
       "      <td>...</td>\n",
       "      <td>...</td>\n",
       "      <td>...</td>\n",
       "      <td>...</td>\n",
       "      <td>...</td>\n",
       "      <td>...</td>\n",
       "    </tr>\n",
       "    <tr>\n",
       "      <th>413158</th>\n",
       "      <td>2101186</td>\n",
       "      <td>MLB-INDUSTRIAL_AND_COMMERCIAL_EQUIPMENT</td>\n",
       "      <td>NaN</td>\n",
       "      <td>NaN</td>\n",
       "      <td>NaN</td>\n",
       "      <td>NaN</td>\n",
       "      <td>None</td>\n",
       "      <td>None</td>\n",
       "      <td>None</td>\n",
       "      <td>None</td>\n",
       "      <td>None</td>\n",
       "      <td>None</td>\n",
       "      <td>MLB-HOES</td>\n",
       "      <td>MLB-GLAZED_DISPLAY_CABINETS</td>\n",
       "      <td>None</td>\n",
       "      <td>None</td>\n",
       "    </tr>\n",
       "    <tr>\n",
       "      <th>413159</th>\n",
       "      <td>2101232</td>\n",
       "      <td>MLB-UNIVERSAL_REMOTE_CONTROLS</td>\n",
       "      <td>NaN</td>\n",
       "      <td>NaN</td>\n",
       "      <td>NaN</td>\n",
       "      <td>NaN</td>\n",
       "      <td>None</td>\n",
       "      <td>None</td>\n",
       "      <td>None</td>\n",
       "      <td>None</td>\n",
       "      <td>None</td>\n",
       "      <td>None</td>\n",
       "      <td>MLB-WIRELESS_CHARGERS</td>\n",
       "      <td>MLB-WIRELESS_CHARGERS</td>\n",
       "      <td>None</td>\n",
       "      <td>None</td>\n",
       "    </tr>\n",
       "    <tr>\n",
       "      <th>413160</th>\n",
       "      <td>2101773</td>\n",
       "      <td>MLB-FOOTBALL_SHIRTS</td>\n",
       "      <td>NaN</td>\n",
       "      <td>NaN</td>\n",
       "      <td>NaN</td>\n",
       "      <td>NaN</td>\n",
       "      <td>None</td>\n",
       "      <td>None</td>\n",
       "      <td>None</td>\n",
       "      <td>None</td>\n",
       "      <td>None</td>\n",
       "      <td>None</td>\n",
       "      <td>MLM-TV_SMPS</td>\n",
       "      <td>MLB-T_SHIRTS</td>\n",
       "      <td>None</td>\n",
       "      <td>None</td>\n",
       "    </tr>\n",
       "    <tr>\n",
       "      <th>413161</th>\n",
       "      <td>2102136</td>\n",
       "      <td>MLB-OPERATING_SYSTEMS</td>\n",
       "      <td>NaN</td>\n",
       "      <td>NaN</td>\n",
       "      <td>NaN</td>\n",
       "      <td>NaN</td>\n",
       "      <td>None</td>\n",
       "      <td>None</td>\n",
       "      <td>None</td>\n",
       "      <td>None</td>\n",
       "      <td>None</td>\n",
       "      <td>None</td>\n",
       "      <td>MLM-LASER_POINTERS</td>\n",
       "      <td>MLB-ANVILS</td>\n",
       "      <td>None</td>\n",
       "      <td>None</td>\n",
       "    </tr>\n",
       "    <tr>\n",
       "      <th>413162</th>\n",
       "      <td>2102182</td>\n",
       "      <td>MLB-FACIAL_SKIN_CARE_PRODUCTS</td>\n",
       "      <td>NaN</td>\n",
       "      <td>NaN</td>\n",
       "      <td>NaN</td>\n",
       "      <td>NaN</td>\n",
       "      <td>None</td>\n",
       "      <td>None</td>\n",
       "      <td>None</td>\n",
       "      <td>None</td>\n",
       "      <td>None</td>\n",
       "      <td>None</td>\n",
       "      <td>MLB-VIDEOCASSETTE_PLAYERS</td>\n",
       "      <td>MLB-VIDEOCASSETTE_PLAYERS</td>\n",
       "      <td>None</td>\n",
       "      <td>None</td>\n",
       "    </tr>\n",
       "  </tbody>\n",
       "</table>\n",
       "<p>413163 rows × 16 columns</p>\n",
       "</div>"
      ],
      "text/plain": [
       "        item_bought                    domain_id_item_bought  \\\n",
       "0            394965                         MLB-PRINTER_INKS   \n",
       "1            331081                    MLM-BAR_CODE_SCANNERS   \n",
       "2           1434557                          MLB-WRENCH_SETS   \n",
       "3            492271                    MLM-CELLPHONE_SCREENS   \n",
       "4           1540965                                 MLB-MUGS   \n",
       "...             ...                                      ...   \n",
       "413158      2101186  MLB-INDUSTRIAL_AND_COMMERCIAL_EQUIPMENT   \n",
       "413159      2101232            MLB-UNIVERSAL_REMOTE_CONTROLS   \n",
       "413160      2101773                      MLB-FOOTBALL_SHIRTS   \n",
       "413161      2102136                    MLB-OPERATING_SYSTEMS   \n",
       "413162      2102182            MLB-FACIAL_SKIN_CARE_PRODUCTS   \n",
       "\n",
       "        most_viewed_item_1  most_viewed_item_2  last_viewed_item_1  \\\n",
       "0                 626904.0           1833895.0                 1.0   \n",
       "1                 331081.0            768359.0            768359.0   \n",
       "2                1100593.0             74407.0           1021802.0   \n",
       "3                     15.0            106702.0                15.0   \n",
       "4                 860111.0                33.0            194780.0   \n",
       "...                    ...                 ...                 ...   \n",
       "413158                 NaN                 NaN                 NaN   \n",
       "413159                 NaN                 NaN                 NaN   \n",
       "413160                 NaN                 NaN                 NaN   \n",
       "413161                 NaN                 NaN                 NaN   \n",
       "413162                 NaN                 NaN                 NaN   \n",
       "\n",
       "        last_viewed_item_2                       domain_id_most_viewed_item_1  \\\n",
       "0                      1.0                                  MLB-NETWORK_PLUGS   \n",
       "1                     11.0                              MLM-BAR_CODE_SCANNERS   \n",
       "2                     13.0                                         MLB-PLANTS   \n",
       "3                     15.0  MLM-GAME_CONSOLES_VIDEO_GAMES_AND_ARCADE_MACHINES   \n",
       "4                     33.0                                 MLB-BALL_PIT_BALLS   \n",
       "...                    ...                                                ...   \n",
       "413158                 NaN                                               None   \n",
       "413159                 NaN                                               None   \n",
       "413160                 NaN                                               None   \n",
       "413161                 NaN                                               None   \n",
       "413162                 NaN                                               None   \n",
       "\n",
       "                  domain_id_most_viewed_item_2  \\\n",
       "0       MLB-COMPUTER_EQUIPMENT_AND_SPARE_PARTS   \n",
       "1                        MLM-BAR_CODE_SCANNERS   \n",
       "2                                 MLB-SPEAKERS   \n",
       "3                          MLM-CAR_LIGHT_BULBS   \n",
       "4                     MLB-INFLATABLE_BALL_PITS   \n",
       "...                                        ...   \n",
       "413158                                    None   \n",
       "413159                                    None   \n",
       "413160                                    None   \n",
       "413161                                    None   \n",
       "413162                                    None   \n",
       "\n",
       "                             domain_id_last_viewed_item_1  \\\n",
       "0                                   MLB-BOOTS_AND_BOOTIES   \n",
       "1                                   MLM-BAR_CODE_SCANNERS   \n",
       "2                                            MLB-SPEAKERS   \n",
       "3       MLM-GAME_CONSOLES_VIDEO_GAMES_AND_ARCADE_MACHINES   \n",
       "4                                          MLB-KIDS_TENTS   \n",
       "...                                                   ...   \n",
       "413158                                               None   \n",
       "413159                                               None   \n",
       "413160                                               None   \n",
       "413161                                               None   \n",
       "413162                                               None   \n",
       "\n",
       "                             domain_id_last_viewed_item_2  \\\n",
       "0                                   MLB-BOOTS_AND_BOOTIES   \n",
       "1                  MLM-COMPUTER_EQUIPMENT_AND_SPARE_PARTS   \n",
       "2                                            MLB-SPEAKERS   \n",
       "3       MLM-GAME_CONSOLES_VIDEO_GAMES_AND_ARCADE_MACHINES   \n",
       "4                                MLB-INFLATABLE_BALL_PITS   \n",
       "...                                                   ...   \n",
       "413158                                               None   \n",
       "413159                                               None   \n",
       "413160                                               None   \n",
       "413161                                               None   \n",
       "413162                                               None   \n",
       "\n",
       "         most_viewed_domain_1  \\\n",
       "0                   MLB-TOOLS   \n",
       "1       MLM-BAR_CODE_SCANNERS   \n",
       "2                MLB-SPEAKERS   \n",
       "3         MLM-CAR_LIGHT_BULBS   \n",
       "4          MLB-BALL_PIT_BALLS   \n",
       "...                       ...   \n",
       "413158                   None   \n",
       "413159                   None   \n",
       "413160                   None   \n",
       "413161                   None   \n",
       "413162                   None   \n",
       "\n",
       "                                     most_viewed_domain_2  \\\n",
       "0                                       MLB-HATS_AND_CAPS   \n",
       "1                  MLM-COMPUTER_EQUIPMENT_AND_SPARE_PARTS   \n",
       "2                                    MLB-TV_STORAGE_UNITS   \n",
       "3       MLM-GAME_CONSOLES_VIDEO_GAMES_AND_ARCADE_MACHINES   \n",
       "4                                MLB-INFLATABLE_BALL_PITS   \n",
       "...                                                   ...   \n",
       "413158                                               None   \n",
       "413159                                               None   \n",
       "413160                                               None   \n",
       "413161                                               None   \n",
       "413162                                               None   \n",
       "\n",
       "       domain_id_most_searched_ngram_1 domain_id_most_searched_ngram_2  \\\n",
       "0                                 None                            None   \n",
       "1                                 None                            None   \n",
       "2                                 None                            None   \n",
       "3                                 None                            None   \n",
       "4                                 None                            None   \n",
       "...                                ...                             ...   \n",
       "413158                        MLB-HOES     MLB-GLAZED_DISPLAY_CABINETS   \n",
       "413159           MLB-WIRELESS_CHARGERS           MLB-WIRELESS_CHARGERS   \n",
       "413160                     MLM-TV_SMPS                    MLB-T_SHIRTS   \n",
       "413161              MLM-LASER_POINTERS                      MLB-ANVILS   \n",
       "413162       MLB-VIDEOCASSETTE_PLAYERS       MLB-VIDEOCASSETTE_PLAYERS   \n",
       "\n",
       "       domain_id_last_searched_1 domain_id_last_searched_2  \n",
       "0                           None                      None  \n",
       "1                           None                      None  \n",
       "2                           None                      None  \n",
       "3                           None                      None  \n",
       "4                           None                      None  \n",
       "...                          ...                       ...  \n",
       "413158                      None                      None  \n",
       "413159                      None                      None  \n",
       "413160                      None                      None  \n",
       "413161                      None                      None  \n",
       "413162                      None                      None  \n",
       "\n",
       "[413163 rows x 16 columns]"
      ]
     },
     "execution_count": 6,
     "metadata": {},
     "output_type": "execute_result"
    }
   ],
   "source": [
    "df_train"
   ]
  },
  {
   "cell_type": "code",
   "execution_count": 7,
   "metadata": {},
   "outputs": [],
   "source": [
    "item_filename = 'data/interim/item_data.parquet'\n",
    "cols_load_test = ['item_id', 'domain_id', 'domain_code']\n",
    "df_item = pd.read_parquet(os.path.join(path, item_filename), columns=cols_load_test)"
   ]
  },
  {
   "cell_type": "code",
   "execution_count": 8,
   "metadata": {},
   "outputs": [
    {
     "data": {
      "text/html": [
       "<div>\n",
       "<style scoped>\n",
       "    .dataframe tbody tr th:only-of-type {\n",
       "        vertical-align: middle;\n",
       "    }\n",
       "\n",
       "    .dataframe tbody tr th {\n",
       "        vertical-align: top;\n",
       "    }\n",
       "\n",
       "    .dataframe thead th {\n",
       "        text-align: right;\n",
       "    }\n",
       "</style>\n",
       "<table border=\"1\" class=\"dataframe\">\n",
       "  <thead>\n",
       "    <tr style=\"text-align: right;\">\n",
       "      <th></th>\n",
       "      <th>item_id</th>\n",
       "      <th>domain_id</th>\n",
       "      <th>domain_code</th>\n",
       "    </tr>\n",
       "  </thead>\n",
       "  <tbody>\n",
       "    <tr>\n",
       "      <th>0</th>\n",
       "      <td>111260</td>\n",
       "      <td>MLM-INDIVIDUAL_HOUSES_FOR_SALE</td>\n",
       "      <td>6105.0</td>\n",
       "    </tr>\n",
       "    <tr>\n",
       "      <th>1</th>\n",
       "      <td>871377</td>\n",
       "      <td>MLM-VIDEO_GAMES</td>\n",
       "      <td>7752.0</td>\n",
       "    </tr>\n",
       "    <tr>\n",
       "      <th>2</th>\n",
       "      <td>490232</td>\n",
       "      <td>MLM-SKIRTS</td>\n",
       "      <td>7273.0</td>\n",
       "    </tr>\n",
       "    <tr>\n",
       "      <th>3</th>\n",
       "      <td>1150706</td>\n",
       "      <td>MLM-GRAPHICS_CARDS</td>\n",
       "      <td>5890.0</td>\n",
       "    </tr>\n",
       "    <tr>\n",
       "      <th>4</th>\n",
       "      <td>934912</td>\n",
       "      <td>MLM-NOTEBOOKS</td>\n",
       "      <td>6705.0</td>\n",
       "    </tr>\n",
       "    <tr>\n",
       "      <th>...</th>\n",
       "      <td>...</td>\n",
       "      <td>...</td>\n",
       "      <td>...</td>\n",
       "    </tr>\n",
       "    <tr>\n",
       "      <th>2102272</th>\n",
       "      <td>1099649</td>\n",
       "      <td>MLB-BABY_STROLLERS</td>\n",
       "      <td>445.0</td>\n",
       "    </tr>\n",
       "    <tr>\n",
       "      <th>2102273</th>\n",
       "      <td>1482187</td>\n",
       "      <td>MLB-KITCHEN_SUPPLIES</td>\n",
       "      <td>2312.0</td>\n",
       "    </tr>\n",
       "    <tr>\n",
       "      <th>2102274</th>\n",
       "      <td>1118904</td>\n",
       "      <td>MLB-SOCKS</td>\n",
       "      <td>3526.0</td>\n",
       "    </tr>\n",
       "    <tr>\n",
       "      <th>2102275</th>\n",
       "      <td>237229</td>\n",
       "      <td>MLB-DISPOSABLE_BABY_DIAPERS</td>\n",
       "      <td>1290.0</td>\n",
       "    </tr>\n",
       "    <tr>\n",
       "      <th>2102276</th>\n",
       "      <td>2010306</td>\n",
       "      <td>MLB-VEHICLE_ACCESSORIES</td>\n",
       "      <td>3983.0</td>\n",
       "    </tr>\n",
       "  </tbody>\n",
       "</table>\n",
       "<p>2102277 rows × 3 columns</p>\n",
       "</div>"
      ],
      "text/plain": [
       "         item_id                       domain_id  domain_code\n",
       "0         111260  MLM-INDIVIDUAL_HOUSES_FOR_SALE       6105.0\n",
       "1         871377                 MLM-VIDEO_GAMES       7752.0\n",
       "2         490232                      MLM-SKIRTS       7273.0\n",
       "3        1150706              MLM-GRAPHICS_CARDS       5890.0\n",
       "4         934912                   MLM-NOTEBOOKS       6705.0\n",
       "...          ...                             ...          ...\n",
       "2102272  1099649              MLB-BABY_STROLLERS        445.0\n",
       "2102273  1482187            MLB-KITCHEN_SUPPLIES       2312.0\n",
       "2102274  1118904                       MLB-SOCKS       3526.0\n",
       "2102275   237229     MLB-DISPOSABLE_BABY_DIAPERS       1290.0\n",
       "2102276  2010306         MLB-VEHICLE_ACCESSORIES       3983.0\n",
       "\n",
       "[2102277 rows x 3 columns]"
      ]
     },
     "execution_count": 8,
     "metadata": {},
     "output_type": "execute_result"
    }
   ],
   "source": [
    "df_item"
   ]
  },
  {
   "cell_type": "markdown",
   "metadata": {},
   "source": [
    "# Feature\n",
    "\n",
    "## Top most bought items for each domain"
   ]
  },
  {
   "cell_type": "code",
   "execution_count": 8,
   "metadata": {},
   "outputs": [
    {
     "data": {
      "text/html": [
       "<div>\n",
       "<style scoped>\n",
       "    .dataframe tbody tr th:only-of-type {\n",
       "        vertical-align: middle;\n",
       "    }\n",
       "\n",
       "    .dataframe tbody tr th {\n",
       "        vertical-align: top;\n",
       "    }\n",
       "\n",
       "    .dataframe thead th {\n",
       "        text-align: right;\n",
       "    }\n",
       "</style>\n",
       "<table border=\"1\" class=\"dataframe\">\n",
       "  <thead>\n",
       "    <tr style=\"text-align: right;\">\n",
       "      <th></th>\n",
       "      <th></th>\n",
       "      <th>index</th>\n",
       "    </tr>\n",
       "    <tr>\n",
       "      <th>domain_id_item_bought</th>\n",
       "      <th>item_bought</th>\n",
       "      <th></th>\n",
       "    </tr>\n",
       "  </thead>\n",
       "  <tbody>\n",
       "    <tr>\n",
       "      <th rowspan=\"4\" valign=\"top\">MLM-YOGA_MATS</th>\n",
       "      <th>854504</th>\n",
       "      <td>8</td>\n",
       "    </tr>\n",
       "    <tr>\n",
       "      <th>1895261</th>\n",
       "      <td>5</td>\n",
       "    </tr>\n",
       "    <tr>\n",
       "      <th>1174364</th>\n",
       "      <td>4</td>\n",
       "    </tr>\n",
       "    <tr>\n",
       "      <th>778139</th>\n",
       "      <td>1</td>\n",
       "    </tr>\n",
       "    <tr>\n",
       "      <th>MLM-XENON_KITS</th>\n",
       "      <th>316218</th>\n",
       "      <td>5</td>\n",
       "    </tr>\n",
       "    <tr>\n",
       "      <th>...</th>\n",
       "      <th>...</th>\n",
       "      <td>...</td>\n",
       "    </tr>\n",
       "    <tr>\n",
       "      <th rowspan=\"3\" valign=\"top\">MLB-ABDOMINAL_TONING_BELTS</th>\n",
       "      <th>583001</th>\n",
       "      <td>1</td>\n",
       "    </tr>\n",
       "    <tr>\n",
       "      <th>1243213</th>\n",
       "      <td>1</td>\n",
       "    </tr>\n",
       "    <tr>\n",
       "      <th>1414850</th>\n",
       "      <td>1</td>\n",
       "    </tr>\n",
       "    <tr>\n",
       "      <th>MLB-3D_PRINTERS</th>\n",
       "      <th>588264</th>\n",
       "      <td>1</td>\n",
       "    </tr>\n",
       "    <tr>\n",
       "      <th>MLB-3D_PENS</th>\n",
       "      <th>839217</th>\n",
       "      <td>15</td>\n",
       "    </tr>\n",
       "  </tbody>\n",
       "</table>\n",
       "<p>64928 rows × 1 columns</p>\n",
       "</div>"
      ],
      "text/plain": [
       "                                        index\n",
       "domain_id_item_bought      item_bought       \n",
       "MLM-YOGA_MATS              854504           8\n",
       "                           1895261          5\n",
       "                           1174364          4\n",
       "                           778139           1\n",
       "MLM-XENON_KITS             316218           5\n",
       "...                                       ...\n",
       "MLB-ABDOMINAL_TONING_BELTS 583001           1\n",
       "                           1243213          1\n",
       "                           1414850          1\n",
       "MLB-3D_PRINTERS            588264           1\n",
       "MLB-3D_PENS                839217          15\n",
       "\n",
       "[64928 rows x 1 columns]"
      ]
     },
     "execution_count": 8,
     "metadata": {},
     "output_type": "execute_result"
    }
   ],
   "source": [
    "(df_train[['domain_id_item_bought','item_bought']]\n",
    " .reset_index()\n",
    " .groupby(by=['domain_id_item_bought','item_bought'])\n",
    " .count()\n",
    " .sort_values(by=['domain_id_item_bought','index'], ascending=False))"
   ]
  },
  {
   "cell_type": "markdown",
   "metadata": {},
   "source": [
    "## Top 30 domains with the most purchases"
   ]
  },
  {
   "cell_type": "code",
   "execution_count": 9,
   "metadata": {},
   "outputs": [
    {
     "data": {
      "text/html": [
       "<div>\n",
       "<style scoped>\n",
       "    .dataframe tbody tr th:only-of-type {\n",
       "        vertical-align: middle;\n",
       "    }\n",
       "\n",
       "    .dataframe tbody tr th {\n",
       "        vertical-align: top;\n",
       "    }\n",
       "\n",
       "    .dataframe thead th {\n",
       "        text-align: right;\n",
       "    }\n",
       "</style>\n",
       "<table border=\"1\" class=\"dataframe\">\n",
       "  <thead>\n",
       "    <tr style=\"text-align: right;\">\n",
       "      <th></th>\n",
       "      <th>item_bought</th>\n",
       "    </tr>\n",
       "    <tr>\n",
       "      <th>domain_id_item_bought</th>\n",
       "      <th></th>\n",
       "    </tr>\n",
       "  </thead>\n",
       "  <tbody>\n",
       "    <tr>\n",
       "      <th>MLB-CELLPHONES</th>\n",
       "      <td>25070</td>\n",
       "    </tr>\n",
       "    <tr>\n",
       "      <th>MLB-SNEAKERS</th>\n",
       "      <td>14608</td>\n",
       "    </tr>\n",
       "    <tr>\n",
       "      <th>MLB-SUPPLEMENTS</th>\n",
       "      <td>9562</td>\n",
       "    </tr>\n",
       "    <tr>\n",
       "      <th>MLB-HEADPHONES</th>\n",
       "      <td>9053</td>\n",
       "    </tr>\n",
       "    <tr>\n",
       "      <th>MLB-SMARTWATCHES</th>\n",
       "      <td>7963</td>\n",
       "    </tr>\n",
       "    <tr>\n",
       "      <th>MLB-DOLLS</th>\n",
       "      <td>4915</td>\n",
       "    </tr>\n",
       "    <tr>\n",
       "      <th>MLB-VIDEO_GAMES</th>\n",
       "      <td>4637</td>\n",
       "    </tr>\n",
       "    <tr>\n",
       "      <th>MLM-HEADPHONES</th>\n",
       "      <td>4603</td>\n",
       "    </tr>\n",
       "    <tr>\n",
       "      <th>MLB-BOOTS_AND_BOOTIES</th>\n",
       "      <td>4325</td>\n",
       "    </tr>\n",
       "    <tr>\n",
       "      <th>MLB-STREAMING_MEDIA_DEVICES</th>\n",
       "      <td>4104</td>\n",
       "    </tr>\n",
       "    <tr>\n",
       "      <th>MLB-T_SHIRTS</th>\n",
       "      <td>3746</td>\n",
       "    </tr>\n",
       "    <tr>\n",
       "      <th>MLB-PANTS</th>\n",
       "      <td>3443</td>\n",
       "    </tr>\n",
       "    <tr>\n",
       "      <th>MLB-SURVEILLANCE_CAMERAS</th>\n",
       "      <td>3443</td>\n",
       "    </tr>\n",
       "    <tr>\n",
       "      <th>MLB-HAIR_TREATMENTS</th>\n",
       "      <td>3405</td>\n",
       "    </tr>\n",
       "    <tr>\n",
       "      <th>MLB-CELLPHONE_SCREENS</th>\n",
       "      <td>3047</td>\n",
       "    </tr>\n",
       "    <tr>\n",
       "      <th>MLB-WALL_AND_CEILING_LIGHTS</th>\n",
       "      <td>2970</td>\n",
       "    </tr>\n",
       "    <tr>\n",
       "      <th>MLB-SHORTS</th>\n",
       "      <td>2856</td>\n",
       "    </tr>\n",
       "    <tr>\n",
       "      <th>MLB-HARD_DRIVES_AND_SSDS</th>\n",
       "      <td>2843</td>\n",
       "    </tr>\n",
       "    <tr>\n",
       "      <th>MLB-SPEAKERS</th>\n",
       "      <td>2774</td>\n",
       "    </tr>\n",
       "    <tr>\n",
       "      <th>MLM-CELLPHONE_COVERS</th>\n",
       "      <td>2698</td>\n",
       "    </tr>\n",
       "    <tr>\n",
       "      <th>MLB-SANDALS_AND_FLIP_FLOPS</th>\n",
       "      <td>2600</td>\n",
       "    </tr>\n",
       "    <tr>\n",
       "      <th>MLB-WRISTWATCHES</th>\n",
       "      <td>2561</td>\n",
       "    </tr>\n",
       "    <tr>\n",
       "      <th>MLB-DRESSES</th>\n",
       "      <td>2536</td>\n",
       "    </tr>\n",
       "    <tr>\n",
       "      <th>MLB-MICROWAVES</th>\n",
       "      <td>2442</td>\n",
       "    </tr>\n",
       "    <tr>\n",
       "      <th>MLB-GEL_NAIL_KITS</th>\n",
       "      <td>2294</td>\n",
       "    </tr>\n",
       "    <tr>\n",
       "      <th>MLB-FANS</th>\n",
       "      <td>2201</td>\n",
       "    </tr>\n",
       "    <tr>\n",
       "      <th>MLB-HAIR_CLIPPERS</th>\n",
       "      <td>2160</td>\n",
       "    </tr>\n",
       "    <tr>\n",
       "      <th>MLB-ACTION_FIGURES</th>\n",
       "      <td>2106</td>\n",
       "    </tr>\n",
       "    <tr>\n",
       "      <th>MLB-MALE_UNDERWEAR</th>\n",
       "      <td>2069</td>\n",
       "    </tr>\n",
       "    <tr>\n",
       "      <th>MLB-FLEA_AND_TICK_TREATMENTS</th>\n",
       "      <td>2050</td>\n",
       "    </tr>\n",
       "  </tbody>\n",
       "</table>\n",
       "</div>"
      ],
      "text/plain": [
       "                              item_bought\n",
       "domain_id_item_bought                    \n",
       "MLB-CELLPHONES                      25070\n",
       "MLB-SNEAKERS                        14608\n",
       "MLB-SUPPLEMENTS                      9562\n",
       "MLB-HEADPHONES                       9053\n",
       "MLB-SMARTWATCHES                     7963\n",
       "MLB-DOLLS                            4915\n",
       "MLB-VIDEO_GAMES                      4637\n",
       "MLM-HEADPHONES                       4603\n",
       "MLB-BOOTS_AND_BOOTIES                4325\n",
       "MLB-STREAMING_MEDIA_DEVICES          4104\n",
       "MLB-T_SHIRTS                         3746\n",
       "MLB-PANTS                            3443\n",
       "MLB-SURVEILLANCE_CAMERAS             3443\n",
       "MLB-HAIR_TREATMENTS                  3405\n",
       "MLB-CELLPHONE_SCREENS                3047\n",
       "MLB-WALL_AND_CEILING_LIGHTS          2970\n",
       "MLB-SHORTS                           2856\n",
       "MLB-HARD_DRIVES_AND_SSDS             2843\n",
       "MLB-SPEAKERS                         2774\n",
       "MLM-CELLPHONE_COVERS                 2698\n",
       "MLB-SANDALS_AND_FLIP_FLOPS           2600\n",
       "MLB-WRISTWATCHES                     2561\n",
       "MLB-DRESSES                          2536\n",
       "MLB-MICROWAVES                       2442\n",
       "MLB-GEL_NAIL_KITS                    2294\n",
       "MLB-FANS                             2201\n",
       "MLB-HAIR_CLIPPERS                    2160\n",
       "MLB-ACTION_FIGURES                   2106\n",
       "MLB-MALE_UNDERWEAR                   2069\n",
       "MLB-FLEA_AND_TICK_TREATMENTS         2050"
      ]
     },
     "execution_count": 9,
     "metadata": {},
     "output_type": "execute_result"
    }
   ],
   "source": [
    "(df_train[['domain_id_item_bought','item_bought']]\n",
    ".groupby(by='domain_id_item_bought')\n",
    ".count()\n",
    ".sort_values(by='item_bought', ascending=False)).head(30)"
   ]
  },
  {
   "cell_type": "markdown",
   "metadata": {},
   "source": [
    "# Model"
   ]
  },
  {
   "cell_type": "markdown",
   "metadata": {},
   "source": [
    "## First heuristic\n",
    "\n",
    "### Introduction\n",
    "\n",
    "Based on the domains from the most viewed and last viewed itens, return a mixed suggestion list.\n",
    "\n",
    "Ex:\n"
   ]
  },
  {
   "cell_type": "code",
   "execution_count": 8,
   "metadata": {},
   "outputs": [
    {
     "data": {
      "text/plain": [
       "domain_id_most_viewed_item_1                            MLB-NETWORK_PLUGS\n",
       "domain_id_most_viewed_item_2       MLB-COMPUTER_EQUIPMENT_AND_SPARE_PARTS\n",
       "domain_id_last_viewed_item_1                        MLB-BOOTS_AND_BOOTIES\n",
       "domain_id_last_viewed_item_2                        MLB-BOOTS_AND_BOOTIES\n",
       "most_viewed_domain_1                                            MLB-TOOLS\n",
       "most_viewed_domain_2                                    MLB-HATS_AND_CAPS\n",
       "domain_id_most_searched_ngram_1                                      None\n",
       "domain_id_most_searched_ngram_2                                      None\n",
       "domain_id_last_searched_1                                            None\n",
       "domain_id_last_searched_2                                            None\n",
       "Name: 0, dtype: object"
      ]
     },
     "execution_count": 8,
     "metadata": {},
     "output_type": "execute_result"
    }
   ],
   "source": [
    "df_train.loc[0, cols_feat_domain]"
   ]
  },
  {
   "cell_type": "markdown",
   "metadata": {},
   "source": [
    "In this case the suggested items will be divided among MLB-BOOTS_AND_BOOTIES, MLB-NETWORK_PLUGS and MLB-COMPUTER_EQUIPMENT_AND_SPARE_PARTS. So three items from each domain +1 from one of them, to make up 10 items total.\n",
    "\n",
    "The first item to be recommended from each domain will come from its respective item feature (`last_viewed`, `most_viewed` or `most_searched`, if available)."
   ]
  },
  {
   "cell_type": "code",
   "execution_count": 11,
   "metadata": {},
   "outputs": [
    {
     "data": {
      "text/plain": [
       "1.0"
      ]
     },
     "execution_count": 11,
     "metadata": {},
     "output_type": "execute_result"
    }
   ],
   "source": [
    "df_train.loc[0, 'last_viewed_item_1']"
   ]
  },
  {
   "cell_type": "markdown",
   "metadata": {},
   "source": [
    "In this example, the `last_viewed_1` was `item_id` number 1 and that would be out recommended item.\n",
    "\n",
    "Now we still need to pick two more items from this domain. We'll pick the two most bought from the given domain (MLB-BOOTS_AND_BOOTIES in this example)."
   ]
  },
  {
   "cell_type": "markdown",
   "metadata": {},
   "source": [
    "We also need to be careful with the order of the recommendations.\n",
    "\n",
    "The recomendation order will be determined by the amount of sold items in each domain. For instance, we've seen above that MLB-CELLPHONES, MLB-SNEAKERS, MLB-SUPPLEMENTS and MLB-HEADPHONES are the top 4 domains in terms of sold items. In an event which these domains appear in the `domain_id_last_viewed_x` and `domain_id_most_viewed_y` features, in any order, we'd pick the items from MLB-CELLPHONES first, MLB-SNEAKERS next, MLB-SUPPLEMENTS and then finally MLB-HEADPHONES, when composing our recommendations.\n",
    "\n",
    "We'll also default to recommending the top bought items overall if all else fails.\n",
    "\n",
    "Another important point is to avoid repeating item recommendations since duplicate items are discarded during scoring."
   ]
  },
  {
   "cell_type": "markdown",
   "metadata": {},
   "source": [
    "### Implementation"
   ]
  },
  {
   "cell_type": "code",
   "execution_count": 8,
   "metadata": {},
   "outputs": [],
   "source": [
    "df_train_split, df_test_split = train_test_split(df_train, random_state=7)"
   ]
  },
  {
   "cell_type": "code",
   "execution_count": 9,
   "metadata": {},
   "outputs": [],
   "source": [
    "df_most_bought = (df_train_split[['domain_id_item_bought','item_bought']]\n",
    "                  .reset_index()\n",
    "                  .groupby(by=['domain_id_item_bought','item_bought'])\n",
    "                  .count()\n",
    "                  .sort_values(by=['domain_id_item_bought','index'], ascending=False))"
   ]
  },
  {
   "cell_type": "code",
   "execution_count": 11,
   "metadata": {},
   "outputs": [
    {
     "data": {
      "text/html": [
       "<div>\n",
       "<style scoped>\n",
       "    .dataframe tbody tr th:only-of-type {\n",
       "        vertical-align: middle;\n",
       "    }\n",
       "\n",
       "    .dataframe tbody tr th {\n",
       "        vertical-align: top;\n",
       "    }\n",
       "\n",
       "    .dataframe thead th {\n",
       "        text-align: right;\n",
       "    }\n",
       "</style>\n",
       "<table border=\"1\" class=\"dataframe\">\n",
       "  <thead>\n",
       "    <tr style=\"text-align: right;\">\n",
       "      <th></th>\n",
       "      <th></th>\n",
       "      <th>index</th>\n",
       "      <th>index_sum</th>\n",
       "    </tr>\n",
       "    <tr>\n",
       "      <th>domain_id_item_bought</th>\n",
       "      <th>item_bought</th>\n",
       "      <th></th>\n",
       "      <th></th>\n",
       "    </tr>\n",
       "  </thead>\n",
       "  <tbody>\n",
       "    <tr>\n",
       "      <th rowspan=\"4\" valign=\"top\">MLM-YOGA_MATS</th>\n",
       "      <th>854504</th>\n",
       "      <td>6</td>\n",
       "      <td>14</td>\n",
       "    </tr>\n",
       "    <tr>\n",
       "      <th>1895261</th>\n",
       "      <td>4</td>\n",
       "      <td>14</td>\n",
       "    </tr>\n",
       "    <tr>\n",
       "      <th>1174364</th>\n",
       "      <td>3</td>\n",
       "      <td>14</td>\n",
       "    </tr>\n",
       "    <tr>\n",
       "      <th>778139</th>\n",
       "      <td>1</td>\n",
       "      <td>14</td>\n",
       "    </tr>\n",
       "    <tr>\n",
       "      <th>MLM-XENON_KITS</th>\n",
       "      <th>316218</th>\n",
       "      <td>5</td>\n",
       "      <td>15</td>\n",
       "    </tr>\n",
       "    <tr>\n",
       "      <th>...</th>\n",
       "      <th>...</th>\n",
       "      <td>...</td>\n",
       "      <td>...</td>\n",
       "    </tr>\n",
       "    <tr>\n",
       "      <th rowspan=\"4\" valign=\"top\">MLB-ABDOMINAL_TONING_BELTS</th>\n",
       "      <th>1717031</th>\n",
       "      <td>2</td>\n",
       "      <td>85</td>\n",
       "    </tr>\n",
       "    <tr>\n",
       "      <th>71856</th>\n",
       "      <td>1</td>\n",
       "      <td>85</td>\n",
       "    </tr>\n",
       "    <tr>\n",
       "      <th>1243213</th>\n",
       "      <td>1</td>\n",
       "      <td>85</td>\n",
       "    </tr>\n",
       "    <tr>\n",
       "      <th>1414850</th>\n",
       "      <td>1</td>\n",
       "      <td>85</td>\n",
       "    </tr>\n",
       "    <tr>\n",
       "      <th>MLB-3D_PENS</th>\n",
       "      <th>839217</th>\n",
       "      <td>11</td>\n",
       "      <td>11</td>\n",
       "    </tr>\n",
       "  </tbody>\n",
       "</table>\n",
       "<p>58953 rows × 2 columns</p>\n",
       "</div>"
      ],
      "text/plain": [
       "                                        index  index_sum\n",
       "domain_id_item_bought      item_bought                  \n",
       "MLM-YOGA_MATS              854504           6         14\n",
       "                           1895261          4         14\n",
       "                           1174364          3         14\n",
       "                           778139           1         14\n",
       "MLM-XENON_KITS             316218           5         15\n",
       "...                                       ...        ...\n",
       "MLB-ABDOMINAL_TONING_BELTS 1717031          2         85\n",
       "                           71856            1         85\n",
       "                           1243213          1         85\n",
       "                           1414850          1         85\n",
       "MLB-3D_PENS                839217          11         11\n",
       "\n",
       "[58953 rows x 2 columns]"
      ]
     },
     "execution_count": 11,
     "metadata": {},
     "output_type": "execute_result"
    }
   ],
   "source": [
    "df_most_bought.join(df_most_bought\n",
    " .reset_index()[['domain_id_item_bought','index']]\n",
    " .groupby(by='domain_id_item_bought')\n",
    " .sum()\n",
    " .sort_values(by='index', ascending=False),\n",
    "                   how='left', rsuffix='_sum')"
   ]
  },
  {
   "cell_type": "code",
   "execution_count": 15,
   "metadata": {},
   "outputs": [
    {
     "data": {
      "text/plain": [
       "[854504, 316218, 1895261, 1766808, 1174364, 522546, 778139, 861906]"
      ]
     },
     "execution_count": 15,
     "metadata": {},
     "output_type": "execute_result"
    }
   ],
   "source": [
    "cols = ['MLM-YOGA_MATS','MLM-XENON_KITS']\n",
    "[i for items in (zip(*[df_most_bought.loc[c].head(10).index.values for c in cols])) for i in items]"
   ]
  },
  {
   "cell_type": "code",
   "execution_count": 16,
   "metadata": {},
   "outputs": [],
   "source": [
    "available_domains = (df_most_bought\n",
    "                     .reset_index()\n",
    "                     ['domain_id_item_bought']\n",
    "                     .unique())\n",
    "most_bought_items = [i[0] \n",
    "                     for i in \n",
    "                     (df_most_bought\n",
    "                      .sort_values(by='index', ascending=False)\n",
    "                      .head(10).values)]\n",
    "\n",
    "df_most_bought = (df_train_split[['domain_id_item_bought','item_bought']]\n",
    "                  .reset_index()\n",
    "                  .groupby(by=['domain_id_item_bought','item_bought'])\n",
    "                  .count()\n",
    "                  .sort_values(by=['domain_id_item_bought','index'], ascending=False))\n",
    "# Add information about the number of items bought per domain\n",
    "df_most_bought = df_most_bought.join(df_most_bought\n",
    "                                     .reset_index()[['domain_id_item_bought','index']]\n",
    "                                     .groupby(by='domain_id_item_bought')\n",
    "                                     .sum()\n",
    "                                     .sort_values(by='index', ascending=False),\n",
    "                                     how='left', rsuffix='_sum')"
   ]
  },
  {
   "cell_type": "code",
   "execution_count": 10,
   "metadata": {},
   "outputs": [],
   "source": [
    "# No ordering on the domains/items\n",
    "def predict_simple(row:pd.Series, cols_domain:list,\n",
    "                cols_item:list, df_most_bought:pd.DataFrame,\n",
    "                available_domains:list,\n",
    "                most_bought_items:list)->list:\n",
    "    \"\"\"\n",
    "    It's important that `cols_item` and `cols_domain` are aligned.\n",
    "    i.e. if the first elem from `cols_item` is `last_viewed_1`\n",
    "    then the first elem from `cols_domain` should be `domain_id_last_viewed_1`.\n",
    "    \"\"\"\n",
    "    valid_domains = [d for d in row[cols_domain].unique()\n",
    "                     if d in available_domains]\n",
    "    \n",
    "    pred_list = list(set(reduce(lambda x, y: x + [row[y]]\n",
    "                                if not np.isnan(row[y]) else x,\n",
    "                                cols_item, [])))\n",
    "    \n",
    "    # Interleave top 10 items from each viewed/searched domain\n",
    "    # and then flatten. We use this in order to recommend the\n",
    "    # top items from the viewed/searched domains.\n",
    "    top_items = [i \n",
    "                 for items in \n",
    "                 zip(*[df_most_bought.loc[c]\n",
    "                       .head(10).index.values\n",
    "                       for c in valid_domains])\n",
    "                 for i in items]\n",
    "    num_missing_items = 10 - len(pred_list)\n",
    "    pred_list.extend(top_items[:num_missing_items])\n",
    "    \n",
    "    # In case we have not reached 10 items in our recomendation\n",
    "    # list, we just return the top bought items overall.\n",
    "    num_missing_items = 10 - len(pred_list)\n",
    "    pred_list.extend(most_bought_items[:num_missing_items])\n",
    "    \n",
    "    pred_list = [int(x) for x in pred_list]\n",
    "    \n",
    "    return pred_list"
   ]
  },
  {
   "cell_type": "code",
   "execution_count": 6,
   "metadata": {},
   "outputs": [],
   "source": [
    "# No ordering on the domains/items\n",
    "# With voting\n",
    "def predict_vote(row:pd.Series, cols_domain:list,\n",
    "                cols_item:list, df_most_bought:pd.DataFrame,\n",
    "                available_domains:list,\n",
    "                most_bought_items:list)->list:\n",
    "    \"\"\"\n",
    "    It's important that `cols_item` and `cols_domain` are aligned.\n",
    "    i.e. if the first elem from `cols_item` is `last_viewed_1`\n",
    "    then the first elem from `cols_domain` should be `domain_id_last_viewed_1`.\n",
    "    \"\"\"\n",
    "    valid_domains = [d for d in row[cols_domain]\n",
    "                     if d in available_domains]\n",
    "    try:\n",
    "        top_domain = Counter(valid_domains).most_common(1)[0][0]\n",
    "    except IndexError as e:\n",
    "        top_domain = 'MLB-CELLPHONES'\n",
    "    \n",
    "    pred_list = list(set(reduce(lambda x, y: x + [row[y]]\n",
    "                                if not np.isnan(row[y]) else x,\n",
    "                                cols_item, [])))\n",
    "    \n",
    "    # Interleave top 10 items from each viewed/searched domain\n",
    "    # and then flatten. We use this in order to recommend the\n",
    "    # top items from the viewed/searched domains.\n",
    "    top_items = (df_most_bought.loc[top_domain]\n",
    "                 .head(10).index.values)\n",
    "\n",
    "    num_missing_items = 10 - len(pred_list)\n",
    "    pred_list.extend(top_items[:num_missing_items])\n",
    "    \n",
    "    # In case we have not reached 10 items in our recomendation\n",
    "    # list, we just return the top bought items overall.\n",
    "    num_missing_items = 10 - len(pred_list)\n",
    "    pred_list.extend(most_bought_items[:num_missing_items])\n",
    "    \n",
    "    pred_list = [int(x) for x in pred_list]\n",
    "    \n",
    "    return pred_list"
   ]
  },
  {
   "cell_type": "code",
   "execution_count": 12,
   "metadata": {},
   "outputs": [],
   "source": [
    "# Order domain/items by domains with most sold items\n",
    "def predict_ordered(row:pd.Series, cols_domain:list,\n",
    "            cols_item:list, df_most_bought:pd.DataFrame,\n",
    "            available_domains:list,\n",
    "            most_bought_items:list)->list:\n",
    "    \"\"\"\n",
    "    It's important that `cols_item` and `cols_domain` are aligned.\n",
    "    i.e. if the first elem from `cols_item` is `last_viewed_1`\n",
    "    then the first elem from `cols_domain` should be `domain_id_last_viewed_1`.\n",
    "    \"\"\"\n",
    "    valid_domains = [d for d in row[cols_domain].unique()\n",
    "                     if d in available_domains]\n",
    "    num_bought_domain = [df_most_bought.loc[v,'index_sum'].values[0]\n",
    "                         for v in valid_domains]\n",
    "    \n",
    "    sorted_items = sorted(zip(row[cols_item],num_bought_domain),\n",
    "                          key=lambda t: t[1], reverse=True)\n",
    "    pred_list = list(filter(lambda i: not np.isnan(i),\n",
    "                            set([x[0] for x in sorted_items])))\n",
    "    \n",
    "    # Interleave top 10 items from each viewed/searched domain\n",
    "    # and then flatten. We use this in order to recommend the\n",
    "    # top items from the viewed/searched domains.\n",
    "    \n",
    "    sorted_domains = [d[0]\n",
    "                      for d in\n",
    "                      sorted(zip(valid_domains, num_bought_domain),\n",
    "                             key=lambda t: t[1], reverse=True)]\n",
    "    top_items = [i \n",
    "                 for items in \n",
    "                 zip(*[df_most_bought.loc[c]\n",
    "                       .head(10).index.values\n",
    "                       for c in valid_domains])\n",
    "                 for i in items]\n",
    "    num_missing_items = 10 - len(pred_list)\n",
    "    pred_list.extend(top_items[:num_missing_items])\n",
    "    \n",
    "    # In case we have not reached 10 items in our recomendation\n",
    "    # list, we just return the top bought items overall.\n",
    "    num_missing_items = 10 - len(pred_list)\n",
    "    pred_list.extend(most_bought_items[:num_missing_items])\n",
    "    \n",
    "    pred_list = [int(x) for x in pred_list]\n",
    "    \n",
    "    return pred_list"
   ]
  },
  {
   "cell_type": "markdown",
   "metadata": {},
   "source": [
    "# Experiments"
   ]
  },
  {
   "cell_type": "code",
   "execution_count": 54,
   "metadata": {},
   "outputs": [],
   "source": [
    "#Auxiliary function from ML\n",
    "def jl_to_list(fname):\n",
    "    output = []\n",
    "    with gzip.open(fname, 'rb') as f:\n",
    "        for line in f:\n",
    "            output.append(json.loads(line))\n",
    "    return output"
   ]
  },
  {
   "cell_type": "code",
   "execution_count": 55,
   "metadata": {},
   "outputs": [],
   "source": [
    "path = '../'\n",
    "item_data = jl_to_list(os.path.join(path,'data/raw/item_data.jl.gz'))"
   ]
  },
  {
   "cell_type": "markdown",
   "metadata": {},
   "source": [
    "## All domain features"
   ]
  },
  {
   "cell_type": "markdown",
   "metadata": {},
   "source": [
    "### Simple"
   ]
  },
  {
   "cell_type": "code",
   "execution_count": 20,
   "metadata": {},
   "outputs": [],
   "source": [
    "predict_ = partial(predict_simple, cols_domain=cols_feat_domain,\n",
    "                   cols_item=cols_item,\n",
    "                   df_most_bought=df_most_bought,\n",
    "                   available_domains=available_domains,\n",
    "                   most_bought_items=most_bought_items)"
   ]
  },
  {
   "cell_type": "code",
   "execution_count": 21,
   "metadata": {},
   "outputs": [
    {
     "name": "stdout",
     "output_type": "stream",
     "text": [
      "CPU times: user 3min 17s, sys: 290 ms, total: 3min 18s\n",
      "Wall time: 3min 19s\n"
     ]
    }
   ],
   "source": [
    "%%time\n",
    "y_pred = df_test_split.apply(predict_, axis=1).values"
   ]
  },
  {
   "cell_type": "code",
   "execution_count": 22,
   "metadata": {},
   "outputs": [
    {
     "data": {
      "text/plain": [
       "array([list([702360, 1609412, 1198853, 1969824, 501048, 624374, 1818325, 100484, 88545, 331585]),\n",
       "       list([1354549, 9643, 1944909, 37223, 1567936, 1628496, 1433166, 649361, 1197718, 615995]),\n",
       "       list([882697, 1710131, 197884, 859574, 2028013, 1371799, 301390, 1332849, 795772, 1098739]),\n",
       "       list([1769201, 1140650, 2082809, 1344440, 37718, 1563480, 1843174, 1297894, 362475, 2042014]),\n",
       "       list([236729, 1839702, 1055848, 1628484, 1017181, 1494195, 2071025, 347256, 1713316, 1145230]),\n",
       "       list([1417407, 1781650, 2058598, 1263983, 457734, 443430, 1673835, 1151909, 1020256, 766628]),\n",
       "       list([533194, 451314, 1533900, 340102, 116771, 1385320, 583139, 754274, 1506037, 29021]),\n",
       "       list([1699907, 430252, 1887359, 1404005, 1779261, 100838, 717628, 585850, 1142113, 2047913]),\n",
       "       list([1771696, 613068, 2065319, 1469766, 1735418, 7244, 393734, 777247, 1561930, 132800]),\n",
       "       list([1317448, 1080242, 64837, 868959, 441418, 2037039, 412, 292, 291, 259])],\n",
       "      dtype=object)"
      ]
     },
     "execution_count": 22,
     "metadata": {},
     "output_type": "execute_result"
    }
   ],
   "source": [
    "y_pred[:10]"
   ]
  },
  {
   "cell_type": "code",
   "execution_count": 25,
   "metadata": {},
   "outputs": [],
   "source": [
    "y_true = df_test_split['item_bought'].values"
   ]
  },
  {
   "cell_type": "code",
   "execution_count": 26,
   "metadata": {},
   "outputs": [
    {
     "name": "stdout",
     "output_type": "stream",
     "text": [
      "CPU times: user 3.77 s, sys: 332 ms, total: 4.11 s\n",
      "Wall time: 4.12 s\n"
     ]
    }
   ],
   "source": [
    "%%time\n",
    "score = ndcg_score(y_true, y_pred, item_data, n_predictions=10)"
   ]
  },
  {
   "cell_type": "code",
   "execution_count": 27,
   "metadata": {},
   "outputs": [
    {
     "data": {
      "text/plain": [
       "0.23140759403311448"
      ]
     },
     "execution_count": 27,
     "metadata": {},
     "output_type": "execute_result"
    }
   ],
   "source": [
    "score"
   ]
  },
  {
   "cell_type": "markdown",
   "metadata": {},
   "source": [
    "### Vote"
   ]
  },
  {
   "cell_type": "code",
   "execution_count": 28,
   "metadata": {},
   "outputs": [],
   "source": [
    "predict_ = partial(predict_vote, cols_domain=cols_feat_domain,\n",
    "                   cols_item=cols_item,\n",
    "                   df_most_bought=df_most_bought,\n",
    "                   available_domains=available_domains,\n",
    "                   most_bought_items=most_bought_items)"
   ]
  },
  {
   "cell_type": "code",
   "execution_count": 29,
   "metadata": {},
   "outputs": [
    {
     "name": "stdout",
     "output_type": "stream",
     "text": [
      "CPU times: user 3min 12s, sys: 279 ms, total: 3min 13s\n",
      "Wall time: 3min 13s\n"
     ]
    }
   ],
   "source": [
    "%%time\n",
    "y_pred = df_test_split.apply(predict_, axis=1).values"
   ]
  },
  {
   "cell_type": "code",
   "execution_count": 30,
   "metadata": {},
   "outputs": [
    {
     "data": {
      "text/plain": [
       "array([list([702360, 1609412, 1198853, 1969824, 501048, 88545, 987327, 657474, 999089, 929184]),\n",
       "       list([1354549, 9643, 1944909, 37223, 1567936, 649361, 1600440, 120284, 863572, 412]),\n",
       "       list([882697, 1710131, 197884, 859574, 1371799, 1332849, 1098739, 882697, 98853, 119703]),\n",
       "       list([1769201, 1140650, 2082809, 1344440, 1563480, 1297894, 2042014, 896262, 1244919, 1803825]),\n",
       "       list([236729, 1839702, 1055848, 1017181, 2071025, 1713316, 1039418, 149802, 1841823, 1694827]),\n",
       "       list([1417407, 1781650, 2058598, 1263983, 457734, 1151909, 1617443, 412, 292, 291]),\n",
       "       list([533194, 451314, 1533900, 116771, 583139, 1506037, 1336864, 122562, 195578, 315761]),\n",
       "       list([1699907, 430252, 1887359, 1779261, 585850, 2076567, 573279, 200082, 469802, 1202417]),\n",
       "       list([1771696, 613068, 2065319, 1469766, 1735418, 7244, 393734, 777247, 1561930, 132800]),\n",
       "       list([1317448, 1080242, 64837, 868959, 441418, 351968, 2069194, 1331091, 1705893, 1044110])],\n",
       "      dtype=object)"
      ]
     },
     "execution_count": 30,
     "metadata": {},
     "output_type": "execute_result"
    }
   ],
   "source": [
    "y_pred[:10]"
   ]
  },
  {
   "cell_type": "code",
   "execution_count": 31,
   "metadata": {},
   "outputs": [],
   "source": [
    "y_true = df_test_split['item_bought'].values"
   ]
  },
  {
   "cell_type": "code",
   "execution_count": 32,
   "metadata": {},
   "outputs": [
    {
     "name": "stdout",
     "output_type": "stream",
     "text": [
      "CPU times: user 3.28 s, sys: 256 ms, total: 3.54 s\n",
      "Wall time: 3.55 s\n"
     ]
    }
   ],
   "source": [
    "%%time\n",
    "score = ndcg_score(y_true, y_pred, item_data, n_predictions=10)"
   ]
  },
  {
   "cell_type": "code",
   "execution_count": 33,
   "metadata": {},
   "outputs": [
    {
     "data": {
      "text/plain": [
       "0.24133640993122316"
      ]
     },
     "execution_count": 33,
     "metadata": {},
     "output_type": "execute_result"
    }
   ],
   "source": [
    "score"
   ]
  },
  {
   "cell_type": "markdown",
   "metadata": {},
   "source": [
    "### Ordered"
   ]
  },
  {
   "cell_type": "code",
   "execution_count": 35,
   "metadata": {},
   "outputs": [],
   "source": [
    "predict_ = partial(predict_ordered, cols_domain=cols_feat_domain,\n",
    "                   cols_item=cols_item,\n",
    "                   df_most_bought=df_most_bought,\n",
    "                   available_domains=available_domains,\n",
    "                   most_bought_items=most_bought_items)"
   ]
  },
  {
   "cell_type": "code",
   "execution_count": 36,
   "metadata": {},
   "outputs": [
    {
     "name": "stdout",
     "output_type": "stream",
     "text": [
      "CPU times: user 5min 48s, sys: 270 ms, total: 5min 48s\n",
      "Wall time: 5min 50s\n"
     ]
    }
   ],
   "source": [
    "%%time\n",
    "y_pred = df_test_split.apply(predict_, axis=1).values"
   ]
  },
  {
   "cell_type": "code",
   "execution_count": 37,
   "metadata": {},
   "outputs": [
    {
     "data": {
      "text/plain": [
       "array([list([702360, 1609412, 1198853, 1969824, 501048, 624374, 1818325, 100484, 88545, 331585]),\n",
       "       list([9643, 1944909, 37223, 1567936, 1628496, 1433166, 649361, 1197718, 615995, 1600440]),\n",
       "       list([882697, 1710131, 859574, 2028013, 1371799, 301390, 1332849, 795772, 1098739, 1523773]),\n",
       "       list([1769201, 1140650, 1344440, 37718, 1563480, 1843174, 1297894, 362475, 2042014, 163051]),\n",
       "       list([236729, 1839702, 1055848, 1628484, 1017181, 1494195, 2071025, 347256, 1713316, 1145230]),\n",
       "       list([1781650, 2058598, 1263983, 457734, 443430, 1673835, 1151909, 1020256, 766628, 412]),\n",
       "       list([533194, 451314, 1533900, 340102, 116771, 1385320, 583139, 754274, 1506037, 29021]),\n",
       "       list([1699907, 430252, 1887359, 1404005, 1779261, 100838, 717628, 585850, 1142113, 2047913]),\n",
       "       list([1771696, 613068, 2065319, 1469766, 1735418, 7244, 393734, 777247, 1561930, 132800]),\n",
       "       list([64837, 868959, 441418, 2037039, 412, 292, 291, 259, 256, 255])],\n",
       "      dtype=object)"
      ]
     },
     "execution_count": 37,
     "metadata": {},
     "output_type": "execute_result"
    }
   ],
   "source": [
    "y_pred[:10]"
   ]
  },
  {
   "cell_type": "code",
   "execution_count": 38,
   "metadata": {},
   "outputs": [],
   "source": [
    "y_true = df_test_split['item_bought'].values"
   ]
  },
  {
   "cell_type": "code",
   "execution_count": 39,
   "metadata": {},
   "outputs": [
    {
     "name": "stdout",
     "output_type": "stream",
     "text": [
      "CPU times: user 3.55 s, sys: 266 ms, total: 3.82 s\n",
      "Wall time: 3.83 s\n"
     ]
    }
   ],
   "source": [
    "%%time\n",
    "score = ndcg_score(y_true, y_pred, item_data, n_predictions=10)"
   ]
  },
  {
   "cell_type": "code",
   "execution_count": 40,
   "metadata": {},
   "outputs": [
    {
     "data": {
      "text/plain": [
       "0.22479317017843778"
      ]
     },
     "execution_count": 40,
     "metadata": {},
     "output_type": "execute_result"
    }
   ],
   "source": [
    "score"
   ]
  },
  {
   "cell_type": "markdown",
   "metadata": {},
   "source": [
    "## No last searched feature"
   ]
  },
  {
   "cell_type": "code",
   "execution_count": 64,
   "metadata": {},
   "outputs": [],
   "source": [
    "cols_feat_domain_no_last = [c for c in cols_feat_domain\n",
    "                            if c not in cols_searched_domain]"
   ]
  },
  {
   "cell_type": "markdown",
   "metadata": {},
   "source": [
    "### Simple"
   ]
  },
  {
   "cell_type": "code",
   "execution_count": 65,
   "metadata": {},
   "outputs": [],
   "source": [
    "predict_ = partial(predict_simple, cols_domain=cols_feat_domain_no_last,\n",
    "                   cols_item=cols_item,\n",
    "                   df_most_bought=df_most_bought,\n",
    "                   available_domains=available_domains,\n",
    "                   most_bought_items=most_bought_items)"
   ]
  },
  {
   "cell_type": "code",
   "execution_count": 66,
   "metadata": {},
   "outputs": [
    {
     "name": "stdout",
     "output_type": "stream",
     "text": [
      "CPU times: user 3min 11s, sys: 284 ms, total: 3min 11s\n",
      "Wall time: 3min 12s\n"
     ]
    }
   ],
   "source": [
    "%%time\n",
    "y_pred = df_test_split.apply(predict_, axis=1).values"
   ]
  },
  {
   "cell_type": "code",
   "execution_count": 67,
   "metadata": {},
   "outputs": [
    {
     "data": {
      "text/plain": [
       "array([list([702360, 1609412, 1198853, 1969824, 501048, 624374, 1818325, 100484, 88545, 331585]),\n",
       "       list([1354549, 9643, 1944909, 37223, 1567936, 1628496, 1433166, 649361, 1197718, 615995]),\n",
       "       list([882697, 1710131, 197884, 859574, 2028013, 1371799, 301390, 1332849, 795772, 1098739]),\n",
       "       list([1769201, 1140650, 2082809, 1344440, 37718, 1563480, 1843174, 1297894, 362475, 2042014]),\n",
       "       list([236729, 1839702, 1055848, 1628484, 1017181, 1494195, 2071025, 347256, 1713316, 1145230]),\n",
       "       list([1417407, 1781650, 2058598, 1263983, 457734, 443430, 1673835, 1151909, 1020256, 766628]),\n",
       "       list([533194, 451314, 1533900, 340102, 116771, 1385320, 583139, 754274, 1506037, 29021]),\n",
       "       list([1699907, 430252, 1887359, 1404005, 1779261, 100838, 717628, 585850, 1142113, 2047913]),\n",
       "       list([1771696, 613068, 2065319, 1469766, 1735418, 7244, 393734, 777247, 1561930, 132800]),\n",
       "       list([1317448, 1080242, 64837, 868959, 441418, 2037039, 412, 292, 291, 259])],\n",
       "      dtype=object)"
      ]
     },
     "execution_count": 67,
     "metadata": {},
     "output_type": "execute_result"
    }
   ],
   "source": [
    "y_pred[:10]"
   ]
  },
  {
   "cell_type": "code",
   "execution_count": 68,
   "metadata": {},
   "outputs": [],
   "source": [
    "y_true = df_test_split['item_bought'].values"
   ]
  },
  {
   "cell_type": "code",
   "execution_count": 69,
   "metadata": {},
   "outputs": [
    {
     "name": "stdout",
     "output_type": "stream",
     "text": [
      "CPU times: user 3.73 s, sys: 266 ms, total: 4 s\n",
      "Wall time: 4.01 s\n"
     ]
    }
   ],
   "source": [
    "%%time\n",
    "score = ndcg_score(y_true, y_pred, item_data, n_predictions=10)"
   ]
  },
  {
   "cell_type": "code",
   "execution_count": 70,
   "metadata": {},
   "outputs": [
    {
     "data": {
      "text/plain": [
       "0.23140759403311448"
      ]
     },
     "execution_count": 70,
     "metadata": {},
     "output_type": "execute_result"
    }
   ],
   "source": [
    "score"
   ]
  },
  {
   "cell_type": "markdown",
   "metadata": {},
   "source": [
    "### Vote"
   ]
  },
  {
   "cell_type": "code",
   "execution_count": 71,
   "metadata": {},
   "outputs": [],
   "source": [
    "predict_ = partial(predict_vote, cols_domain=cols_feat_domain_no_last,\n",
    "                   cols_item=cols_item,\n",
    "                   df_most_bought=df_most_bought,\n",
    "                   available_domains=available_domains,\n",
    "                   most_bought_items=most_bought_items)"
   ]
  },
  {
   "cell_type": "code",
   "execution_count": 72,
   "metadata": {},
   "outputs": [
    {
     "name": "stdout",
     "output_type": "stream",
     "text": [
      "CPU times: user 2min 52s, sys: 246 ms, total: 2min 52s\n",
      "Wall time: 2min 52s\n"
     ]
    }
   ],
   "source": [
    "%%time\n",
    "y_pred = df_test_split.apply(predict_, axis=1).values"
   ]
  },
  {
   "cell_type": "code",
   "execution_count": 73,
   "metadata": {},
   "outputs": [
    {
     "data": {
      "text/plain": [
       "array([list([702360, 1609412, 1198853, 1969824, 501048, 88545, 987327, 657474, 999089, 929184]),\n",
       "       list([1354549, 9643, 1944909, 37223, 1567936, 649361, 1600440, 120284, 863572, 412]),\n",
       "       list([882697, 1710131, 197884, 859574, 1371799, 1332849, 1098739, 882697, 98853, 119703]),\n",
       "       list([1769201, 1140650, 2082809, 1344440, 1563480, 1297894, 2042014, 896262, 1244919, 1803825]),\n",
       "       list([236729, 1839702, 1055848, 1017181, 2071025, 1713316, 1039418, 149802, 1841823, 1694827]),\n",
       "       list([1417407, 1781650, 2058598, 1263983, 457734, 1151909, 1617443, 412, 292, 291]),\n",
       "       list([533194, 451314, 1533900, 116771, 583139, 1506037, 1336864, 122562, 195578, 315761]),\n",
       "       list([1699907, 430252, 1887359, 1779261, 585850, 2076567, 573279, 200082, 469802, 1202417]),\n",
       "       list([1771696, 613068, 2065319, 1469766, 1735418, 7244, 393734, 777247, 1561930, 132800]),\n",
       "       list([1317448, 1080242, 64837, 868959, 441418, 351968, 2069194, 1331091, 1705893, 1044110])],\n",
       "      dtype=object)"
      ]
     },
     "execution_count": 73,
     "metadata": {},
     "output_type": "execute_result"
    }
   ],
   "source": [
    "y_pred[:10]"
   ]
  },
  {
   "cell_type": "code",
   "execution_count": 74,
   "metadata": {},
   "outputs": [],
   "source": [
    "y_true = df_test_split['item_bought'].values"
   ]
  },
  {
   "cell_type": "code",
   "execution_count": 75,
   "metadata": {},
   "outputs": [
    {
     "name": "stdout",
     "output_type": "stream",
     "text": [
      "CPU times: user 3.54 s, sys: 228 ms, total: 3.76 s\n",
      "Wall time: 3.78 s\n"
     ]
    }
   ],
   "source": [
    "%%time\n",
    "score = ndcg_score(y_true, y_pred, item_data, n_predictions=10)"
   ]
  },
  {
   "cell_type": "code",
   "execution_count": 76,
   "metadata": {},
   "outputs": [
    {
     "data": {
      "text/plain": [
       "0.24133640993122316"
      ]
     },
     "execution_count": 76,
     "metadata": {},
     "output_type": "execute_result"
    }
   ],
   "source": [
    "score"
   ]
  },
  {
   "cell_type": "markdown",
   "metadata": {},
   "source": [
    "## No \"last\" feature"
   ]
  },
  {
   "cell_type": "code",
   "execution_count": 77,
   "metadata": {},
   "outputs": [],
   "source": [
    "cols_item_no_last = cols_item[2:]"
   ]
  },
  {
   "cell_type": "markdown",
   "metadata": {},
   "source": [
    "### Simple"
   ]
  },
  {
   "cell_type": "code",
   "execution_count": 78,
   "metadata": {},
   "outputs": [],
   "source": [
    "predict_ = partial(predict_simple, cols_domain=cols_feat_domain_no_last,\n",
    "                   cols_item=cols_item_no_last,\n",
    "                   df_most_bought=df_most_bought,\n",
    "                   available_domains=available_domains,\n",
    "                   most_bought_items=most_bought_items)"
   ]
  },
  {
   "cell_type": "code",
   "execution_count": 79,
   "metadata": {},
   "outputs": [
    {
     "name": "stdout",
     "output_type": "stream",
     "text": [
      "CPU times: user 3min 41s, sys: 284 ms, total: 3min 42s\n",
      "Wall time: 3min 42s\n"
     ]
    }
   ],
   "source": [
    "%%time\n",
    "y_pred = df_test_split.apply(predict_, axis=1).values"
   ]
  },
  {
   "cell_type": "code",
   "execution_count": 80,
   "metadata": {},
   "outputs": [
    {
     "data": {
      "text/plain": [
       "array([list([1969824, 1198853, 501048, 624374, 1818325, 100484, 88545, 331585, 1043551, 545004]),\n",
       "       list([1354549, 37223, 1567936, 1628496, 1433166, 649361, 1197718, 615995, 1600440, 459433]),\n",
       "       list([197884, 859574, 2028013, 1371799, 301390, 1332849, 795772, 1098739, 1523773, 882697]),\n",
       "       list([2082809, 1140650, 1344440, 37718, 1563480, 1843174, 1297894, 362475, 2042014, 163051]),\n",
       "       list([1839702, 1055848, 1628484, 1017181, 1494195, 2071025, 347256, 1713316, 1145230, 1039418]),\n",
       "       list([1417407, 1263983, 457734, 443430, 1673835, 1151909, 1020256, 766628, 412, 292]),\n",
       "       list([533194, 451314, 1533900, 340102, 116771, 1385320, 583139, 754274, 1506037, 29021]),\n",
       "       list([1699907, 1887359, 1404005, 1779261, 100838, 717628, 585850, 1142113, 2047913, 2076567]),\n",
       "       list([1771696, 613068, 2065319, 1469766, 1735418, 7244, 393734, 777247, 1561930, 132800]),\n",
       "       list([1317448, 1080242, 441418, 2037039, 412, 292, 291, 259, 256, 255])],\n",
       "      dtype=object)"
      ]
     },
     "execution_count": 80,
     "metadata": {},
     "output_type": "execute_result"
    }
   ],
   "source": [
    "y_pred[:10]"
   ]
  },
  {
   "cell_type": "code",
   "execution_count": 81,
   "metadata": {},
   "outputs": [],
   "source": [
    "y_true = df_test_split['item_bought'].values"
   ]
  },
  {
   "cell_type": "code",
   "execution_count": 82,
   "metadata": {},
   "outputs": [
    {
     "name": "stdout",
     "output_type": "stream",
     "text": [
      "CPU times: user 3.61 s, sys: 272 ms, total: 3.89 s\n",
      "Wall time: 3.91 s\n"
     ]
    }
   ],
   "source": [
    "%%time\n",
    "score = ndcg_score(y_true, y_pred, item_data, n_predictions=10)"
   ]
  },
  {
   "cell_type": "code",
   "execution_count": 83,
   "metadata": {},
   "outputs": [
    {
     "data": {
      "text/plain": [
       "0.22489347687363484"
      ]
     },
     "execution_count": 83,
     "metadata": {},
     "output_type": "execute_result"
    }
   ],
   "source": [
    "score"
   ]
  },
  {
   "cell_type": "markdown",
   "metadata": {},
   "source": [
    "### Vote"
   ]
  },
  {
   "cell_type": "code",
   "execution_count": 84,
   "metadata": {},
   "outputs": [],
   "source": [
    "predict_ = partial(predict_vote, cols_domain=cols_feat_domain_no_last,\n",
    "                   cols_item=cols_item_no_last,\n",
    "                   df_most_bought=df_most_bought,\n",
    "                   available_domains=available_domains,\n",
    "                   most_bought_items=most_bought_items)"
   ]
  },
  {
   "cell_type": "code",
   "execution_count": 85,
   "metadata": {},
   "outputs": [
    {
     "name": "stdout",
     "output_type": "stream",
     "text": [
      "CPU times: user 4min 2s, sys: 272 ms, total: 4min 2s\n",
      "Wall time: 4min 3s\n"
     ]
    }
   ],
   "source": [
    "%%time\n",
    "y_pred = df_test_split.apply(predict_, axis=1).values"
   ]
  },
  {
   "cell_type": "code",
   "execution_count": 86,
   "metadata": {},
   "outputs": [
    {
     "data": {
      "text/plain": [
       "array([list([1969824, 1198853, 501048, 88545, 987327, 657474, 999089, 929184, 1027716, 104300]),\n",
       "       list([1354549, 37223, 1567936, 649361, 1600440, 120284, 863572, 412, 292, 291]),\n",
       "       list([197884, 859574, 1371799, 1332849, 1098739, 882697, 98853, 119703, 790888, 1595373]),\n",
       "       list([2082809, 1140650, 1344440, 1563480, 1297894, 2042014, 896262, 1244919, 1803825, 626263]),\n",
       "       list([1839702, 1055848, 1017181, 2071025, 1713316, 1039418, 149802, 1841823, 1694827, 80420]),\n",
       "       list([1417407, 1263983, 457734, 1151909, 1617443, 412, 292, 291, 259, 256]),\n",
       "       list([533194, 451314, 1533900, 116771, 583139, 1506037, 1336864, 122562, 195578, 315761]),\n",
       "       list([1699907, 1887359, 1779261, 585850, 2076567, 573279, 200082, 469802, 1202417, 1246381]),\n",
       "       list([1771696, 613068, 2065319, 1469766, 1735418, 7244, 393734, 777247, 1561930, 132800]),\n",
       "       list([1317448, 1080242, 441418, 351968, 2069194, 1331091, 1705893, 1044110, 1339046, 321530])],\n",
       "      dtype=object)"
      ]
     },
     "execution_count": 86,
     "metadata": {},
     "output_type": "execute_result"
    }
   ],
   "source": [
    "y_pred[:10]"
   ]
  },
  {
   "cell_type": "code",
   "execution_count": 87,
   "metadata": {},
   "outputs": [],
   "source": [
    "y_true = df_test_split['item_bought'].values"
   ]
  },
  {
   "cell_type": "code",
   "execution_count": 88,
   "metadata": {},
   "outputs": [
    {
     "name": "stdout",
     "output_type": "stream",
     "text": [
      "CPU times: user 3.19 s, sys: 216 ms, total: 3.4 s\n",
      "Wall time: 3.41 s\n"
     ]
    }
   ],
   "source": [
    "%%time\n",
    "score = ndcg_score(y_true, y_pred, item_data, n_predictions=10)"
   ]
  },
  {
   "cell_type": "code",
   "execution_count": 89,
   "metadata": {},
   "outputs": [
    {
     "data": {
      "text/plain": [
       "0.23743886787923346"
      ]
     },
     "execution_count": 89,
     "metadata": {},
     "output_type": "execute_result"
    }
   ],
   "source": [
    "score"
   ]
  },
  {
   "cell_type": "markdown",
   "metadata": {},
   "source": [
    "## Results\n",
    "\n",
    "Best one is: \n",
    "\n",
    "All features + voting heuristic.\n",
    "\n",
    "Score: 0.24133640993122316"
   ]
  },
  {
   "cell_type": "markdown",
   "metadata": {},
   "source": [
    "# Random Forest Classifier\n",
    "\n",
    "Use a Random Forest Classifier to predict the domain of the bought item.\n",
    "\n",
    "Use the results as a new feature (`domain_id_forest`)."
   ]
  },
  {
   "cell_type": "code",
   "execution_count": 27,
   "metadata": {},
   "outputs": [],
   "source": [
    "from sklearn.ensemble import RandomForestClassifier"
   ]
  },
  {
   "cell_type": "code",
   "execution_count": 9,
   "metadata": {},
   "outputs": [],
   "source": [
    "df_train = pd.read_parquet(os.path.join(path, train_filename), columns=cols_load_train)"
   ]
  },
  {
   "cell_type": "code",
   "execution_count": 13,
   "metadata": {},
   "outputs": [],
   "source": [
    "domain_mapper = {x[0]: int(x[1])\n",
    "                 for x in (df_item\n",
    "                           [['domain_id','domain_code']]\n",
    "                           .dropna(how='all')\n",
    "                           .values)}"
   ]
  },
  {
   "cell_type": "code",
   "execution_count": 14,
   "metadata": {},
   "outputs": [],
   "source": [
    "for c in cols_feat_domain:\n",
    "    df_train[f'encoded_{c}'] = df_train[c].map(domain_mapper).fillna(-1)"
   ]
  },
  {
   "cell_type": "code",
   "execution_count": 15,
   "metadata": {},
   "outputs": [],
   "source": [
    "df_train_split, df_test_split = train_test_split(df_train, random_state=7)"
   ]
  },
  {
   "cell_type": "code",
   "execution_count": 16,
   "metadata": {},
   "outputs": [],
   "source": [
    "df_most_bought = (df_train_split[['domain_id_item_bought','item_bought']]\n",
    "                  .reset_index()\n",
    "                  .groupby(by=['domain_id_item_bought','item_bought'])\n",
    "                  .count()\n",
    "                  .sort_values(by=['domain_id_item_bought','index'], ascending=False))"
   ]
  },
  {
   "cell_type": "code",
   "execution_count": 17,
   "metadata": {},
   "outputs": [],
   "source": [
    "domains_most_bought_filter = ((df_train_split\n",
    " [['domain_id_item_bought','item_bought']]\n",
    " .groupby(by='domain_id_item_bought')\n",
    " .count()\n",
    " .sort_values(by='item_bought', ascending=False)\n",
    " .cumsum()/len(df_train))\n",
    " .query('item_bought < 0.6')).index"
   ]
  },
  {
   "cell_type": "code",
   "execution_count": 18,
   "metadata": {},
   "outputs": [],
   "source": [
    "df_train_proc = (df_train_split\n",
    "                 [df_train_split['domain_id_item_bought']\n",
    "                  .isin(domains_most_bought_filter)]\n",
    "                 .reset_index(drop=True)\n",
    "                 .fillna(-1))"
   ]
  },
  {
   "cell_type": "code",
   "execution_count": 19,
   "metadata": {},
   "outputs": [],
   "source": [
    "df_test_proc = df_test_split.fillna(-1)"
   ]
  },
  {
   "cell_type": "code",
   "execution_count": 20,
   "metadata": {},
   "outputs": [],
   "source": [
    "df_train_proc['domain_id_item_bought'] = df_train_proc['domain_id_item_bought'].map(domain_mapper).fillna(-1)\n",
    "df_test_proc['domain_id_item_bought'] = df_test_proc['domain_id_item_bought'].map(domain_mapper).fillna(-1)"
   ]
  },
  {
   "cell_type": "code",
   "execution_count": 23,
   "metadata": {},
   "outputs": [
    {
     "data": {
      "text/html": [
       "<div>\n",
       "<style scoped>\n",
       "    .dataframe tbody tr th:only-of-type {\n",
       "        vertical-align: middle;\n",
       "    }\n",
       "\n",
       "    .dataframe tbody tr th {\n",
       "        vertical-align: top;\n",
       "    }\n",
       "\n",
       "    .dataframe thead th {\n",
       "        text-align: right;\n",
       "    }\n",
       "</style>\n",
       "<table border=\"1\" class=\"dataframe\">\n",
       "  <thead>\n",
       "    <tr style=\"text-align: right;\">\n",
       "      <th></th>\n",
       "      <th>item_bought</th>\n",
       "      <th>domain_id_item_bought</th>\n",
       "      <th>most_viewed_item_1</th>\n",
       "      <th>most_viewed_item_2</th>\n",
       "      <th>last_viewed_item_1</th>\n",
       "      <th>last_viewed_item_2</th>\n",
       "      <th>domain_id_most_viewed_item_1</th>\n",
       "      <th>domain_id_most_viewed_item_2</th>\n",
       "      <th>domain_id_last_viewed_item_1</th>\n",
       "      <th>domain_id_last_viewed_item_2</th>\n",
       "      <th>...</th>\n",
       "      <th>encoded_domain_id_most_viewed_item_1</th>\n",
       "      <th>encoded_domain_id_most_viewed_item_2</th>\n",
       "      <th>encoded_domain_id_last_viewed_item_1</th>\n",
       "      <th>encoded_domain_id_last_viewed_item_2</th>\n",
       "      <th>encoded_most_viewed_domain_1</th>\n",
       "      <th>encoded_most_viewed_domain_2</th>\n",
       "      <th>encoded_domain_id_most_searched_ngram_1</th>\n",
       "      <th>encoded_domain_id_most_searched_ngram_2</th>\n",
       "      <th>encoded_domain_id_last_searched_1</th>\n",
       "      <th>encoded_domain_id_last_searched_2</th>\n",
       "    </tr>\n",
       "  </thead>\n",
       "  <tbody>\n",
       "    <tr>\n",
       "      <th>194770</th>\n",
       "      <td>1755076</td>\n",
       "      <td>4044</td>\n",
       "      <td>702360.0</td>\n",
       "      <td>1609412.0</td>\n",
       "      <td>1969824.0</td>\n",
       "      <td>1198853.0</td>\n",
       "      <td>MLB-HOME_SUPPLIES</td>\n",
       "      <td>MLB-HOME_SUPPLIES</td>\n",
       "      <td>MLB-ANIMAL_AND_BALL_HOPPERS</td>\n",
       "      <td>MLB-AUTOMOTIVE_EMBLEMS</td>\n",
       "      <td>...</td>\n",
       "      <td>2066.0</td>\n",
       "      <td>2066.0</td>\n",
       "      <td>88.0</td>\n",
       "      <td>228.0</td>\n",
       "      <td>2066.0</td>\n",
       "      <td>4044.0</td>\n",
       "      <td>-1.0</td>\n",
       "      <td>-1.0</td>\n",
       "      <td>-1.0</td>\n",
       "      <td>-1.0</td>\n",
       "    </tr>\n",
       "    <tr>\n",
       "      <th>219922</th>\n",
       "      <td>1974062</td>\n",
       "      <td>886</td>\n",
       "      <td>1944909.0</td>\n",
       "      <td>9643.0</td>\n",
       "      <td>37223.0</td>\n",
       "      <td>1354549.0</td>\n",
       "      <td>MLB-SEAT_BELTS</td>\n",
       "      <td>MLB-SEAT_BELTS</td>\n",
       "      <td>MLB-PANTS</td>\n",
       "      <td>MLB-VEHICLE_ACCESSORIES</td>\n",
       "      <td>...</td>\n",
       "      <td>3422.0</td>\n",
       "      <td>3422.0</td>\n",
       "      <td>2937.0</td>\n",
       "      <td>3983.0</td>\n",
       "      <td>3422.0</td>\n",
       "      <td>3983.0</td>\n",
       "      <td>-1.0</td>\n",
       "      <td>-1.0</td>\n",
       "      <td>-1.0</td>\n",
       "      <td>-1.0</td>\n",
       "    </tr>\n",
       "    <tr>\n",
       "      <th>31979</th>\n",
       "      <td>2038562</td>\n",
       "      <td>2066</td>\n",
       "      <td>882697.0</td>\n",
       "      <td>1710131.0</td>\n",
       "      <td>197884.0</td>\n",
       "      <td>197884.0</td>\n",
       "      <td>MLB-CELLPHONES</td>\n",
       "      <td>MLB-CELLPHONES</td>\n",
       "      <td>MLB-AIR_CONDITIONERS</td>\n",
       "      <td>MLB-AIR_CONDITIONERS</td>\n",
       "      <td>...</td>\n",
       "      <td>886.0</td>\n",
       "      <td>886.0</td>\n",
       "      <td>46.0</td>\n",
       "      <td>46.0</td>\n",
       "      <td>886.0</td>\n",
       "      <td>46.0</td>\n",
       "      <td>-1.0</td>\n",
       "      <td>-1.0</td>\n",
       "      <td>-1.0</td>\n",
       "      <td>-1.0</td>\n",
       "    </tr>\n",
       "    <tr>\n",
       "      <th>338550</th>\n",
       "      <td>1140650</td>\n",
       "      <td>3374</td>\n",
       "      <td>1140650.0</td>\n",
       "      <td>1769201.0</td>\n",
       "      <td>1140650.0</td>\n",
       "      <td>2082809.0</td>\n",
       "      <td>MLB-SANDALS_AND_FLIP_FLOPS</td>\n",
       "      <td>MLB-SANDALS_AND_FLIP_FLOPS</td>\n",
       "      <td>MLB-SANDALS_AND_FLIP_FLOPS</td>\n",
       "      <td>MLB-SANDALS_AND_FLIP_FLOPS</td>\n",
       "      <td>...</td>\n",
       "      <td>3374.0</td>\n",
       "      <td>3374.0</td>\n",
       "      <td>3374.0</td>\n",
       "      <td>3374.0</td>\n",
       "      <td>3374.0</td>\n",
       "      <td>2037.0</td>\n",
       "      <td>-1.0</td>\n",
       "      <td>-1.0</td>\n",
       "      <td>-1.0</td>\n",
       "      <td>-1.0</td>\n",
       "    </tr>\n",
       "    <tr>\n",
       "      <th>299605</th>\n",
       "      <td>1296948</td>\n",
       "      <td>2779</td>\n",
       "      <td>236729.0</td>\n",
       "      <td>1839702.0</td>\n",
       "      <td>1839702.0</td>\n",
       "      <td>1839702.0</td>\n",
       "      <td>MLB-COFFEE_MAKERS</td>\n",
       "      <td>MLB-COFFEE_MAKERS</td>\n",
       "      <td>MLB-COFFEE_MAKERS</td>\n",
       "      <td>MLB-COFFEE_MAKERS</td>\n",
       "      <td>...</td>\n",
       "      <td>1017.0</td>\n",
       "      <td>1017.0</td>\n",
       "      <td>1017.0</td>\n",
       "      <td>1017.0</td>\n",
       "      <td>1017.0</td>\n",
       "      <td>1015.0</td>\n",
       "      <td>-1.0</td>\n",
       "      <td>-1.0</td>\n",
       "      <td>-1.0</td>\n",
       "      <td>-1.0</td>\n",
       "    </tr>\n",
       "    <tr>\n",
       "      <th>...</th>\n",
       "      <td>...</td>\n",
       "      <td>...</td>\n",
       "      <td>...</td>\n",
       "      <td>...</td>\n",
       "      <td>...</td>\n",
       "      <td>...</td>\n",
       "      <td>...</td>\n",
       "      <td>...</td>\n",
       "      <td>...</td>\n",
       "      <td>...</td>\n",
       "      <td>...</td>\n",
       "      <td>...</td>\n",
       "      <td>...</td>\n",
       "      <td>...</td>\n",
       "      <td>...</td>\n",
       "      <td>...</td>\n",
       "      <td>...</td>\n",
       "      <td>...</td>\n",
       "      <td>...</td>\n",
       "      <td>...</td>\n",
       "      <td>...</td>\n",
       "    </tr>\n",
       "    <tr>\n",
       "      <th>381198</th>\n",
       "      <td>288129</td>\n",
       "      <td>7182</td>\n",
       "      <td>1854903.0</td>\n",
       "      <td>1854903.0</td>\n",
       "      <td>1854903.0</td>\n",
       "      <td>-1.0</td>\n",
       "      <td>MLM-COMPUTER_EQUIPMENT_AND_SPARE_PARTS</td>\n",
       "      <td>-1</td>\n",
       "      <td>MLM-COMPUTER_EQUIPMENT_AND_SPARE_PARTS</td>\n",
       "      <td>-1</td>\n",
       "      <td>...</td>\n",
       "      <td>5163.0</td>\n",
       "      <td>-1.0</td>\n",
       "      <td>5163.0</td>\n",
       "      <td>-1.0</td>\n",
       "      <td>5163.0</td>\n",
       "      <td>-1.0</td>\n",
       "      <td>-1.0</td>\n",
       "      <td>-1.0</td>\n",
       "      <td>-1.0</td>\n",
       "      <td>-1.0</td>\n",
       "    </tr>\n",
       "    <tr>\n",
       "      <th>159971</th>\n",
       "      <td>556280</td>\n",
       "      <td>888</td>\n",
       "      <td>1781.0</td>\n",
       "      <td>477683.0</td>\n",
       "      <td>1158701.0</td>\n",
       "      <td>984219.0</td>\n",
       "      <td>MLB-CELLPHONE_ACCESSORIES</td>\n",
       "      <td>MLB-CELLPHONE_ACCESSORIES</td>\n",
       "      <td>MLB-CELLPHONE_ACCESSORIES</td>\n",
       "      <td>MLB-CELLPHONE_ACCESSORIES</td>\n",
       "      <td>...</td>\n",
       "      <td>888.0</td>\n",
       "      <td>888.0</td>\n",
       "      <td>888.0</td>\n",
       "      <td>888.0</td>\n",
       "      <td>888.0</td>\n",
       "      <td>-1.0</td>\n",
       "      <td>-1.0</td>\n",
       "      <td>-1.0</td>\n",
       "      <td>-1.0</td>\n",
       "      <td>-1.0</td>\n",
       "    </tr>\n",
       "    <tr>\n",
       "      <th>157266</th>\n",
       "      <td>2066646</td>\n",
       "      <td>813</td>\n",
       "      <td>695928.0</td>\n",
       "      <td>967886.0</td>\n",
       "      <td>695928.0</td>\n",
       "      <td>967886.0</td>\n",
       "      <td>MLB-WRISTWATCHES</td>\n",
       "      <td>MLB-WRISTWATCHES</td>\n",
       "      <td>MLB-WRISTWATCHES</td>\n",
       "      <td>MLB-WRISTWATCHES</td>\n",
       "      <td>...</td>\n",
       "      <td>4193.0</td>\n",
       "      <td>4193.0</td>\n",
       "      <td>4193.0</td>\n",
       "      <td>4193.0</td>\n",
       "      <td>4193.0</td>\n",
       "      <td>-1.0</td>\n",
       "      <td>-1.0</td>\n",
       "      <td>-1.0</td>\n",
       "      <td>-1.0</td>\n",
       "      <td>-1.0</td>\n",
       "    </tr>\n",
       "    <tr>\n",
       "      <th>49161</th>\n",
       "      <td>391231</td>\n",
       "      <td>3522</td>\n",
       "      <td>391231.0</td>\n",
       "      <td>307115.0</td>\n",
       "      <td>307115.0</td>\n",
       "      <td>307115.0</td>\n",
       "      <td>MLB-SNEAKERS</td>\n",
       "      <td>MLB-SNEAKERS</td>\n",
       "      <td>MLB-SNEAKERS</td>\n",
       "      <td>MLB-SNEAKERS</td>\n",
       "      <td>...</td>\n",
       "      <td>3522.0</td>\n",
       "      <td>3522.0</td>\n",
       "      <td>3522.0</td>\n",
       "      <td>3522.0</td>\n",
       "      <td>3522.0</td>\n",
       "      <td>-1.0</td>\n",
       "      <td>-1.0</td>\n",
       "      <td>-1.0</td>\n",
       "      <td>-1.0</td>\n",
       "      <td>-1.0</td>\n",
       "    </tr>\n",
       "    <tr>\n",
       "      <th>103130</th>\n",
       "      <td>1267666</td>\n",
       "      <td>2937</td>\n",
       "      <td>643402.0</td>\n",
       "      <td>2031693.0</td>\n",
       "      <td>1712194.0</td>\n",
       "      <td>643402.0</td>\n",
       "      <td>MLB-HAIR_CLIPPERS</td>\n",
       "      <td>MLB-PANTS</td>\n",
       "      <td>MLB-HAIR_REMOVAL</td>\n",
       "      <td>MLB-HAIR_CLIPPERS</td>\n",
       "      <td>...</td>\n",
       "      <td>1964.0</td>\n",
       "      <td>2937.0</td>\n",
       "      <td>1974.0</td>\n",
       "      <td>1964.0</td>\n",
       "      <td>1964.0</td>\n",
       "      <td>2937.0</td>\n",
       "      <td>-1.0</td>\n",
       "      <td>-1.0</td>\n",
       "      <td>-1.0</td>\n",
       "      <td>-1.0</td>\n",
       "    </tr>\n",
       "  </tbody>\n",
       "</table>\n",
       "<p>103291 rows × 26 columns</p>\n",
       "</div>"
      ],
      "text/plain": [
       "        item_bought  domain_id_item_bought  most_viewed_item_1  \\\n",
       "194770      1755076                   4044            702360.0   \n",
       "219922      1974062                    886           1944909.0   \n",
       "31979       2038562                   2066            882697.0   \n",
       "338550      1140650                   3374           1140650.0   \n",
       "299605      1296948                   2779            236729.0   \n",
       "...             ...                    ...                 ...   \n",
       "381198       288129                   7182           1854903.0   \n",
       "159971       556280                    888              1781.0   \n",
       "157266      2066646                    813            695928.0   \n",
       "49161        391231                   3522            391231.0   \n",
       "103130      1267666                   2937            643402.0   \n",
       "\n",
       "        most_viewed_item_2  last_viewed_item_1  last_viewed_item_2  \\\n",
       "194770           1609412.0           1969824.0           1198853.0   \n",
       "219922              9643.0             37223.0           1354549.0   \n",
       "31979            1710131.0            197884.0            197884.0   \n",
       "338550           1769201.0           1140650.0           2082809.0   \n",
       "299605           1839702.0           1839702.0           1839702.0   \n",
       "...                    ...                 ...                 ...   \n",
       "381198           1854903.0           1854903.0                -1.0   \n",
       "159971            477683.0           1158701.0            984219.0   \n",
       "157266            967886.0            695928.0            967886.0   \n",
       "49161             307115.0            307115.0            307115.0   \n",
       "103130           2031693.0           1712194.0            643402.0   \n",
       "\n",
       "                  domain_id_most_viewed_item_1 domain_id_most_viewed_item_2  \\\n",
       "194770                       MLB-HOME_SUPPLIES            MLB-HOME_SUPPLIES   \n",
       "219922                          MLB-SEAT_BELTS               MLB-SEAT_BELTS   \n",
       "31979                           MLB-CELLPHONES               MLB-CELLPHONES   \n",
       "338550              MLB-SANDALS_AND_FLIP_FLOPS   MLB-SANDALS_AND_FLIP_FLOPS   \n",
       "299605                       MLB-COFFEE_MAKERS            MLB-COFFEE_MAKERS   \n",
       "...                                        ...                          ...   \n",
       "381198  MLM-COMPUTER_EQUIPMENT_AND_SPARE_PARTS                           -1   \n",
       "159971               MLB-CELLPHONE_ACCESSORIES    MLB-CELLPHONE_ACCESSORIES   \n",
       "157266                        MLB-WRISTWATCHES             MLB-WRISTWATCHES   \n",
       "49161                             MLB-SNEAKERS                 MLB-SNEAKERS   \n",
       "103130                       MLB-HAIR_CLIPPERS                    MLB-PANTS   \n",
       "\n",
       "                  domain_id_last_viewed_item_1 domain_id_last_viewed_item_2  \\\n",
       "194770             MLB-ANIMAL_AND_BALL_HOPPERS       MLB-AUTOMOTIVE_EMBLEMS   \n",
       "219922                               MLB-PANTS      MLB-VEHICLE_ACCESSORIES   \n",
       "31979                     MLB-AIR_CONDITIONERS         MLB-AIR_CONDITIONERS   \n",
       "338550              MLB-SANDALS_AND_FLIP_FLOPS   MLB-SANDALS_AND_FLIP_FLOPS   \n",
       "299605                       MLB-COFFEE_MAKERS            MLB-COFFEE_MAKERS   \n",
       "...                                        ...                          ...   \n",
       "381198  MLM-COMPUTER_EQUIPMENT_AND_SPARE_PARTS                           -1   \n",
       "159971               MLB-CELLPHONE_ACCESSORIES    MLB-CELLPHONE_ACCESSORIES   \n",
       "157266                        MLB-WRISTWATCHES             MLB-WRISTWATCHES   \n",
       "49161                             MLB-SNEAKERS                 MLB-SNEAKERS   \n",
       "103130                        MLB-HAIR_REMOVAL            MLB-HAIR_CLIPPERS   \n",
       "\n",
       "        ... encoded_domain_id_most_viewed_item_1  \\\n",
       "194770  ...                               2066.0   \n",
       "219922  ...                               3422.0   \n",
       "31979   ...                                886.0   \n",
       "338550  ...                               3374.0   \n",
       "299605  ...                               1017.0   \n",
       "...     ...                                  ...   \n",
       "381198  ...                               5163.0   \n",
       "159971  ...                                888.0   \n",
       "157266  ...                               4193.0   \n",
       "49161   ...                               3522.0   \n",
       "103130  ...                               1964.0   \n",
       "\n",
       "       encoded_domain_id_most_viewed_item_2  \\\n",
       "194770                               2066.0   \n",
       "219922                               3422.0   \n",
       "31979                                 886.0   \n",
       "338550                               3374.0   \n",
       "299605                               1017.0   \n",
       "...                                     ...   \n",
       "381198                                 -1.0   \n",
       "159971                                888.0   \n",
       "157266                               4193.0   \n",
       "49161                                3522.0   \n",
       "103130                               2937.0   \n",
       "\n",
       "       encoded_domain_id_last_viewed_item_1  \\\n",
       "194770                                 88.0   \n",
       "219922                               2937.0   \n",
       "31979                                  46.0   \n",
       "338550                               3374.0   \n",
       "299605                               1017.0   \n",
       "...                                     ...   \n",
       "381198                               5163.0   \n",
       "159971                                888.0   \n",
       "157266                               4193.0   \n",
       "49161                                3522.0   \n",
       "103130                               1974.0   \n",
       "\n",
       "       encoded_domain_id_last_viewed_item_2  encoded_most_viewed_domain_1  \\\n",
       "194770                                228.0                        2066.0   \n",
       "219922                               3983.0                        3422.0   \n",
       "31979                                  46.0                         886.0   \n",
       "338550                               3374.0                        3374.0   \n",
       "299605                               1017.0                        1017.0   \n",
       "...                                     ...                           ...   \n",
       "381198                                 -1.0                        5163.0   \n",
       "159971                                888.0                         888.0   \n",
       "157266                               4193.0                        4193.0   \n",
       "49161                                3522.0                        3522.0   \n",
       "103130                               1964.0                        1964.0   \n",
       "\n",
       "        encoded_most_viewed_domain_2  encoded_domain_id_most_searched_ngram_1  \\\n",
       "194770                        4044.0                                     -1.0   \n",
       "219922                        3983.0                                     -1.0   \n",
       "31979                           46.0                                     -1.0   \n",
       "338550                        2037.0                                     -1.0   \n",
       "299605                        1015.0                                     -1.0   \n",
       "...                              ...                                      ...   \n",
       "381198                          -1.0                                     -1.0   \n",
       "159971                          -1.0                                     -1.0   \n",
       "157266                          -1.0                                     -1.0   \n",
       "49161                           -1.0                                     -1.0   \n",
       "103130                        2937.0                                     -1.0   \n",
       "\n",
       "        encoded_domain_id_most_searched_ngram_2  \\\n",
       "194770                                     -1.0   \n",
       "219922                                     -1.0   \n",
       "31979                                      -1.0   \n",
       "338550                                     -1.0   \n",
       "299605                                     -1.0   \n",
       "...                                         ...   \n",
       "381198                                     -1.0   \n",
       "159971                                     -1.0   \n",
       "157266                                     -1.0   \n",
       "49161                                      -1.0   \n",
       "103130                                     -1.0   \n",
       "\n",
       "        encoded_domain_id_last_searched_1  encoded_domain_id_last_searched_2  \n",
       "194770                               -1.0                               -1.0  \n",
       "219922                               -1.0                               -1.0  \n",
       "31979                                -1.0                               -1.0  \n",
       "338550                               -1.0                               -1.0  \n",
       "299605                               -1.0                               -1.0  \n",
       "...                                   ...                                ...  \n",
       "381198                               -1.0                               -1.0  \n",
       "159971                               -1.0                               -1.0  \n",
       "157266                               -1.0                               -1.0  \n",
       "49161                                -1.0                               -1.0  \n",
       "103130                               -1.0                               -1.0  \n",
       "\n",
       "[103291 rows x 26 columns]"
      ]
     },
     "execution_count": 23,
     "metadata": {},
     "output_type": "execute_result"
    }
   ],
   "source": [
    "df_test_proc"
   ]
  },
  {
   "cell_type": "code",
   "execution_count": 25,
   "metadata": {},
   "outputs": [],
   "source": [
    "cols_feat_domain_encoded = [f'encoded_{c}' for c in cols_feat_domain]\n",
    "\n",
    "X_train, y_train = (df_train_proc[cols_feat_domain_encoded].astype('int32'),\n",
    "                    df_train_proc['domain_id_item_bought'].astype('int32'))\n",
    "\n",
    "X_test, y_test = (df_test_proc[cols_feat_domain_encoded].astype('int32'),\n",
    "                  df_test_proc['domain_id_item_bought'].astype('int32'))"
   ]
  },
  {
   "cell_type": "code",
   "execution_count": 29,
   "metadata": {},
   "outputs": [
    {
     "data": {
      "text/plain": [
       "RandomForestClassifier(bootstrap=True, ccp_alpha=0.0, class_weight='balanced',\n",
       "                       criterion='gini', max_depth=12, max_features='auto',\n",
       "                       max_leaf_nodes=None, max_samples=None,\n",
       "                       min_impurity_decrease=0.0, min_impurity_split=None,\n",
       "                       min_samples_leaf=1, min_samples_split=2,\n",
       "                       min_weight_fraction_leaf=0.0, n_estimators=200,\n",
       "                       n_jobs=-1, oob_score=False, random_state=0, verbose=0,\n",
       "                       warm_start=False)"
      ]
     },
     "execution_count": 29,
     "metadata": {},
     "output_type": "execute_result"
    }
   ],
   "source": [
    "clf = RandomForestClassifier(max_depth=12, \n",
    "                             n_estimators=200,\n",
    "                             n_jobs=-1,\n",
    "                             class_weight='balanced',\n",
    "                             random_state=0)\n",
    "clf.fit(X_train, y_train)"
   ]
  },
  {
   "cell_type": "code",
   "execution_count": 30,
   "metadata": {},
   "outputs": [
    {
     "data": {
      "text/plain": [
       "0.30685151658905424"
      ]
     },
     "execution_count": 30,
     "metadata": {},
     "output_type": "execute_result"
    }
   ],
   "source": [
    "clf.score(X_test, y_test)"
   ]
  },
  {
   "cell_type": "code",
   "execution_count": 31,
   "metadata": {},
   "outputs": [
    {
     "data": {
      "text/plain": [
       "0.4076285374266293"
      ]
     },
     "execution_count": 31,
     "metadata": {},
     "output_type": "execute_result"
    }
   ],
   "source": [
    "clf.score(X_train, y_train)"
   ]
  },
  {
   "cell_type": "code",
   "execution_count": 33,
   "metadata": {},
   "outputs": [],
   "source": [
    "y_pred_tree = clf.predict(X_test)"
   ]
  },
  {
   "cell_type": "code",
   "execution_count": 34,
   "metadata": {},
   "outputs": [
    {
     "name": "stderr",
     "output_type": "stream",
     "text": [
      "<ipython-input-34-1807f5ac2c44>:1: SettingWithCopyWarning: \n",
      "A value is trying to be set on a copy of a slice from a DataFrame.\n",
      "Try using .loc[row_indexer,col_indexer] = value instead\n",
      "\n",
      "See the caveats in the documentation: https://pandas.pydata.org/pandas-docs/stable/user_guide/indexing.html#returning-a-view-versus-a-copy\n",
      "  df_test_split['domain_id_tree'] = y_pred_tree\n"
     ]
    }
   ],
   "source": [
    "df_test_split['domain_id_tree'] = y_pred_tree"
   ]
  },
  {
   "cell_type": "code",
   "execution_count": 39,
   "metadata": {},
   "outputs": [],
   "source": [
    "domain_mapper_reverse = {value: key for (key,value) in domain_mapper.items()}"
   ]
  },
  {
   "cell_type": "code",
   "execution_count": 42,
   "metadata": {},
   "outputs": [
    {
     "name": "stderr",
     "output_type": "stream",
     "text": [
      "<ipython-input-42-10eacb7339af>:1: SettingWithCopyWarning: \n",
      "A value is trying to be set on a copy of a slice from a DataFrame.\n",
      "Try using .loc[row_indexer,col_indexer] = value instead\n",
      "\n",
      "See the caveats in the documentation: https://pandas.pydata.org/pandas-docs/stable/user_guide/indexing.html#returning-a-view-versus-a-copy\n",
      "  df_test_split['domain_id_tree'] = df_test_split['domain_id_tree'].map(domain_mapper_reverse)\n"
     ]
    }
   ],
   "source": [
    "df_test_split['domain_id_tree'] = df_test_split['domain_id_tree'].map(domain_mapper_reverse)"
   ]
  },
  {
   "cell_type": "code",
   "execution_count": 43,
   "metadata": {},
   "outputs": [
    {
     "data": {
      "text/html": [
       "<div>\n",
       "<style scoped>\n",
       "    .dataframe tbody tr th:only-of-type {\n",
       "        vertical-align: middle;\n",
       "    }\n",
       "\n",
       "    .dataframe tbody tr th {\n",
       "        vertical-align: top;\n",
       "    }\n",
       "\n",
       "    .dataframe thead th {\n",
       "        text-align: right;\n",
       "    }\n",
       "</style>\n",
       "<table border=\"1\" class=\"dataframe\">\n",
       "  <thead>\n",
       "    <tr style=\"text-align: right;\">\n",
       "      <th></th>\n",
       "      <th>item_bought</th>\n",
       "      <th>domain_id_item_bought</th>\n",
       "      <th>most_viewed_item_1</th>\n",
       "      <th>most_viewed_item_2</th>\n",
       "      <th>last_viewed_item_1</th>\n",
       "      <th>last_viewed_item_2</th>\n",
       "      <th>domain_id_most_viewed_item_1</th>\n",
       "      <th>domain_id_most_viewed_item_2</th>\n",
       "      <th>domain_id_last_viewed_item_1</th>\n",
       "      <th>domain_id_last_viewed_item_2</th>\n",
       "      <th>...</th>\n",
       "      <th>encoded_domain_id_most_viewed_item_2</th>\n",
       "      <th>encoded_domain_id_last_viewed_item_1</th>\n",
       "      <th>encoded_domain_id_last_viewed_item_2</th>\n",
       "      <th>encoded_most_viewed_domain_1</th>\n",
       "      <th>encoded_most_viewed_domain_2</th>\n",
       "      <th>encoded_domain_id_most_searched_ngram_1</th>\n",
       "      <th>encoded_domain_id_most_searched_ngram_2</th>\n",
       "      <th>encoded_domain_id_last_searched_1</th>\n",
       "      <th>encoded_domain_id_last_searched_2</th>\n",
       "      <th>domain_id_tree</th>\n",
       "    </tr>\n",
       "  </thead>\n",
       "  <tbody>\n",
       "    <tr>\n",
       "      <th>194770</th>\n",
       "      <td>1755076</td>\n",
       "      <td>MLB-VINYL_ROLLS</td>\n",
       "      <td>702360.0</td>\n",
       "      <td>1609412.0</td>\n",
       "      <td>1969824.0</td>\n",
       "      <td>1198853.0</td>\n",
       "      <td>MLB-HOME_SUPPLIES</td>\n",
       "      <td>MLB-HOME_SUPPLIES</td>\n",
       "      <td>MLB-ANIMAL_AND_BALL_HOPPERS</td>\n",
       "      <td>MLB-AUTOMOTIVE_EMBLEMS</td>\n",
       "      <td>...</td>\n",
       "      <td>2066.0</td>\n",
       "      <td>88.0</td>\n",
       "      <td>228.0</td>\n",
       "      <td>2066.0</td>\n",
       "      <td>4044.0</td>\n",
       "      <td>-1.0</td>\n",
       "      <td>-1.0</td>\n",
       "      <td>-1.0</td>\n",
       "      <td>-1.0</td>\n",
       "      <td>MLB-HOME_SUPPLIES</td>\n",
       "    </tr>\n",
       "    <tr>\n",
       "      <th>219922</th>\n",
       "      <td>1974062</td>\n",
       "      <td>MLB-CELLPHONES</td>\n",
       "      <td>1944909.0</td>\n",
       "      <td>9643.0</td>\n",
       "      <td>37223.0</td>\n",
       "      <td>1354549.0</td>\n",
       "      <td>MLB-SEAT_BELTS</td>\n",
       "      <td>MLB-SEAT_BELTS</td>\n",
       "      <td>MLB-PANTS</td>\n",
       "      <td>MLB-VEHICLE_ACCESSORIES</td>\n",
       "      <td>...</td>\n",
       "      <td>3422.0</td>\n",
       "      <td>2937.0</td>\n",
       "      <td>3983.0</td>\n",
       "      <td>3422.0</td>\n",
       "      <td>3983.0</td>\n",
       "      <td>-1.0</td>\n",
       "      <td>-1.0</td>\n",
       "      <td>-1.0</td>\n",
       "      <td>-1.0</td>\n",
       "      <td>MLB-SCOOTERS</td>\n",
       "    </tr>\n",
       "    <tr>\n",
       "      <th>31979</th>\n",
       "      <td>2038562</td>\n",
       "      <td>MLB-HOME_SUPPLIES</td>\n",
       "      <td>882697.0</td>\n",
       "      <td>1710131.0</td>\n",
       "      <td>197884.0</td>\n",
       "      <td>197884.0</td>\n",
       "      <td>MLB-CELLPHONES</td>\n",
       "      <td>MLB-CELLPHONES</td>\n",
       "      <td>MLB-AIR_CONDITIONERS</td>\n",
       "      <td>MLB-AIR_CONDITIONERS</td>\n",
       "      <td>...</td>\n",
       "      <td>886.0</td>\n",
       "      <td>46.0</td>\n",
       "      <td>46.0</td>\n",
       "      <td>886.0</td>\n",
       "      <td>46.0</td>\n",
       "      <td>-1.0</td>\n",
       "      <td>-1.0</td>\n",
       "      <td>-1.0</td>\n",
       "      <td>-1.0</td>\n",
       "      <td>MLB-AIR_CONDITIONERS</td>\n",
       "    </tr>\n",
       "    <tr>\n",
       "      <th>338550</th>\n",
       "      <td>1140650</td>\n",
       "      <td>MLB-SANDALS_AND_FLIP_FLOPS</td>\n",
       "      <td>1140650.0</td>\n",
       "      <td>1769201.0</td>\n",
       "      <td>1140650.0</td>\n",
       "      <td>2082809.0</td>\n",
       "      <td>MLB-SANDALS_AND_FLIP_FLOPS</td>\n",
       "      <td>MLB-SANDALS_AND_FLIP_FLOPS</td>\n",
       "      <td>MLB-SANDALS_AND_FLIP_FLOPS</td>\n",
       "      <td>MLB-SANDALS_AND_FLIP_FLOPS</td>\n",
       "      <td>...</td>\n",
       "      <td>3374.0</td>\n",
       "      <td>3374.0</td>\n",
       "      <td>3374.0</td>\n",
       "      <td>3374.0</td>\n",
       "      <td>2037.0</td>\n",
       "      <td>-1.0</td>\n",
       "      <td>-1.0</td>\n",
       "      <td>-1.0</td>\n",
       "      <td>-1.0</td>\n",
       "      <td>MLB-SANDALS_AND_FLIP_FLOPS</td>\n",
       "    </tr>\n",
       "    <tr>\n",
       "      <th>299605</th>\n",
       "      <td>1296948</td>\n",
       "      <td>MLB-NAIL_FILES</td>\n",
       "      <td>236729.0</td>\n",
       "      <td>1839702.0</td>\n",
       "      <td>1839702.0</td>\n",
       "      <td>1839702.0</td>\n",
       "      <td>MLB-COFFEE_MAKERS</td>\n",
       "      <td>MLB-COFFEE_MAKERS</td>\n",
       "      <td>MLB-COFFEE_MAKERS</td>\n",
       "      <td>MLB-COFFEE_MAKERS</td>\n",
       "      <td>...</td>\n",
       "      <td>1017.0</td>\n",
       "      <td>1017.0</td>\n",
       "      <td>1017.0</td>\n",
       "      <td>1017.0</td>\n",
       "      <td>1015.0</td>\n",
       "      <td>-1.0</td>\n",
       "      <td>-1.0</td>\n",
       "      <td>-1.0</td>\n",
       "      <td>-1.0</td>\n",
       "      <td>MLB-COFFEE_CAPSULES</td>\n",
       "    </tr>\n",
       "    <tr>\n",
       "      <th>...</th>\n",
       "      <td>...</td>\n",
       "      <td>...</td>\n",
       "      <td>...</td>\n",
       "      <td>...</td>\n",
       "      <td>...</td>\n",
       "      <td>...</td>\n",
       "      <td>...</td>\n",
       "      <td>...</td>\n",
       "      <td>...</td>\n",
       "      <td>...</td>\n",
       "      <td>...</td>\n",
       "      <td>...</td>\n",
       "      <td>...</td>\n",
       "      <td>...</td>\n",
       "      <td>...</td>\n",
       "      <td>...</td>\n",
       "      <td>...</td>\n",
       "      <td>...</td>\n",
       "      <td>...</td>\n",
       "      <td>...</td>\n",
       "      <td>...</td>\n",
       "    </tr>\n",
       "    <tr>\n",
       "      <th>381198</th>\n",
       "      <td>288129</td>\n",
       "      <td>MLM-SCHOOL_AND_OFFICE_PAPERS</td>\n",
       "      <td>1854903.0</td>\n",
       "      <td>1854903.0</td>\n",
       "      <td>1854903.0</td>\n",
       "      <td>NaN</td>\n",
       "      <td>MLM-COMPUTER_EQUIPMENT_AND_SPARE_PARTS</td>\n",
       "      <td>None</td>\n",
       "      <td>MLM-COMPUTER_EQUIPMENT_AND_SPARE_PARTS</td>\n",
       "      <td>None</td>\n",
       "      <td>...</td>\n",
       "      <td>-1.0</td>\n",
       "      <td>5163.0</td>\n",
       "      <td>-1.0</td>\n",
       "      <td>5163.0</td>\n",
       "      <td>-1.0</td>\n",
       "      <td>-1.0</td>\n",
       "      <td>-1.0</td>\n",
       "      <td>-1.0</td>\n",
       "      <td>-1.0</td>\n",
       "      <td>MLM-COMPUTER_EQUIPMENT_AND_SPARE_PARTS</td>\n",
       "    </tr>\n",
       "    <tr>\n",
       "      <th>159971</th>\n",
       "      <td>556280</td>\n",
       "      <td>MLB-CELLPHONE_ACCESSORIES</td>\n",
       "      <td>1781.0</td>\n",
       "      <td>477683.0</td>\n",
       "      <td>1158701.0</td>\n",
       "      <td>984219.0</td>\n",
       "      <td>MLB-CELLPHONE_ACCESSORIES</td>\n",
       "      <td>MLB-CELLPHONE_ACCESSORIES</td>\n",
       "      <td>MLB-CELLPHONE_ACCESSORIES</td>\n",
       "      <td>MLB-CELLPHONE_ACCESSORIES</td>\n",
       "      <td>...</td>\n",
       "      <td>888.0</td>\n",
       "      <td>888.0</td>\n",
       "      <td>888.0</td>\n",
       "      <td>888.0</td>\n",
       "      <td>-1.0</td>\n",
       "      <td>-1.0</td>\n",
       "      <td>-1.0</td>\n",
       "      <td>-1.0</td>\n",
       "      <td>-1.0</td>\n",
       "      <td>MLB-CELLPHONE_ACCESSORIES</td>\n",
       "    </tr>\n",
       "    <tr>\n",
       "      <th>157266</th>\n",
       "      <td>2066646</td>\n",
       "      <td>MLB-CARD_PAYMENT_TERMINALS</td>\n",
       "      <td>695928.0</td>\n",
       "      <td>967886.0</td>\n",
       "      <td>695928.0</td>\n",
       "      <td>967886.0</td>\n",
       "      <td>MLB-WRISTWATCHES</td>\n",
       "      <td>MLB-WRISTWATCHES</td>\n",
       "      <td>MLB-WRISTWATCHES</td>\n",
       "      <td>MLB-WRISTWATCHES</td>\n",
       "      <td>...</td>\n",
       "      <td>4193.0</td>\n",
       "      <td>4193.0</td>\n",
       "      <td>4193.0</td>\n",
       "      <td>4193.0</td>\n",
       "      <td>-1.0</td>\n",
       "      <td>-1.0</td>\n",
       "      <td>-1.0</td>\n",
       "      <td>-1.0</td>\n",
       "      <td>-1.0</td>\n",
       "      <td>MLB-WRISTWATCHES</td>\n",
       "    </tr>\n",
       "    <tr>\n",
       "      <th>49161</th>\n",
       "      <td>391231</td>\n",
       "      <td>MLB-SNEAKERS</td>\n",
       "      <td>391231.0</td>\n",
       "      <td>307115.0</td>\n",
       "      <td>307115.0</td>\n",
       "      <td>307115.0</td>\n",
       "      <td>MLB-SNEAKERS</td>\n",
       "      <td>MLB-SNEAKERS</td>\n",
       "      <td>MLB-SNEAKERS</td>\n",
       "      <td>MLB-SNEAKERS</td>\n",
       "      <td>...</td>\n",
       "      <td>3522.0</td>\n",
       "      <td>3522.0</td>\n",
       "      <td>3522.0</td>\n",
       "      <td>3522.0</td>\n",
       "      <td>-1.0</td>\n",
       "      <td>-1.0</td>\n",
       "      <td>-1.0</td>\n",
       "      <td>-1.0</td>\n",
       "      <td>-1.0</td>\n",
       "      <td>MLB-SNEAKERS</td>\n",
       "    </tr>\n",
       "    <tr>\n",
       "      <th>103130</th>\n",
       "      <td>1267666</td>\n",
       "      <td>MLB-PANTS</td>\n",
       "      <td>643402.0</td>\n",
       "      <td>2031693.0</td>\n",
       "      <td>1712194.0</td>\n",
       "      <td>643402.0</td>\n",
       "      <td>MLB-HAIR_CLIPPERS</td>\n",
       "      <td>MLB-PANTS</td>\n",
       "      <td>MLB-HAIR_REMOVAL</td>\n",
       "      <td>MLB-HAIR_CLIPPERS</td>\n",
       "      <td>...</td>\n",
       "      <td>2937.0</td>\n",
       "      <td>1974.0</td>\n",
       "      <td>1964.0</td>\n",
       "      <td>1964.0</td>\n",
       "      <td>2937.0</td>\n",
       "      <td>-1.0</td>\n",
       "      <td>-1.0</td>\n",
       "      <td>-1.0</td>\n",
       "      <td>-1.0</td>\n",
       "      <td>MLB-HAIR_CLIPPERS</td>\n",
       "    </tr>\n",
       "  </tbody>\n",
       "</table>\n",
       "<p>103291 rows × 27 columns</p>\n",
       "</div>"
      ],
      "text/plain": [
       "        item_bought         domain_id_item_bought  most_viewed_item_1  \\\n",
       "194770      1755076               MLB-VINYL_ROLLS            702360.0   \n",
       "219922      1974062                MLB-CELLPHONES           1944909.0   \n",
       "31979       2038562             MLB-HOME_SUPPLIES            882697.0   \n",
       "338550      1140650    MLB-SANDALS_AND_FLIP_FLOPS           1140650.0   \n",
       "299605      1296948                MLB-NAIL_FILES            236729.0   \n",
       "...             ...                           ...                 ...   \n",
       "381198       288129  MLM-SCHOOL_AND_OFFICE_PAPERS           1854903.0   \n",
       "159971       556280     MLB-CELLPHONE_ACCESSORIES              1781.0   \n",
       "157266      2066646    MLB-CARD_PAYMENT_TERMINALS            695928.0   \n",
       "49161        391231                  MLB-SNEAKERS            391231.0   \n",
       "103130      1267666                     MLB-PANTS            643402.0   \n",
       "\n",
       "        most_viewed_item_2  last_viewed_item_1  last_viewed_item_2  \\\n",
       "194770           1609412.0           1969824.0           1198853.0   \n",
       "219922              9643.0             37223.0           1354549.0   \n",
       "31979            1710131.0            197884.0            197884.0   \n",
       "338550           1769201.0           1140650.0           2082809.0   \n",
       "299605           1839702.0           1839702.0           1839702.0   \n",
       "...                    ...                 ...                 ...   \n",
       "381198           1854903.0           1854903.0                 NaN   \n",
       "159971            477683.0           1158701.0            984219.0   \n",
       "157266            967886.0            695928.0            967886.0   \n",
       "49161             307115.0            307115.0            307115.0   \n",
       "103130           2031693.0           1712194.0            643402.0   \n",
       "\n",
       "                  domain_id_most_viewed_item_1 domain_id_most_viewed_item_2  \\\n",
       "194770                       MLB-HOME_SUPPLIES            MLB-HOME_SUPPLIES   \n",
       "219922                          MLB-SEAT_BELTS               MLB-SEAT_BELTS   \n",
       "31979                           MLB-CELLPHONES               MLB-CELLPHONES   \n",
       "338550              MLB-SANDALS_AND_FLIP_FLOPS   MLB-SANDALS_AND_FLIP_FLOPS   \n",
       "299605                       MLB-COFFEE_MAKERS            MLB-COFFEE_MAKERS   \n",
       "...                                        ...                          ...   \n",
       "381198  MLM-COMPUTER_EQUIPMENT_AND_SPARE_PARTS                         None   \n",
       "159971               MLB-CELLPHONE_ACCESSORIES    MLB-CELLPHONE_ACCESSORIES   \n",
       "157266                        MLB-WRISTWATCHES             MLB-WRISTWATCHES   \n",
       "49161                             MLB-SNEAKERS                 MLB-SNEAKERS   \n",
       "103130                       MLB-HAIR_CLIPPERS                    MLB-PANTS   \n",
       "\n",
       "                  domain_id_last_viewed_item_1 domain_id_last_viewed_item_2  \\\n",
       "194770             MLB-ANIMAL_AND_BALL_HOPPERS       MLB-AUTOMOTIVE_EMBLEMS   \n",
       "219922                               MLB-PANTS      MLB-VEHICLE_ACCESSORIES   \n",
       "31979                     MLB-AIR_CONDITIONERS         MLB-AIR_CONDITIONERS   \n",
       "338550              MLB-SANDALS_AND_FLIP_FLOPS   MLB-SANDALS_AND_FLIP_FLOPS   \n",
       "299605                       MLB-COFFEE_MAKERS            MLB-COFFEE_MAKERS   \n",
       "...                                        ...                          ...   \n",
       "381198  MLM-COMPUTER_EQUIPMENT_AND_SPARE_PARTS                         None   \n",
       "159971               MLB-CELLPHONE_ACCESSORIES    MLB-CELLPHONE_ACCESSORIES   \n",
       "157266                        MLB-WRISTWATCHES             MLB-WRISTWATCHES   \n",
       "49161                             MLB-SNEAKERS                 MLB-SNEAKERS   \n",
       "103130                        MLB-HAIR_REMOVAL            MLB-HAIR_CLIPPERS   \n",
       "\n",
       "        ... encoded_domain_id_most_viewed_item_2  \\\n",
       "194770  ...                               2066.0   \n",
       "219922  ...                               3422.0   \n",
       "31979   ...                                886.0   \n",
       "338550  ...                               3374.0   \n",
       "299605  ...                               1017.0   \n",
       "...     ...                                  ...   \n",
       "381198  ...                                 -1.0   \n",
       "159971  ...                                888.0   \n",
       "157266  ...                               4193.0   \n",
       "49161   ...                               3522.0   \n",
       "103130  ...                               2937.0   \n",
       "\n",
       "       encoded_domain_id_last_viewed_item_1  \\\n",
       "194770                                 88.0   \n",
       "219922                               2937.0   \n",
       "31979                                  46.0   \n",
       "338550                               3374.0   \n",
       "299605                               1017.0   \n",
       "...                                     ...   \n",
       "381198                               5163.0   \n",
       "159971                                888.0   \n",
       "157266                               4193.0   \n",
       "49161                                3522.0   \n",
       "103130                               1974.0   \n",
       "\n",
       "       encoded_domain_id_last_viewed_item_2 encoded_most_viewed_domain_1  \\\n",
       "194770                                228.0                       2066.0   \n",
       "219922                               3983.0                       3422.0   \n",
       "31979                                  46.0                        886.0   \n",
       "338550                               3374.0                       3374.0   \n",
       "299605                               1017.0                       1017.0   \n",
       "...                                     ...                          ...   \n",
       "381198                                 -1.0                       5163.0   \n",
       "159971                                888.0                        888.0   \n",
       "157266                               4193.0                       4193.0   \n",
       "49161                                3522.0                       3522.0   \n",
       "103130                               1964.0                       1964.0   \n",
       "\n",
       "       encoded_most_viewed_domain_2 encoded_domain_id_most_searched_ngram_1  \\\n",
       "194770                       4044.0                                    -1.0   \n",
       "219922                       3983.0                                    -1.0   \n",
       "31979                          46.0                                    -1.0   \n",
       "338550                       2037.0                                    -1.0   \n",
       "299605                       1015.0                                    -1.0   \n",
       "...                             ...                                     ...   \n",
       "381198                         -1.0                                    -1.0   \n",
       "159971                         -1.0                                    -1.0   \n",
       "157266                         -1.0                                    -1.0   \n",
       "49161                          -1.0                                    -1.0   \n",
       "103130                       2937.0                                    -1.0   \n",
       "\n",
       "        encoded_domain_id_most_searched_ngram_2  \\\n",
       "194770                                     -1.0   \n",
       "219922                                     -1.0   \n",
       "31979                                      -1.0   \n",
       "338550                                     -1.0   \n",
       "299605                                     -1.0   \n",
       "...                                         ...   \n",
       "381198                                     -1.0   \n",
       "159971                                     -1.0   \n",
       "157266                                     -1.0   \n",
       "49161                                      -1.0   \n",
       "103130                                     -1.0   \n",
       "\n",
       "        encoded_domain_id_last_searched_1  encoded_domain_id_last_searched_2  \\\n",
       "194770                               -1.0                               -1.0   \n",
       "219922                               -1.0                               -1.0   \n",
       "31979                                -1.0                               -1.0   \n",
       "338550                               -1.0                               -1.0   \n",
       "299605                               -1.0                               -1.0   \n",
       "...                                   ...                                ...   \n",
       "381198                               -1.0                               -1.0   \n",
       "159971                               -1.0                               -1.0   \n",
       "157266                               -1.0                               -1.0   \n",
       "49161                                -1.0                               -1.0   \n",
       "103130                               -1.0                               -1.0   \n",
       "\n",
       "                                domain_id_tree  \n",
       "194770                       MLB-HOME_SUPPLIES  \n",
       "219922                            MLB-SCOOTERS  \n",
       "31979                     MLB-AIR_CONDITIONERS  \n",
       "338550              MLB-SANDALS_AND_FLIP_FLOPS  \n",
       "299605                     MLB-COFFEE_CAPSULES  \n",
       "...                                        ...  \n",
       "381198  MLM-COMPUTER_EQUIPMENT_AND_SPARE_PARTS  \n",
       "159971               MLB-CELLPHONE_ACCESSORIES  \n",
       "157266                        MLB-WRISTWATCHES  \n",
       "49161                             MLB-SNEAKERS  \n",
       "103130                       MLB-HAIR_CLIPPERS  \n",
       "\n",
       "[103291 rows x 27 columns]"
      ]
     },
     "execution_count": 43,
     "metadata": {},
     "output_type": "execute_result"
    }
   ],
   "source": [
    "df_test_split"
   ]
  },
  {
   "cell_type": "code",
   "execution_count": 48,
   "metadata": {},
   "outputs": [],
   "source": [
    "df_most_bought = (df_train_split[['domain_id_item_bought','item_bought']]\n",
    "                  .reset_index()\n",
    "                  .groupby(by=['domain_id_item_bought','item_bought'])\n",
    "                  .count()\n",
    "                  .sort_values(by=['domain_id_item_bought','index'], ascending=False))\n",
    "\n",
    "# Add information about the number of items bought per domain\n",
    "df_most_bought = df_most_bought.join(df_most_bought\n",
    "                                     .reset_index()[['domain_id_item_bought','index']]\n",
    "                                     .groupby(by='domain_id_item_bought')\n",
    "                                     .sum()\n",
    "                                     .sort_values(by='index', ascending=False),\n",
    "                                     how='left', rsuffix='_sum')\n",
    "\n",
    "most_bought_items = [i[0] \n",
    "                     for i in \n",
    "                     (df_most_bought\n",
    "                      .sort_values(by='index', ascending=False)\n",
    "                      .head(10).values)]\n",
    "\n",
    "available_domains = (df_most_bought\n",
    "                     .reset_index()\n",
    "                     ['domain_id_item_bought']\n",
    "                     .unique())\n",
    "\n",
    "predict_ = partial(predict_vote, cols_domain=cols_feat_domain+['domain_id_tree'],\n",
    "                   cols_item=cols_item,\n",
    "                   df_most_bought=df_most_bought,\n",
    "                   available_domains=available_domains,\n",
    "                   most_bought_items=most_bought_items)"
   ]
  },
  {
   "cell_type": "code",
   "execution_count": 49,
   "metadata": {},
   "outputs": [
    {
     "name": "stdout",
     "output_type": "stream",
     "text": [
      "CPU times: user 2min 57s, sys: 358 ms, total: 2min 57s\n",
      "Wall time: 2min 57s\n"
     ]
    }
   ],
   "source": [
    "%%time\n",
    "y_pred = df_test_split.apply(predict_, axis=1).values"
   ]
  },
  {
   "cell_type": "code",
   "execution_count": 50,
   "metadata": {},
   "outputs": [
    {
     "data": {
      "text/plain": [
       "array([list([702360, 1609412, 1198853, 1969824, 501048, 88545, 987327, 657474, 999089, 929184]),\n",
       "       list([1354549, 9643, 1944909, 37223, 1567936, 649361, 1600440, 120284, 863572, 412]),\n",
       "       list([882697, 1710131, 197884, 2028013, 301390, 795772, 1523773, 451393, 1951279, 641284]),\n",
       "       list([1769201, 1140650, 2082809, 1344440, 1563480, 1297894, 2042014, 896262, 1244919, 1803825]),\n",
       "       list([236729, 1839702, 1055848, 1017181, 2071025, 1713316, 1039418, 149802, 1841823, 1694827]),\n",
       "       list([1417407, 1781650, 2058598, 1263983, 457734, 1151909, 1617443, 412, 292, 291]),\n",
       "       list([533194, 451314, 1533900, 116771, 583139, 1506037, 1336864, 122562, 195578, 315761]),\n",
       "       list([1699907, 430252, 1887359, 1404005, 717628, 2047913, 215683, 349404, 706521, 1009625]),\n",
       "       list([1771696, 613068, 2065319, 1469766, 1735418, 7244, 393734, 777247, 1561930, 132800]),\n",
       "       list([1317448, 1080242, 64837, 868959, 441418, 351968, 2069194, 1331091, 1705893, 1044110])],\n",
       "      dtype=object)"
      ]
     },
     "execution_count": 50,
     "metadata": {},
     "output_type": "execute_result"
    }
   ],
   "source": [
    "y_pred[:10]"
   ]
  },
  {
   "cell_type": "code",
   "execution_count": 51,
   "metadata": {},
   "outputs": [],
   "source": [
    "y_true = df_test_split['item_bought'].values"
   ]
  },
  {
   "cell_type": "code",
   "execution_count": 56,
   "metadata": {},
   "outputs": [
    {
     "name": "stdout",
     "output_type": "stream",
     "text": [
      "CPU times: user 3.8 s, sys: 109 ms, total: 3.9 s\n",
      "Wall time: 3.9 s\n"
     ]
    }
   ],
   "source": [
    "%%time\n",
    "score = ndcg_score(y_true, y_pred, item_data, n_predictions=10)"
   ]
  },
  {
   "cell_type": "code",
   "execution_count": 57,
   "metadata": {},
   "outputs": [
    {
     "data": {
      "text/plain": [
       "0.24149850227976313"
      ]
     },
     "execution_count": 57,
     "metadata": {},
     "output_type": "execute_result"
    }
   ],
   "source": [
    "score"
   ]
  },
  {
   "cell_type": "markdown",
   "metadata": {},
   "source": [
    "#### Test\n",
    "\n",
    "Using only the tree predicted domain."
   ]
  },
  {
   "cell_type": "code",
   "execution_count": 58,
   "metadata": {},
   "outputs": [],
   "source": [
    "predict_ = partial(predict_vote, cols_domain=['domain_id_tree'],\n",
    "                   cols_item=cols_item,\n",
    "                   df_most_bought=df_most_bought,\n",
    "                   available_domains=available_domains,\n",
    "                   most_bought_items=most_bought_items)"
   ]
  },
  {
   "cell_type": "code",
   "execution_count": 59,
   "metadata": {},
   "outputs": [
    {
     "name": "stdout",
     "output_type": "stream",
     "text": [
      "CPU times: user 1min 53s, sys: 157 ms, total: 1min 54s\n",
      "Wall time: 1min 54s\n"
     ]
    }
   ],
   "source": [
    "%%time\n",
    "y_pred = df_test_split.apply(predict_, axis=1).values"
   ]
  },
  {
   "cell_type": "code",
   "execution_count": 60,
   "metadata": {},
   "outputs": [
    {
     "name": "stdout",
     "output_type": "stream",
     "text": [
      "CPU times: user 3.27 s, sys: 116 ms, total: 3.39 s\n",
      "Wall time: 3.39 s\n"
     ]
    }
   ],
   "source": [
    "%%time\n",
    "score = ndcg_score(y_true, y_pred, item_data, n_predictions=10)"
   ]
  },
  {
   "cell_type": "code",
   "execution_count": 61,
   "metadata": {},
   "outputs": [
    {
     "data": {
      "text/plain": [
       "0.2291374253956851"
      ]
     },
     "execution_count": 61,
     "metadata": {},
     "output_type": "execute_result"
    }
   ],
   "source": [
    "score"
   ]
  },
  {
   "cell_type": "markdown",
   "metadata": {},
   "source": [
    "# Submission"
   ]
  },
  {
   "cell_type": "markdown",
   "metadata": {},
   "source": [
    "## All Features + Voting"
   ]
  },
  {
   "cell_type": "code",
   "execution_count": 8,
   "metadata": {},
   "outputs": [],
   "source": [
    "path = '../'\n",
    "train_filename = 'data/interim/train_dataset_features.parquet'\n",
    "test_filename = 'data/interim/test_dataset_features.parquet'\n",
    "\n",
    "cols_load = ['item_bought', 'domain_id_item_bought']\n",
    "cols_feat_domain = []\n",
    "\n",
    "cols_item = [f'{i}_viewed_item_{j}' for i in ['most','last'] for j in range(1,3)]\n",
    "cols_load.extend(cols_item)\n",
    "\n",
    "cols_item_domain = [f'domain_id_{c}' for c in cols_item]\n",
    "cols_load.extend(cols_item_domain)\n",
    "cols_feat_domain.extend(cols_item_domain)\n",
    "\n",
    "cols_domain = [f'most_viewed_domain_{i}' for i in range(1,3)]\n",
    "cols_load.extend(cols_domain)\n",
    "cols_feat_domain.extend(cols_domain)\n",
    "\n",
    "cols_ngram_domain = [f'domain_id_most_searched_ngram_{i}' for i in range(1,3)]\n",
    "cols_load.extend(cols_ngram_domain)\n",
    "cols_feat_domain.extend(cols_ngram_domain)\n",
    "\n",
    "cols_searched_domain = [f'domain_id_last_searched_{i}' for i in range(1,3)]\n",
    "cols_load.extend(cols_searched_domain)\n",
    "cols_feat_domain.extend(cols_searched_domain)"
   ]
  },
  {
   "cell_type": "code",
   "execution_count": 16,
   "metadata": {},
   "outputs": [],
   "source": [
    "df_train = pd.read_parquet(os.path.join(path, train_filename), columns=cols_load)\n",
    "df_test = pd.read_parquet(os.path.join(path, test_filename), columns=cols_load[2:]+['user_id'])"
   ]
  },
  {
   "cell_type": "code",
   "execution_count": 17,
   "metadata": {},
   "outputs": [],
   "source": [
    "df_most_bought = (df_train[['domain_id_item_bought','item_bought']]\n",
    "                  .reset_index()\n",
    "                  .groupby(by=['domain_id_item_bought','item_bought'])\n",
    "                  .count()\n",
    "                  .sort_values(by=['domain_id_item_bought','index'], ascending=False))\n",
    "\n",
    "# Add information about the number of items bought per domain\n",
    "df_most_bought = df_most_bought.join(df_most_bought\n",
    "                                     .reset_index()[['domain_id_item_bought','index']]\n",
    "                                     .groupby(by='domain_id_item_bought')\n",
    "                                     .sum()\n",
    "                                     .sort_values(by='index', ascending=False),\n",
    "                                     how='left', rsuffix='_sum')\n",
    "\n",
    "most_bought_items = [i[0] \n",
    "                     for i in \n",
    "                     (df_most_bought\n",
    "                      .sort_values(by='index', ascending=False)\n",
    "                      .head(10).values)]\n",
    "\n",
    "available_domains = (df_most_bought\n",
    "                     .reset_index()\n",
    "                     ['domain_id_item_bought']\n",
    "                     .unique())\n",
    "\n",
    "predict_ = partial(predict_vote, cols_domain=cols_domain,\n",
    "                   cols_item=cols_item,\n",
    "                   df_most_bought=df_most_bought,\n",
    "                   available_domains=available_domains,\n",
    "                   most_bought_items=most_bought_items)"
   ]
  },
  {
   "cell_type": "code",
   "execution_count": 18,
   "metadata": {},
   "outputs": [],
   "source": [
    "df_test = df_test.set_index('user_id').sort_index()"
   ]
  },
  {
   "cell_type": "code",
   "execution_count": 19,
   "metadata": {},
   "outputs": [],
   "source": [
    "y_pred = df_test.apply(predict_, axis=1).values"
   ]
  },
  {
   "cell_type": "code",
   "execution_count": 20,
   "metadata": {},
   "outputs": [],
   "source": [
    "df_y_pred = pd.DataFrame(list(y_pred))"
   ]
  },
  {
   "cell_type": "code",
   "execution_count": 21,
   "metadata": {},
   "outputs": [
    {
     "data": {
      "text/html": [
       "<div>\n",
       "<style scoped>\n",
       "    .dataframe tbody tr th:only-of-type {\n",
       "        vertical-align: middle;\n",
       "    }\n",
       "\n",
       "    .dataframe tbody tr th {\n",
       "        vertical-align: top;\n",
       "    }\n",
       "\n",
       "    .dataframe thead th {\n",
       "        text-align: right;\n",
       "    }\n",
       "</style>\n",
       "<table border=\"1\" class=\"dataframe\">\n",
       "  <thead>\n",
       "    <tr style=\"text-align: right;\">\n",
       "      <th></th>\n",
       "      <th>0</th>\n",
       "      <th>1</th>\n",
       "      <th>2</th>\n",
       "      <th>3</th>\n",
       "      <th>4</th>\n",
       "      <th>5</th>\n",
       "      <th>6</th>\n",
       "      <th>7</th>\n",
       "      <th>8</th>\n",
       "      <th>9</th>\n",
       "    </tr>\n",
       "  </thead>\n",
       "  <tbody>\n",
       "    <tr>\n",
       "      <th>0</th>\n",
       "      <td>685656</td>\n",
       "      <td>1194894</td>\n",
       "      <td>1572239</td>\n",
       "      <td>1439187</td>\n",
       "      <td>1864599</td>\n",
       "      <td>350187</td>\n",
       "      <td>1006988</td>\n",
       "      <td>1717880</td>\n",
       "      <td>457681</td>\n",
       "      <td>758382</td>\n",
       "    </tr>\n",
       "    <tr>\n",
       "      <th>1</th>\n",
       "      <td>943786</td>\n",
       "      <td>831243</td>\n",
       "      <td>849692</td>\n",
       "      <td>361733</td>\n",
       "      <td>1140688</td>\n",
       "      <td>1056120</td>\n",
       "      <td>353783</td>\n",
       "      <td>1676401</td>\n",
       "      <td>1007213</td>\n",
       "      <td>1386246</td>\n",
       "    </tr>\n",
       "    <tr>\n",
       "      <th>2</th>\n",
       "      <td>1614538</td>\n",
       "      <td>1986443</td>\n",
       "      <td>991246</td>\n",
       "      <td>1219935</td>\n",
       "      <td>659207</td>\n",
       "      <td>1453414</td>\n",
       "      <td>1425924</td>\n",
       "      <td>1260633</td>\n",
       "      <td>251150</td>\n",
       "      <td>731397</td>\n",
       "    </tr>\n",
       "    <tr>\n",
       "      <th>3</th>\n",
       "      <td>859574</td>\n",
       "      <td>1371799</td>\n",
       "      <td>119703</td>\n",
       "      <td>1332849</td>\n",
       "      <td>882697</td>\n",
       "      <td>1098739</td>\n",
       "      <td>98853</td>\n",
       "      <td>790888</td>\n",
       "      <td>967194</td>\n",
       "      <td>1595373</td>\n",
       "    </tr>\n",
       "    <tr>\n",
       "      <th>4</th>\n",
       "      <td>1398419</td>\n",
       "      <td>1695773</td>\n",
       "      <td>868571</td>\n",
       "      <td>753509</td>\n",
       "      <td>914038</td>\n",
       "      <td>1197614</td>\n",
       "      <td>509032</td>\n",
       "      <td>795435</td>\n",
       "      <td>834557</td>\n",
       "      <td>1696062</td>\n",
       "    </tr>\n",
       "    <tr>\n",
       "      <th>...</th>\n",
       "      <td>...</td>\n",
       "      <td>...</td>\n",
       "      <td>...</td>\n",
       "      <td>...</td>\n",
       "      <td>...</td>\n",
       "      <td>...</td>\n",
       "      <td>...</td>\n",
       "      <td>...</td>\n",
       "      <td>...</td>\n",
       "      <td>...</td>\n",
       "    </tr>\n",
       "    <tr>\n",
       "      <th>177065</th>\n",
       "      <td>24604</td>\n",
       "      <td>88545</td>\n",
       "      <td>501048</td>\n",
       "      <td>987327</td>\n",
       "      <td>657474</td>\n",
       "      <td>999089</td>\n",
       "      <td>1027716</td>\n",
       "      <td>929184</td>\n",
       "      <td>1328040</td>\n",
       "      <td>1873494</td>\n",
       "    </tr>\n",
       "    <tr>\n",
       "      <th>177066</th>\n",
       "      <td>331472</td>\n",
       "      <td>1651522</td>\n",
       "      <td>1384867</td>\n",
       "      <td>1907343</td>\n",
       "      <td>1711350</td>\n",
       "      <td>558</td>\n",
       "      <td>384</td>\n",
       "      <td>371</td>\n",
       "      <td>348</td>\n",
       "      <td>344</td>\n",
       "    </tr>\n",
       "    <tr>\n",
       "      <th>177067</th>\n",
       "      <td>1061535</td>\n",
       "      <td>2033823</td>\n",
       "      <td>679654</td>\n",
       "      <td>460028</td>\n",
       "      <td>1395589</td>\n",
       "      <td>1550304</td>\n",
       "      <td>289602</td>\n",
       "      <td>1492333</td>\n",
       "      <td>1426798</td>\n",
       "      <td>359542</td>\n",
       "    </tr>\n",
       "    <tr>\n",
       "      <th>177068</th>\n",
       "      <td>1803169</td>\n",
       "      <td>762367</td>\n",
       "      <td>1802089</td>\n",
       "      <td>894197</td>\n",
       "      <td>2029390</td>\n",
       "      <td>877276</td>\n",
       "      <td>1116998</td>\n",
       "      <td>514188</td>\n",
       "      <td>170257</td>\n",
       "      <td>613975</td>\n",
       "    </tr>\n",
       "    <tr>\n",
       "      <th>177069</th>\n",
       "      <td>888769</td>\n",
       "      <td>498187</td>\n",
       "      <td>1356705</td>\n",
       "      <td>2082999</td>\n",
       "      <td>859574</td>\n",
       "      <td>1371799</td>\n",
       "      <td>119703</td>\n",
       "      <td>1332849</td>\n",
       "      <td>882697</td>\n",
       "      <td>1098739</td>\n",
       "    </tr>\n",
       "  </tbody>\n",
       "</table>\n",
       "<p>177070 rows × 10 columns</p>\n",
       "</div>"
      ],
      "text/plain": [
       "              0        1        2        3        4        5        6  \\\n",
       "0        685656  1194894  1572239  1439187  1864599   350187  1006988   \n",
       "1        943786   831243   849692   361733  1140688  1056120   353783   \n",
       "2       1614538  1986443   991246  1219935   659207  1453414  1425924   \n",
       "3        859574  1371799   119703  1332849   882697  1098739    98853   \n",
       "4       1398419  1695773   868571   753509   914038  1197614   509032   \n",
       "...         ...      ...      ...      ...      ...      ...      ...   \n",
       "177065    24604    88545   501048   987327   657474   999089  1027716   \n",
       "177066   331472  1651522  1384867  1907343  1711350      558      384   \n",
       "177067  1061535  2033823   679654   460028  1395589  1550304   289602   \n",
       "177068  1803169   762367  1802089   894197  2029390   877276  1116998   \n",
       "177069   888769   498187  1356705  2082999   859574  1371799   119703   \n",
       "\n",
       "              7        8        9  \n",
       "0       1717880   457681   758382  \n",
       "1       1676401  1007213  1386246  \n",
       "2       1260633   251150   731397  \n",
       "3        790888   967194  1595373  \n",
       "4        795435   834557  1696062  \n",
       "...         ...      ...      ...  \n",
       "177065   929184  1328040  1873494  \n",
       "177066      371      348      344  \n",
       "177067  1492333  1426798   359542  \n",
       "177068   514188   170257   613975  \n",
       "177069  1332849   882697  1098739  \n",
       "\n",
       "[177070 rows x 10 columns]"
      ]
     },
     "execution_count": 21,
     "metadata": {},
     "output_type": "execute_result"
    }
   ],
   "source": [
    "df_y_pred"
   ]
  },
  {
   "cell_type": "code",
   "execution_count": 22,
   "metadata": {},
   "outputs": [],
   "source": [
    "from datetime import datetime"
   ]
  },
  {
   "cell_type": "code",
   "execution_count": 28,
   "metadata": {},
   "outputs": [
    {
     "name": "stdin",
     "output_type": "stream",
     "text": [
      " heuristic_vote\n"
     ]
    },
    {
     "name": "stdout",
     "output_type": "stream",
     "text": [
      "../data/submission/heuristic_vote_2020-11-30_17-23-38.csv\n"
     ]
    }
   ],
   "source": [
    "now = datetime.now().strftime(\"%Y-%m-%d_%H-%M-%S\")\n",
    "model = input()\n",
    "submission_filename = f'../data/submission/{model}_{now}.csv'\n",
    "print(submission_filename)"
   ]
  },
  {
   "cell_type": "code",
   "execution_count": 29,
   "metadata": {},
   "outputs": [],
   "source": [
    "df_y_pred.to_csv(submission_filename, index=False, header=False)"
   ]
  },
  {
   "cell_type": "markdown",
   "metadata": {},
   "source": [
    "## All Features + Tree + Voting"
   ]
  },
  {
   "cell_type": "code",
   "execution_count": 2,
   "metadata": {},
   "outputs": [],
   "source": [
    "path = '../'\n",
    "train_filename = 'data/interim/train_dataset_features.parquet'\n",
    "test_filename = 'data/interim/test_dataset_features.parquet'\n",
    "item_filename = 'data/interim/item_data.parquet'\n",
    "\n",
    "cols_load_test = ['item_id', 'domain_id', 'domain_code']\n",
    "\n",
    "cols_load_train = ['item_bought', 'domain_id_item_bought']\n",
    "cols_feat_domain = []\n",
    "\n",
    "cols_item = [f'{i}_viewed_item_{j}' for i in ['most','last'] for j in range(1,3)]\n",
    "cols_load_train.extend(cols_item)\n",
    "\n",
    "cols_item_domain = [f'domain_id_{c}' for c in cols_item]\n",
    "cols_load_train.extend(cols_item_domain)\n",
    "cols_feat_domain.extend(cols_item_domain)\n",
    "\n",
    "cols_domain = [f'most_viewed_domain_{i}' for i in range(1,3)]\n",
    "cols_load_train.extend(cols_domain)\n",
    "cols_feat_domain.extend(cols_domain)\n",
    "\n",
    "cols_ngram_domain = [f'domain_id_most_searched_ngram_{i}' for i in range(1,3)]\n",
    "cols_load_train.extend(cols_ngram_domain)\n",
    "cols_feat_domain.extend(cols_ngram_domain)\n",
    "\n",
    "cols_searched_domain = [f'domain_id_last_searched_{i}' for i in range(1,3)]\n",
    "cols_load_train.extend(cols_searched_domain)\n",
    "cols_feat_domain.extend(cols_searched_domain)"
   ]
  },
  {
   "cell_type": "code",
   "execution_count": 3,
   "metadata": {},
   "outputs": [],
   "source": [
    "df_train = pd.read_parquet(os.path.join(path, train_filename), columns=cols_load_train)\n",
    "df_test = pd.read_parquet(os.path.join(path, test_filename), columns=cols_load_train[2:]+['user_id'])\n",
    "df_item = pd.read_parquet(os.path.join(path, item_filename), columns=cols_load_test)"
   ]
  },
  {
   "cell_type": "code",
   "execution_count": 7,
   "metadata": {},
   "outputs": [],
   "source": [
    "domain_mapper = {x[0]: int(x[1])\n",
    "                 for x in (df_item\n",
    "                           [['domain_id','domain_code']]\n",
    "                           .dropna(how='all')\n",
    "                           .values)}\n",
    "\n",
    "domain_mapper_reverse = {value: key for (key,value) in domain_mapper.items()}\n",
    "\n",
    "df_most_bought = (df_train[['domain_id_item_bought','item_bought']]\n",
    "                  .reset_index()\n",
    "                  .groupby(by=['domain_id_item_bought','item_bought'])\n",
    "                  .count()\n",
    "                  .sort_values(by=['domain_id_item_bought','index'], ascending=False))\n",
    "\n",
    "# Add information about the number of items bought per domain\n",
    "df_most_bought = df_most_bought.join(df_most_bought\n",
    "                                     .reset_index()[['domain_id_item_bought','index']]\n",
    "                                     .groupby(by='domain_id_item_bought')\n",
    "                                     .sum()\n",
    "                                     .sort_values(by='index', ascending=False),\n",
    "                                     how='left', rsuffix='_sum')\n",
    "\n",
    "most_bought_items = [i[0] \n",
    "                     for i in \n",
    "                     (df_most_bought\n",
    "                      .sort_values(by='index', ascending=False)\n",
    "                      .head(10).values)]\n",
    "\n",
    "available_domains = (df_most_bought\n",
    "                     .reset_index()\n",
    "                     ['domain_id_item_bought']\n",
    "                     .unique())\n",
    "\n",
    "predict_ = partial(predict_vote, cols_domain=cols_domain+['domain_id_tree'],\n",
    "                   cols_item=cols_item,\n",
    "                   df_most_bought=df_most_bought,\n",
    "                   available_domains=available_domains,\n",
    "                   most_bought_items=most_bought_items)"
   ]
  },
  {
   "cell_type": "code",
   "execution_count": 8,
   "metadata": {},
   "outputs": [],
   "source": [
    "df_test = df_test.set_index('user_id').sort_index()"
   ]
  },
  {
   "cell_type": "code",
   "execution_count": 9,
   "metadata": {},
   "outputs": [],
   "source": [
    "cols_feat_domain_encoded = [f'encoded_{c}' for c in cols_feat_domain]\n",
    "\n",
    "for c in cols_feat_domain:\n",
    "    df_train[f'encoded_{c}'] = df_train[c].map(domain_mapper).fillna(-1)\n",
    "    \n",
    "df_train['encoded_domain_id_item_bought'] = df_train['domain_id_item_bought'].map(domain_mapper).fillna(-1)\n",
    "\n",
    "for c in cols_feat_domain:\n",
    "    df_test[f'encoded_{c}'] = df_test[c].map(domain_mapper).fillna(-1)"
   ]
  },
  {
   "cell_type": "code",
   "execution_count": 10,
   "metadata": {},
   "outputs": [
    {
     "data": {
      "text/html": [
       "<div>\n",
       "<style scoped>\n",
       "    .dataframe tbody tr th:only-of-type {\n",
       "        vertical-align: middle;\n",
       "    }\n",
       "\n",
       "    .dataframe tbody tr th {\n",
       "        vertical-align: top;\n",
       "    }\n",
       "\n",
       "    .dataframe thead th {\n",
       "        text-align: right;\n",
       "    }\n",
       "</style>\n",
       "<table border=\"1\" class=\"dataframe\">\n",
       "  <thead>\n",
       "    <tr style=\"text-align: right;\">\n",
       "      <th></th>\n",
       "      <th>item_bought</th>\n",
       "      <th>domain_id_item_bought</th>\n",
       "      <th>most_viewed_item_1</th>\n",
       "      <th>most_viewed_item_2</th>\n",
       "      <th>last_viewed_item_1</th>\n",
       "      <th>last_viewed_item_2</th>\n",
       "      <th>domain_id_most_viewed_item_1</th>\n",
       "      <th>domain_id_most_viewed_item_2</th>\n",
       "      <th>domain_id_last_viewed_item_1</th>\n",
       "      <th>domain_id_last_viewed_item_2</th>\n",
       "      <th>...</th>\n",
       "      <th>encoded_domain_id_most_viewed_item_2</th>\n",
       "      <th>encoded_domain_id_last_viewed_item_1</th>\n",
       "      <th>encoded_domain_id_last_viewed_item_2</th>\n",
       "      <th>encoded_most_viewed_domain_1</th>\n",
       "      <th>encoded_most_viewed_domain_2</th>\n",
       "      <th>encoded_domain_id_most_searched_ngram_1</th>\n",
       "      <th>encoded_domain_id_most_searched_ngram_2</th>\n",
       "      <th>encoded_domain_id_last_searched_1</th>\n",
       "      <th>encoded_domain_id_last_searched_2</th>\n",
       "      <th>encoded_domain_id_item_bought</th>\n",
       "    </tr>\n",
       "  </thead>\n",
       "  <tbody>\n",
       "    <tr>\n",
       "      <th>0</th>\n",
       "      <td>394965</td>\n",
       "      <td>MLB-PRINTER_INKS</td>\n",
       "      <td>626904.0</td>\n",
       "      <td>1833895.0</td>\n",
       "      <td>1.0</td>\n",
       "      <td>1.0</td>\n",
       "      <td>MLB-NETWORK_PLUGS</td>\n",
       "      <td>MLB-COMPUTER_EQUIPMENT_AND_SPARE_PARTS</td>\n",
       "      <td>MLB-BOOTS_AND_BOOTIES</td>\n",
       "      <td>MLB-BOOTS_AND_BOOTIES</td>\n",
       "      <td>...</td>\n",
       "      <td>1072.0</td>\n",
       "      <td>692.0</td>\n",
       "      <td>692.0</td>\n",
       "      <td>3838.0</td>\n",
       "      <td>2021.0</td>\n",
       "      <td>-1.0</td>\n",
       "      <td>-1.0</td>\n",
       "      <td>-1.0</td>\n",
       "      <td>-1.0</td>\n",
       "      <td>3192</td>\n",
       "    </tr>\n",
       "    <tr>\n",
       "      <th>1</th>\n",
       "      <td>331081</td>\n",
       "      <td>MLM-BAR_CODE_SCANNERS</td>\n",
       "      <td>331081.0</td>\n",
       "      <td>768359.0</td>\n",
       "      <td>768359.0</td>\n",
       "      <td>11.0</td>\n",
       "      <td>MLM-BAR_CODE_SCANNERS</td>\n",
       "      <td>MLM-BAR_CODE_SCANNERS</td>\n",
       "      <td>MLM-BAR_CODE_SCANNERS</td>\n",
       "      <td>MLM-COMPUTER_EQUIPMENT_AND_SPARE_PARTS</td>\n",
       "      <td>...</td>\n",
       "      <td>4641.0</td>\n",
       "      <td>4641.0</td>\n",
       "      <td>5163.0</td>\n",
       "      <td>4641.0</td>\n",
       "      <td>5163.0</td>\n",
       "      <td>-1.0</td>\n",
       "      <td>-1.0</td>\n",
       "      <td>-1.0</td>\n",
       "      <td>-1.0</td>\n",
       "      <td>4641</td>\n",
       "    </tr>\n",
       "    <tr>\n",
       "      <th>2</th>\n",
       "      <td>1434557</td>\n",
       "      <td>MLB-WRENCH_SETS</td>\n",
       "      <td>1100593.0</td>\n",
       "      <td>74407.0</td>\n",
       "      <td>1021802.0</td>\n",
       "      <td>13.0</td>\n",
       "      <td>MLB-PLANTS</td>\n",
       "      <td>MLB-SPEAKERS</td>\n",
       "      <td>MLB-SPEAKERS</td>\n",
       "      <td>MLB-SPEAKERS</td>\n",
       "      <td>...</td>\n",
       "      <td>3554.0</td>\n",
       "      <td>3554.0</td>\n",
       "      <td>3554.0</td>\n",
       "      <td>3554.0</td>\n",
       "      <td>3951.0</td>\n",
       "      <td>-1.0</td>\n",
       "      <td>-1.0</td>\n",
       "      <td>-1.0</td>\n",
       "      <td>-1.0</td>\n",
       "      <td>4191</td>\n",
       "    </tr>\n",
       "    <tr>\n",
       "      <th>3</th>\n",
       "      <td>492271</td>\n",
       "      <td>MLM-CELLPHONE_SCREENS</td>\n",
       "      <td>15.0</td>\n",
       "      <td>106702.0</td>\n",
       "      <td>15.0</td>\n",
       "      <td>15.0</td>\n",
       "      <td>MLM-GAME_CONSOLES_VIDEO_GAMES_AND_ARCADE_MACHINES</td>\n",
       "      <td>MLM-CAR_LIGHT_BULBS</td>\n",
       "      <td>MLM-GAME_CONSOLES_VIDEO_GAMES_AND_ARCADE_MACHINES</td>\n",
       "      <td>MLM-GAME_CONSOLES_VIDEO_GAMES_AND_ARCADE_MACHINES</td>\n",
       "      <td>...</td>\n",
       "      <td>4968.0</td>\n",
       "      <td>5811.0</td>\n",
       "      <td>5811.0</td>\n",
       "      <td>4968.0</td>\n",
       "      <td>5811.0</td>\n",
       "      <td>-1.0</td>\n",
       "      <td>-1.0</td>\n",
       "      <td>-1.0</td>\n",
       "      <td>-1.0</td>\n",
       "      <td>5017</td>\n",
       "    </tr>\n",
       "    <tr>\n",
       "      <th>4</th>\n",
       "      <td>1540965</td>\n",
       "      <td>MLB-MUGS</td>\n",
       "      <td>860111.0</td>\n",
       "      <td>33.0</td>\n",
       "      <td>194780.0</td>\n",
       "      <td>33.0</td>\n",
       "      <td>MLB-BALL_PIT_BALLS</td>\n",
       "      <td>MLB-INFLATABLE_BALL_PITS</td>\n",
       "      <td>MLB-KIDS_TENTS</td>\n",
       "      <td>MLB-INFLATABLE_BALL_PITS</td>\n",
       "      <td>...</td>\n",
       "      <td>2187.0</td>\n",
       "      <td>2275.0</td>\n",
       "      <td>2187.0</td>\n",
       "      <td>476.0</td>\n",
       "      <td>2187.0</td>\n",
       "      <td>-1.0</td>\n",
       "      <td>-1.0</td>\n",
       "      <td>-1.0</td>\n",
       "      <td>-1.0</td>\n",
       "      <td>2753</td>\n",
       "    </tr>\n",
       "    <tr>\n",
       "      <th>...</th>\n",
       "      <td>...</td>\n",
       "      <td>...</td>\n",
       "      <td>...</td>\n",
       "      <td>...</td>\n",
       "      <td>...</td>\n",
       "      <td>...</td>\n",
       "      <td>...</td>\n",
       "      <td>...</td>\n",
       "      <td>...</td>\n",
       "      <td>...</td>\n",
       "      <td>...</td>\n",
       "      <td>...</td>\n",
       "      <td>...</td>\n",
       "      <td>...</td>\n",
       "      <td>...</td>\n",
       "      <td>...</td>\n",
       "      <td>...</td>\n",
       "      <td>...</td>\n",
       "      <td>...</td>\n",
       "      <td>...</td>\n",
       "      <td>...</td>\n",
       "    </tr>\n",
       "    <tr>\n",
       "      <th>413158</th>\n",
       "      <td>2101186</td>\n",
       "      <td>MLB-INDUSTRIAL_AND_COMMERCIAL_EQUIPMENT</td>\n",
       "      <td>NaN</td>\n",
       "      <td>NaN</td>\n",
       "      <td>NaN</td>\n",
       "      <td>NaN</td>\n",
       "      <td>None</td>\n",
       "      <td>None</td>\n",
       "      <td>None</td>\n",
       "      <td>None</td>\n",
       "      <td>...</td>\n",
       "      <td>-1.0</td>\n",
       "      <td>-1.0</td>\n",
       "      <td>-1.0</td>\n",
       "      <td>-1.0</td>\n",
       "      <td>-1.0</td>\n",
       "      <td>2046.0</td>\n",
       "      <td>1879.0</td>\n",
       "      <td>-1.0</td>\n",
       "      <td>-1.0</td>\n",
       "      <td>2155</td>\n",
       "    </tr>\n",
       "    <tr>\n",
       "      <th>413159</th>\n",
       "      <td>2101232</td>\n",
       "      <td>MLB-UNIVERSAL_REMOTE_CONTROLS</td>\n",
       "      <td>NaN</td>\n",
       "      <td>NaN</td>\n",
       "      <td>NaN</td>\n",
       "      <td>NaN</td>\n",
       "      <td>None</td>\n",
       "      <td>None</td>\n",
       "      <td>None</td>\n",
       "      <td>None</td>\n",
       "      <td>...</td>\n",
       "      <td>-1.0</td>\n",
       "      <td>-1.0</td>\n",
       "      <td>-1.0</td>\n",
       "      <td>-1.0</td>\n",
       "      <td>-1.0</td>\n",
       "      <td>4169.0</td>\n",
       "      <td>4169.0</td>\n",
       "      <td>-1.0</td>\n",
       "      <td>-1.0</td>\n",
       "      <td>3967</td>\n",
       "    </tr>\n",
       "    <tr>\n",
       "      <th>413160</th>\n",
       "      <td>2101773</td>\n",
       "      <td>MLB-FOOTBALL_SHIRTS</td>\n",
       "      <td>NaN</td>\n",
       "      <td>NaN</td>\n",
       "      <td>NaN</td>\n",
       "      <td>NaN</td>\n",
       "      <td>None</td>\n",
       "      <td>None</td>\n",
       "      <td>None</td>\n",
       "      <td>None</td>\n",
       "      <td>...</td>\n",
       "      <td>-1.0</td>\n",
       "      <td>-1.0</td>\n",
       "      <td>-1.0</td>\n",
       "      <td>-1.0</td>\n",
       "      <td>-1.0</td>\n",
       "      <td>7675.0</td>\n",
       "      <td>3955.0</td>\n",
       "      <td>-1.0</td>\n",
       "      <td>-1.0</td>\n",
       "      <td>1778</td>\n",
       "    </tr>\n",
       "    <tr>\n",
       "      <th>413161</th>\n",
       "      <td>2102136</td>\n",
       "      <td>MLB-OPERATING_SYSTEMS</td>\n",
       "      <td>NaN</td>\n",
       "      <td>NaN</td>\n",
       "      <td>NaN</td>\n",
       "      <td>NaN</td>\n",
       "      <td>None</td>\n",
       "      <td>None</td>\n",
       "      <td>None</td>\n",
       "      <td>None</td>\n",
       "      <td>...</td>\n",
       "      <td>-1.0</td>\n",
       "      <td>-1.0</td>\n",
       "      <td>-1.0</td>\n",
       "      <td>-1.0</td>\n",
       "      <td>-1.0</td>\n",
       "      <td>6288.0</td>\n",
       "      <td>121.0</td>\n",
       "      <td>-1.0</td>\n",
       "      <td>-1.0</td>\n",
       "      <td>2872</td>\n",
       "    </tr>\n",
       "    <tr>\n",
       "      <th>413162</th>\n",
       "      <td>2102182</td>\n",
       "      <td>MLB-FACIAL_SKIN_CARE_PRODUCTS</td>\n",
       "      <td>NaN</td>\n",
       "      <td>NaN</td>\n",
       "      <td>NaN</td>\n",
       "      <td>NaN</td>\n",
       "      <td>None</td>\n",
       "      <td>None</td>\n",
       "      <td>None</td>\n",
       "      <td>None</td>\n",
       "      <td>...</td>\n",
       "      <td>-1.0</td>\n",
       "      <td>-1.0</td>\n",
       "      <td>-1.0</td>\n",
       "      <td>-1.0</td>\n",
       "      <td>-1.0</td>\n",
       "      <td>4025.0</td>\n",
       "      <td>4025.0</td>\n",
       "      <td>-1.0</td>\n",
       "      <td>-1.0</td>\n",
       "      <td>1634</td>\n",
       "    </tr>\n",
       "  </tbody>\n",
       "</table>\n",
       "<p>413163 rows × 27 columns</p>\n",
       "</div>"
      ],
      "text/plain": [
       "        item_bought                    domain_id_item_bought  \\\n",
       "0            394965                         MLB-PRINTER_INKS   \n",
       "1            331081                    MLM-BAR_CODE_SCANNERS   \n",
       "2           1434557                          MLB-WRENCH_SETS   \n",
       "3            492271                    MLM-CELLPHONE_SCREENS   \n",
       "4           1540965                                 MLB-MUGS   \n",
       "...             ...                                      ...   \n",
       "413158      2101186  MLB-INDUSTRIAL_AND_COMMERCIAL_EQUIPMENT   \n",
       "413159      2101232            MLB-UNIVERSAL_REMOTE_CONTROLS   \n",
       "413160      2101773                      MLB-FOOTBALL_SHIRTS   \n",
       "413161      2102136                    MLB-OPERATING_SYSTEMS   \n",
       "413162      2102182            MLB-FACIAL_SKIN_CARE_PRODUCTS   \n",
       "\n",
       "        most_viewed_item_1  most_viewed_item_2  last_viewed_item_1  \\\n",
       "0                 626904.0           1833895.0                 1.0   \n",
       "1                 331081.0            768359.0            768359.0   \n",
       "2                1100593.0             74407.0           1021802.0   \n",
       "3                     15.0            106702.0                15.0   \n",
       "4                 860111.0                33.0            194780.0   \n",
       "...                    ...                 ...                 ...   \n",
       "413158                 NaN                 NaN                 NaN   \n",
       "413159                 NaN                 NaN                 NaN   \n",
       "413160                 NaN                 NaN                 NaN   \n",
       "413161                 NaN                 NaN                 NaN   \n",
       "413162                 NaN                 NaN                 NaN   \n",
       "\n",
       "        last_viewed_item_2                       domain_id_most_viewed_item_1  \\\n",
       "0                      1.0                                  MLB-NETWORK_PLUGS   \n",
       "1                     11.0                              MLM-BAR_CODE_SCANNERS   \n",
       "2                     13.0                                         MLB-PLANTS   \n",
       "3                     15.0  MLM-GAME_CONSOLES_VIDEO_GAMES_AND_ARCADE_MACHINES   \n",
       "4                     33.0                                 MLB-BALL_PIT_BALLS   \n",
       "...                    ...                                                ...   \n",
       "413158                 NaN                                               None   \n",
       "413159                 NaN                                               None   \n",
       "413160                 NaN                                               None   \n",
       "413161                 NaN                                               None   \n",
       "413162                 NaN                                               None   \n",
       "\n",
       "                  domain_id_most_viewed_item_2  \\\n",
       "0       MLB-COMPUTER_EQUIPMENT_AND_SPARE_PARTS   \n",
       "1                        MLM-BAR_CODE_SCANNERS   \n",
       "2                                 MLB-SPEAKERS   \n",
       "3                          MLM-CAR_LIGHT_BULBS   \n",
       "4                     MLB-INFLATABLE_BALL_PITS   \n",
       "...                                        ...   \n",
       "413158                                    None   \n",
       "413159                                    None   \n",
       "413160                                    None   \n",
       "413161                                    None   \n",
       "413162                                    None   \n",
       "\n",
       "                             domain_id_last_viewed_item_1  \\\n",
       "0                                   MLB-BOOTS_AND_BOOTIES   \n",
       "1                                   MLM-BAR_CODE_SCANNERS   \n",
       "2                                            MLB-SPEAKERS   \n",
       "3       MLM-GAME_CONSOLES_VIDEO_GAMES_AND_ARCADE_MACHINES   \n",
       "4                                          MLB-KIDS_TENTS   \n",
       "...                                                   ...   \n",
       "413158                                               None   \n",
       "413159                                               None   \n",
       "413160                                               None   \n",
       "413161                                               None   \n",
       "413162                                               None   \n",
       "\n",
       "                             domain_id_last_viewed_item_2  ...  \\\n",
       "0                                   MLB-BOOTS_AND_BOOTIES  ...   \n",
       "1                  MLM-COMPUTER_EQUIPMENT_AND_SPARE_PARTS  ...   \n",
       "2                                            MLB-SPEAKERS  ...   \n",
       "3       MLM-GAME_CONSOLES_VIDEO_GAMES_AND_ARCADE_MACHINES  ...   \n",
       "4                                MLB-INFLATABLE_BALL_PITS  ...   \n",
       "...                                                   ...  ...   \n",
       "413158                                               None  ...   \n",
       "413159                                               None  ...   \n",
       "413160                                               None  ...   \n",
       "413161                                               None  ...   \n",
       "413162                                               None  ...   \n",
       "\n",
       "       encoded_domain_id_most_viewed_item_2  \\\n",
       "0                                    1072.0   \n",
       "1                                    4641.0   \n",
       "2                                    3554.0   \n",
       "3                                    4968.0   \n",
       "4                                    2187.0   \n",
       "...                                     ...   \n",
       "413158                                 -1.0   \n",
       "413159                                 -1.0   \n",
       "413160                                 -1.0   \n",
       "413161                                 -1.0   \n",
       "413162                                 -1.0   \n",
       "\n",
       "       encoded_domain_id_last_viewed_item_1  \\\n",
       "0                                     692.0   \n",
       "1                                    4641.0   \n",
       "2                                    3554.0   \n",
       "3                                    5811.0   \n",
       "4                                    2275.0   \n",
       "...                                     ...   \n",
       "413158                                 -1.0   \n",
       "413159                                 -1.0   \n",
       "413160                                 -1.0   \n",
       "413161                                 -1.0   \n",
       "413162                                 -1.0   \n",
       "\n",
       "       encoded_domain_id_last_viewed_item_2 encoded_most_viewed_domain_1  \\\n",
       "0                                     692.0                       3838.0   \n",
       "1                                    5163.0                       4641.0   \n",
       "2                                    3554.0                       3554.0   \n",
       "3                                    5811.0                       4968.0   \n",
       "4                                    2187.0                        476.0   \n",
       "...                                     ...                          ...   \n",
       "413158                                 -1.0                         -1.0   \n",
       "413159                                 -1.0                         -1.0   \n",
       "413160                                 -1.0                         -1.0   \n",
       "413161                                 -1.0                         -1.0   \n",
       "413162                                 -1.0                         -1.0   \n",
       "\n",
       "       encoded_most_viewed_domain_2 encoded_domain_id_most_searched_ngram_1  \\\n",
       "0                            2021.0                                    -1.0   \n",
       "1                            5163.0                                    -1.0   \n",
       "2                            3951.0                                    -1.0   \n",
       "3                            5811.0                                    -1.0   \n",
       "4                            2187.0                                    -1.0   \n",
       "...                             ...                                     ...   \n",
       "413158                         -1.0                                  2046.0   \n",
       "413159                         -1.0                                  4169.0   \n",
       "413160                         -1.0                                  7675.0   \n",
       "413161                         -1.0                                  6288.0   \n",
       "413162                         -1.0                                  4025.0   \n",
       "\n",
       "        encoded_domain_id_most_searched_ngram_2  \\\n",
       "0                                          -1.0   \n",
       "1                                          -1.0   \n",
       "2                                          -1.0   \n",
       "3                                          -1.0   \n",
       "4                                          -1.0   \n",
       "...                                         ...   \n",
       "413158                                   1879.0   \n",
       "413159                                   4169.0   \n",
       "413160                                   3955.0   \n",
       "413161                                    121.0   \n",
       "413162                                   4025.0   \n",
       "\n",
       "        encoded_domain_id_last_searched_1  encoded_domain_id_last_searched_2  \\\n",
       "0                                    -1.0                               -1.0   \n",
       "1                                    -1.0                               -1.0   \n",
       "2                                    -1.0                               -1.0   \n",
       "3                                    -1.0                               -1.0   \n",
       "4                                    -1.0                               -1.0   \n",
       "...                                   ...                                ...   \n",
       "413158                               -1.0                               -1.0   \n",
       "413159                               -1.0                               -1.0   \n",
       "413160                               -1.0                               -1.0   \n",
       "413161                               -1.0                               -1.0   \n",
       "413162                               -1.0                               -1.0   \n",
       "\n",
       "        encoded_domain_id_item_bought  \n",
       "0                                3192  \n",
       "1                                4641  \n",
       "2                                4191  \n",
       "3                                5017  \n",
       "4                                2753  \n",
       "...                               ...  \n",
       "413158                           2155  \n",
       "413159                           3967  \n",
       "413160                           1778  \n",
       "413161                           2872  \n",
       "413162                           1634  \n",
       "\n",
       "[413163 rows x 27 columns]"
      ]
     },
     "execution_count": 10,
     "metadata": {},
     "output_type": "execute_result"
    }
   ],
   "source": [
    "df_train"
   ]
  },
  {
   "cell_type": "code",
   "execution_count": 11,
   "metadata": {},
   "outputs": [],
   "source": [
    "domains_most_bought_filter = ((df_train\n",
    " [['domain_id_item_bought','item_bought']]\n",
    " .groupby(by='domain_id_item_bought')\n",
    " .count()\n",
    " .sort_values(by='item_bought', ascending=False)\n",
    " .cumsum()/len(df_train))\n",
    " .query('item_bought < 0.8')).index"
   ]
  },
  {
   "cell_type": "code",
   "execution_count": 12,
   "metadata": {},
   "outputs": [],
   "source": [
    "df_train_filtered = df_train[df_train['domain_id_item_bought'].isin(domains_most_bought_filter)]"
   ]
  },
  {
   "cell_type": "code",
   "execution_count": 14,
   "metadata": {},
   "outputs": [],
   "source": [
    "X_train, y_train = (df_train_filtered[cols_feat_domain_encoded].astype('int32'),\n",
    "                    df_train_filtered['encoded_domain_id_item_bought'].astype('int32'))\n",
    "\n",
    "X_test = df_test[cols_feat_domain_encoded].astype('int32')"
   ]
  },
  {
   "cell_type": "code",
   "execution_count": 15,
   "metadata": {},
   "outputs": [
    {
     "data": {
      "text/plain": [
       "RandomForestClassifier(bootstrap=True, ccp_alpha=0.0, class_weight='balanced',\n",
       "                       criterion='gini', max_depth=12, max_features='auto',\n",
       "                       max_leaf_nodes=None, max_samples=None,\n",
       "                       min_impurity_decrease=0.0, min_impurity_split=None,\n",
       "                       min_samples_leaf=1, min_samples_split=2,\n",
       "                       min_weight_fraction_leaf=0.0, n_estimators=200,\n",
       "                       n_jobs=-1, oob_score=False, random_state=0, verbose=0,\n",
       "                       warm_start=False)"
      ]
     },
     "execution_count": 15,
     "metadata": {},
     "output_type": "execute_result"
    }
   ],
   "source": [
    "clf = RandomForestClassifier(max_depth=12, \n",
    "                             n_estimators=200,\n",
    "                             n_jobs=-1,\n",
    "                             class_weight='balanced',\n",
    "                             random_state=0)\n",
    "clf.fit(X_train, y_train)"
   ]
  },
  {
   "cell_type": "code",
   "execution_count": 16,
   "metadata": {},
   "outputs": [],
   "source": [
    "y_pred_tree = clf.predict(X_test)"
   ]
  },
  {
   "cell_type": "code",
   "execution_count": 17,
   "metadata": {},
   "outputs": [],
   "source": [
    "df_test['domain_id_tree'] = [domain_mapper_reverse.get(d) for d in y_pred_tree]"
   ]
  },
  {
   "cell_type": "code",
   "execution_count": 18,
   "metadata": {},
   "outputs": [],
   "source": [
    "y_pred = df_test.apply(predict_, axis=1).values"
   ]
  },
  {
   "cell_type": "code",
   "execution_count": 19,
   "metadata": {},
   "outputs": [],
   "source": [
    "df_y_pred = pd.DataFrame(list(y_pred))"
   ]
  },
  {
   "cell_type": "code",
   "execution_count": 20,
   "metadata": {},
   "outputs": [
    {
     "data": {
      "text/html": [
       "<div>\n",
       "<style scoped>\n",
       "    .dataframe tbody tr th:only-of-type {\n",
       "        vertical-align: middle;\n",
       "    }\n",
       "\n",
       "    .dataframe tbody tr th {\n",
       "        vertical-align: top;\n",
       "    }\n",
       "\n",
       "    .dataframe thead th {\n",
       "        text-align: right;\n",
       "    }\n",
       "</style>\n",
       "<table border=\"1\" class=\"dataframe\">\n",
       "  <thead>\n",
       "    <tr style=\"text-align: right;\">\n",
       "      <th></th>\n",
       "      <th>0</th>\n",
       "      <th>1</th>\n",
       "      <th>2</th>\n",
       "      <th>3</th>\n",
       "      <th>4</th>\n",
       "      <th>5</th>\n",
       "      <th>6</th>\n",
       "      <th>7</th>\n",
       "      <th>8</th>\n",
       "      <th>9</th>\n",
       "    </tr>\n",
       "  </thead>\n",
       "  <tbody>\n",
       "    <tr>\n",
       "      <th>0</th>\n",
       "      <td>685656</td>\n",
       "      <td>1194894</td>\n",
       "      <td>1572239</td>\n",
       "      <td>1439187</td>\n",
       "      <td>1864599</td>\n",
       "      <td>350187</td>\n",
       "      <td>1006988</td>\n",
       "      <td>1717880</td>\n",
       "      <td>457681</td>\n",
       "      <td>758382</td>\n",
       "    </tr>\n",
       "    <tr>\n",
       "      <th>1</th>\n",
       "      <td>943786</td>\n",
       "      <td>831243</td>\n",
       "      <td>849692</td>\n",
       "      <td>361733</td>\n",
       "      <td>1140688</td>\n",
       "      <td>1056120</td>\n",
       "      <td>353783</td>\n",
       "      <td>1676401</td>\n",
       "      <td>1007213</td>\n",
       "      <td>1386246</td>\n",
       "    </tr>\n",
       "    <tr>\n",
       "      <th>2</th>\n",
       "      <td>1614538</td>\n",
       "      <td>1986443</td>\n",
       "      <td>991246</td>\n",
       "      <td>1219935</td>\n",
       "      <td>659207</td>\n",
       "      <td>1453414</td>\n",
       "      <td>1425924</td>\n",
       "      <td>1260633</td>\n",
       "      <td>251150</td>\n",
       "      <td>731397</td>\n",
       "    </tr>\n",
       "    <tr>\n",
       "      <th>3</th>\n",
       "      <td>389079</td>\n",
       "      <td>1077564</td>\n",
       "      <td>1947905</td>\n",
       "      <td>1178383</td>\n",
       "      <td>1862072</td>\n",
       "      <td>617149</td>\n",
       "      <td>1677522</td>\n",
       "      <td>1979925</td>\n",
       "      <td>733341</td>\n",
       "      <td>1045291</td>\n",
       "    </tr>\n",
       "    <tr>\n",
       "      <th>4</th>\n",
       "      <td>1398419</td>\n",
       "      <td>1695773</td>\n",
       "      <td>868571</td>\n",
       "      <td>753509</td>\n",
       "      <td>914038</td>\n",
       "      <td>1197614</td>\n",
       "      <td>509032</td>\n",
       "      <td>795435</td>\n",
       "      <td>834557</td>\n",
       "      <td>1696062</td>\n",
       "    </tr>\n",
       "    <tr>\n",
       "      <th>...</th>\n",
       "      <td>...</td>\n",
       "      <td>...</td>\n",
       "      <td>...</td>\n",
       "      <td>...</td>\n",
       "      <td>...</td>\n",
       "      <td>...</td>\n",
       "      <td>...</td>\n",
       "      <td>...</td>\n",
       "      <td>...</td>\n",
       "      <td>...</td>\n",
       "    </tr>\n",
       "    <tr>\n",
       "      <th>177065</th>\n",
       "      <td>24604</td>\n",
       "      <td>88545</td>\n",
       "      <td>501048</td>\n",
       "      <td>987327</td>\n",
       "      <td>657474</td>\n",
       "      <td>999089</td>\n",
       "      <td>1027716</td>\n",
       "      <td>929184</td>\n",
       "      <td>1328040</td>\n",
       "      <td>1873494</td>\n",
       "    </tr>\n",
       "    <tr>\n",
       "      <th>177066</th>\n",
       "      <td>331472</td>\n",
       "      <td>1651522</td>\n",
       "      <td>1384867</td>\n",
       "      <td>1907343</td>\n",
       "      <td>1711350</td>\n",
       "      <td>558</td>\n",
       "      <td>384</td>\n",
       "      <td>371</td>\n",
       "      <td>348</td>\n",
       "      <td>344</td>\n",
       "    </tr>\n",
       "    <tr>\n",
       "      <th>177067</th>\n",
       "      <td>1061535</td>\n",
       "      <td>2033823</td>\n",
       "      <td>679654</td>\n",
       "      <td>460028</td>\n",
       "      <td>1395589</td>\n",
       "      <td>1550304</td>\n",
       "      <td>289602</td>\n",
       "      <td>1492333</td>\n",
       "      <td>1426798</td>\n",
       "      <td>359542</td>\n",
       "    </tr>\n",
       "    <tr>\n",
       "      <th>177068</th>\n",
       "      <td>1803169</td>\n",
       "      <td>762367</td>\n",
       "      <td>1802089</td>\n",
       "      <td>894197</td>\n",
       "      <td>2029390</td>\n",
       "      <td>877276</td>\n",
       "      <td>1116998</td>\n",
       "      <td>514188</td>\n",
       "      <td>170257</td>\n",
       "      <td>613975</td>\n",
       "    </tr>\n",
       "    <tr>\n",
       "      <th>177069</th>\n",
       "      <td>888769</td>\n",
       "      <td>498187</td>\n",
       "      <td>1356705</td>\n",
       "      <td>2082999</td>\n",
       "      <td>859574</td>\n",
       "      <td>1371799</td>\n",
       "      <td>119703</td>\n",
       "      <td>1332849</td>\n",
       "      <td>882697</td>\n",
       "      <td>1098739</td>\n",
       "    </tr>\n",
       "  </tbody>\n",
       "</table>\n",
       "<p>177070 rows × 10 columns</p>\n",
       "</div>"
      ],
      "text/plain": [
       "              0        1        2        3        4        5        6  \\\n",
       "0        685656  1194894  1572239  1439187  1864599   350187  1006988   \n",
       "1        943786   831243   849692   361733  1140688  1056120   353783   \n",
       "2       1614538  1986443   991246  1219935   659207  1453414  1425924   \n",
       "3        389079  1077564  1947905  1178383  1862072   617149  1677522   \n",
       "4       1398419  1695773   868571   753509   914038  1197614   509032   \n",
       "...         ...      ...      ...      ...      ...      ...      ...   \n",
       "177065    24604    88545   501048   987327   657474   999089  1027716   \n",
       "177066   331472  1651522  1384867  1907343  1711350      558      384   \n",
       "177067  1061535  2033823   679654   460028  1395589  1550304   289602   \n",
       "177068  1803169   762367  1802089   894197  2029390   877276  1116998   \n",
       "177069   888769   498187  1356705  2082999   859574  1371799   119703   \n",
       "\n",
       "              7        8        9  \n",
       "0       1717880   457681   758382  \n",
       "1       1676401  1007213  1386246  \n",
       "2       1260633   251150   731397  \n",
       "3       1979925   733341  1045291  \n",
       "4        795435   834557  1696062  \n",
       "...         ...      ...      ...  \n",
       "177065   929184  1328040  1873494  \n",
       "177066      371      348      344  \n",
       "177067  1492333  1426798   359542  \n",
       "177068   514188   170257   613975  \n",
       "177069  1332849   882697  1098739  \n",
       "\n",
       "[177070 rows x 10 columns]"
      ]
     },
     "execution_count": 20,
     "metadata": {},
     "output_type": "execute_result"
    }
   ],
   "source": [
    "df_y_pred"
   ]
  },
  {
   "cell_type": "code",
   "execution_count": 21,
   "metadata": {},
   "outputs": [
    {
     "name": "stdin",
     "output_type": "stream",
     "text": [
      " heuristic_tree_vote\n"
     ]
    },
    {
     "name": "stdout",
     "output_type": "stream",
     "text": [
      "../data/submission/heuristic_tree_vote_2020-11-30_18-38-07.csv\n"
     ]
    }
   ],
   "source": [
    "now = datetime.now().strftime(\"%Y-%m-%d_%H-%M-%S\")\n",
    "model = input()\n",
    "submission_filename = f'../data/submission/{model}_{now}.csv'\n",
    "print(submission_filename)"
   ]
  },
  {
   "cell_type": "code",
   "execution_count": 22,
   "metadata": {},
   "outputs": [],
   "source": [
    "df_y_pred.to_csv(submission_filename, index=False, header=False)"
   ]
  },
  {
   "cell_type": "markdown",
   "metadata": {},
   "source": [
    "# Scores"
   ]
  },
  {
   "cell_type": "markdown",
   "metadata": {},
   "source": [
    "- heuristic_ordered_2020-11-28.csv\n",
    "    - 0.23168\n",
    "- heuristic_unordered_2020-11-28.csv\n",
    "    - 0.2339678621847048\n",
    "- heuristic_vote\n",
    "    - 0.2385192220688938 \n",
    "- heuristic_tree_vote\n",
    "    - 0.2389696814287167 "
   ]
  },
  {
   "cell_type": "code",
   "execution_count": null,
   "metadata": {},
   "outputs": [],
   "source": []
  }
 ],
 "metadata": {
  "kernelspec": {
   "display_name": "Python 3",
   "language": "python",
   "name": "python3"
  },
  "language_info": {
   "codemirror_mode": {
    "name": "ipython",
    "version": 3
   },
   "file_extension": ".py",
   "mimetype": "text/x-python",
   "name": "python",
   "nbconvert_exporter": "python",
   "pygments_lexer": "ipython3",
   "version": "3.8.0"
  }
 },
 "nbformat": 4,
 "nbformat_minor": 4
}
