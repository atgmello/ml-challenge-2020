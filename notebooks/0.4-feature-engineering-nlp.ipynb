{
 "cells": [
  {
   "cell_type": "code",
   "execution_count": 252,
   "metadata": {},
   "outputs": [],
   "source": [
    "import pandas as pd\n",
    "import numpy as np\n",
    "import nltk\n",
    "import json\n",
    "import re\n",
    "\n",
    "from sentence_transformers import SentenceTransformer\n",
    "from itertools import islice, cycle\n",
    "from pynndescent import NNDescent\n",
    "from collections import Counter\n",
    "from functools import reduce"
   ]
  },
  {
   "cell_type": "code",
   "execution_count": 247,
   "metadata": {},
   "outputs": [
    {
     "name": "stderr",
     "output_type": "stream",
     "text": [
      "[nltk_data] Downloading package stopwords to\n",
      "[nltk_data]     /home/atgmello/nltk_data...\n",
      "[nltk_data]   Package stopwords is already up-to-date!\n",
      "[nltk_data] Downloading package punkt to /home/atgmello/nltk_data...\n",
      "[nltk_data]   Unzipping tokenizers/punkt.zip.\n"
     ]
    },
    {
     "data": {
      "text/plain": [
       "True"
      ]
     },
     "execution_count": 247,
     "metadata": {},
     "output_type": "execute_result"
    }
   ],
   "source": [
    "nltk.download('stopwords')\n",
    "nltk.download('punkt')"
   ]
  },
  {
   "cell_type": "code",
   "execution_count": 3,
   "metadata": {},
   "outputs": [],
   "source": [
    "item_data_filename = '../data/interim/item_data.parquet'\n",
    "df_item = pd.read_parquet(item_data_filename)\n",
    "#df_item = df_item.loc[:1_000]"
   ]
  },
  {
   "cell_type": "code",
   "execution_count": 4,
   "metadata": {},
   "outputs": [],
   "source": [
    "raw_filename = '../data/interim/train_dataset.parquet'\n",
    "df_raw = pd.read_parquet(raw_filename)\n",
    "df_raw = df_raw.loc[:1_000]"
   ]
  },
  {
   "cell_type": "code",
   "execution_count": 5,
   "metadata": {},
   "outputs": [],
   "source": [
    "def take(n, iterable):\n",
    "    \"Return first n items of the iterable as a list\"\n",
    "    return list(islice(iterable, n))"
   ]
  },
  {
   "cell_type": "code",
   "execution_count": 8,
   "metadata": {},
   "outputs": [],
   "source": [
    "def preproc_user_history(s:str)->list:\n",
    "    return json.loads(s.replace(\"'\", '\"').lower())"
   ]
  },
  {
   "cell_type": "code",
   "execution_count": 9,
   "metadata": {},
   "outputs": [],
   "source": [
    "df_raw['user_history'] = df_raw['user_history'].apply(preproc_user_history)"
   ]
  },
  {
   "cell_type": "markdown",
   "metadata": {},
   "source": [
    "# Feature"
   ]
  },
  {
   "cell_type": "markdown",
   "metadata": {},
   "source": [
    "## Most searched terms"
   ]
  },
  {
   "cell_type": "markdown",
   "metadata": {},
   "source": [
    "### Most searched word"
   ]
  },
  {
   "cell_type": "code",
   "execution_count": 10,
   "metadata": {},
   "outputs": [
    {
     "data": {
      "text/html": [
       "<div>\n",
       "<style scoped>\n",
       "    .dataframe tbody tr th:only-of-type {\n",
       "        vertical-align: middle;\n",
       "    }\n",
       "\n",
       "    .dataframe tbody tr th {\n",
       "        vertical-align: top;\n",
       "    }\n",
       "\n",
       "    .dataframe thead th {\n",
       "        text-align: right;\n",
       "    }\n",
       "</style>\n",
       "<table border=\"1\" class=\"dataframe\">\n",
       "  <thead>\n",
       "    <tr style=\"text-align: right;\">\n",
       "      <th></th>\n",
       "      <th>user_history</th>\n",
       "      <th>item_bought</th>\n",
       "    </tr>\n",
       "  </thead>\n",
       "  <tbody>\n",
       "    <tr>\n",
       "      <th>0</th>\n",
       "      <td>[{'event_info': 1786148, 'event_timestamp': '2...</td>\n",
       "      <td>1748830</td>\n",
       "    </tr>\n",
       "    <tr>\n",
       "      <th>1</th>\n",
       "      <td>[{'event_info': 643652, 'event_timestamp': '20...</td>\n",
       "      <td>228737</td>\n",
       "    </tr>\n",
       "    <tr>\n",
       "      <th>2</th>\n",
       "      <td>[{'event_info': 248595, 'event_timestamp': '20...</td>\n",
       "      <td>1909110</td>\n",
       "    </tr>\n",
       "    <tr>\n",
       "      <th>3</th>\n",
       "      <td>[{'event_info': 'radioboss', 'event_timestamp'...</td>\n",
       "      <td>1197370</td>\n",
       "    </tr>\n",
       "    <tr>\n",
       "      <th>4</th>\n",
       "      <td>[{'event_info': 'amazfit bip', 'event_timestam...</td>\n",
       "      <td>2049207</td>\n",
       "    </tr>\n",
       "  </tbody>\n",
       "</table>\n",
       "</div>"
      ],
      "text/plain": [
       "                                        user_history  item_bought\n",
       "0  [{'event_info': 1786148, 'event_timestamp': '2...      1748830\n",
       "1  [{'event_info': 643652, 'event_timestamp': '20...       228737\n",
       "2  [{'event_info': 248595, 'event_timestamp': '20...      1909110\n",
       "3  [{'event_info': 'radioboss', 'event_timestamp'...      1197370\n",
       "4  [{'event_info': 'amazfit bip', 'event_timestam...      2049207"
      ]
     },
     "execution_count": 10,
     "metadata": {},
     "output_type": "execute_result"
    }
   ],
   "source": [
    "df_raw.head()"
   ]
  },
  {
   "cell_type": "code",
   "execution_count": 11,
   "metadata": {},
   "outputs": [
    {
     "data": {
      "text/plain": [
       "[{'event_info': 'radioboss',\n",
       "  'event_timestamp': '2019-10-08t16:23:51.630-0400',\n",
       "  'event_type': 'search'},\n",
       " {'event_info': 505541,\n",
       "  'event_timestamp': '2019-10-08t16:24:06.220-0400',\n",
       "  'event_type': 'view'},\n",
       " {'event_info': 505541,\n",
       "  'event_timestamp': '2019-10-08t16:25:56.141-0400',\n",
       "  'event_type': 'view'},\n",
       " {'event_info': 505541,\n",
       "  'event_timestamp': '2019-10-08t16:26:15.505-0400',\n",
       "  'event_type': 'view'},\n",
       " {'event_info': 505541,\n",
       "  'event_timestamp': '2019-10-08t16:26:46.149-0400',\n",
       "  'event_type': 'view'},\n",
       " {'event_info': 505541,\n",
       "  'event_timestamp': '2019-10-08t16:36:11.769-0400',\n",
       "  'event_type': 'view'},\n",
       " {'event_info': 'radioboss',\n",
       "  'event_timestamp': '2019-10-08t22:32:32.256-0400',\n",
       "  'event_type': 'search'},\n",
       " {'event_info': 'sound forge',\n",
       "  'event_timestamp': '2019-10-10t14:32:56.589-0400',\n",
       "  'event_type': 'search'},\n",
       " {'event_info': 1230082,\n",
       "  'event_timestamp': '2019-10-12t09:56:36.964-0400',\n",
       "  'event_type': 'view'},\n",
       " {'event_info': 'sound forge plugins',\n",
       "  'event_timestamp': '2019-10-12t10:00:55.705-0400',\n",
       "  'event_type': 'search'},\n",
       " {'event_info': 'sound forge plugins',\n",
       "  'event_timestamp': '2019-10-12t10:02:12.577-0400',\n",
       "  'event_type': 'search'},\n",
       " {'event_info': 'sound forge plugins',\n",
       "  'event_timestamp': '2019-10-12t10:02:32.810-0400',\n",
       "  'event_type': 'search'},\n",
       " {'event_info': 937557,\n",
       "  'event_timestamp': '2019-10-12t10:02:51.871-0400',\n",
       "  'event_type': 'view'}]"
      ]
     },
     "execution_count": 11,
     "metadata": {},
     "output_type": "execute_result"
    }
   ],
   "source": [
    "df_raw.loc[3, 'user_history']"
   ]
  },
  {
   "cell_type": "code",
   "execution_count": 85,
   "metadata": {},
   "outputs": [],
   "source": [
    "def get_most_searched_words(hist:list, n:int=3)->list:\n",
    "    searched_items = reduce(lambda x, y: \n",
    "                            x + y['event_info'].split(' ') if y['event_type']=='search' \n",
    "                            else x, \n",
    "                            hist, [])\n",
    "    common_words_counts = [item.lower()\n",
    "                           for tup in take(n, cycle(Counter(searched_items).most_common(n)))\n",
    "                           for item in tup]\n",
    "    return common_words_counts"
   ]
  },
  {
   "cell_type": "code",
   "execution_count": 86,
   "metadata": {},
   "outputs": [
    {
     "data": {
      "text/html": [
       "<div>\n",
       "<style scoped>\n",
       "    .dataframe tbody tr th:only-of-type {\n",
       "        vertical-align: middle;\n",
       "    }\n",
       "\n",
       "    .dataframe tbody tr th {\n",
       "        vertical-align: top;\n",
       "    }\n",
       "\n",
       "    .dataframe thead th {\n",
       "        text-align: right;\n",
       "    }\n",
       "</style>\n",
       "<table border=\"1\" class=\"dataframe\">\n",
       "  <thead>\n",
       "    <tr style=\"text-align: right;\">\n",
       "      <th></th>\n",
       "      <th>0</th>\n",
       "      <th>1</th>\n",
       "      <th>2</th>\n",
       "      <th>3</th>\n",
       "      <th>4</th>\n",
       "      <th>5</th>\n",
       "    </tr>\n",
       "  </thead>\n",
       "  <tbody>\n",
       "    <tr>\n",
       "      <th>0</th>\n",
       "      <td>RELOGIO</td>\n",
       "      <td>1.0</td>\n",
       "      <td>SMARTWATCH</td>\n",
       "      <td>1.0</td>\n",
       "      <td>RELOGIO</td>\n",
       "      <td>1.0</td>\n",
       "    </tr>\n",
       "    <tr>\n",
       "      <th>1</th>\n",
       "      <td>DESMAMADEIRA</td>\n",
       "      <td>5.0</td>\n",
       "      <td>ELETRICA</td>\n",
       "      <td>5.0</td>\n",
       "      <td>DESMAMADEIRA</td>\n",
       "      <td>5.0</td>\n",
       "    </tr>\n",
       "    <tr>\n",
       "      <th>2</th>\n",
       "      <td>None</td>\n",
       "      <td>NaN</td>\n",
       "      <td>None</td>\n",
       "      <td>NaN</td>\n",
       "      <td>None</td>\n",
       "      <td>NaN</td>\n",
       "    </tr>\n",
       "    <tr>\n",
       "      <th>3</th>\n",
       "      <td>SOUND</td>\n",
       "      <td>4.0</td>\n",
       "      <td>FORGE</td>\n",
       "      <td>4.0</td>\n",
       "      <td>PLUGINS</td>\n",
       "      <td>3.0</td>\n",
       "    </tr>\n",
       "    <tr>\n",
       "      <th>4</th>\n",
       "      <td>AMAZFIT</td>\n",
       "      <td>10.0</td>\n",
       "      <td>BIP</td>\n",
       "      <td>10.0</td>\n",
       "      <td>BIPAMAZFIT</td>\n",
       "      <td>5.0</td>\n",
       "    </tr>\n",
       "    <tr>\n",
       "      <th>...</th>\n",
       "      <td>...</td>\n",
       "      <td>...</td>\n",
       "      <td>...</td>\n",
       "      <td>...</td>\n",
       "      <td>...</td>\n",
       "      <td>...</td>\n",
       "    </tr>\n",
       "    <tr>\n",
       "      <th>996</th>\n",
       "      <td>PS3</td>\n",
       "      <td>8.0</td>\n",
       "      <td>FIFA</td>\n",
       "      <td>4.0</td>\n",
       "      <td>STREET</td>\n",
       "      <td>4.0</td>\n",
       "    </tr>\n",
       "    <tr>\n",
       "      <th>997</th>\n",
       "      <td>APPLE</td>\n",
       "      <td>18.0</td>\n",
       "      <td>WATCH</td>\n",
       "      <td>18.0</td>\n",
       "      <td>S3</td>\n",
       "      <td>13.0</td>\n",
       "    </tr>\n",
       "    <tr>\n",
       "      <th>998</th>\n",
       "      <td>ATACADO</td>\n",
       "      <td>27.0</td>\n",
       "      <td>BABY</td>\n",
       "      <td>24.0</td>\n",
       "      <td>DOLL</td>\n",
       "      <td>24.0</td>\n",
       "    </tr>\n",
       "    <tr>\n",
       "      <th>999</th>\n",
       "      <td>MICRO</td>\n",
       "      <td>12.0</td>\n",
       "      <td>195</td>\n",
       "      <td>10.0</td>\n",
       "      <td>65</td>\n",
       "      <td>10.0</td>\n",
       "    </tr>\n",
       "    <tr>\n",
       "      <th>1000</th>\n",
       "      <td>FILTRO</td>\n",
       "      <td>7.0</td>\n",
       "      <td>BARRO</td>\n",
       "      <td>7.0</td>\n",
       "      <td>ALHO</td>\n",
       "      <td>7.0</td>\n",
       "    </tr>\n",
       "  </tbody>\n",
       "</table>\n",
       "<p>1001 rows × 6 columns</p>\n",
       "</div>"
      ],
      "text/plain": [
       "                 0     1           2     3             4     5\n",
       "0          RELOGIO   1.0  SMARTWATCH   1.0       RELOGIO   1.0\n",
       "1     DESMAMADEIRA   5.0    ELETRICA   5.0  DESMAMADEIRA   5.0\n",
       "2             None   NaN        None   NaN          None   NaN\n",
       "3            SOUND   4.0       FORGE   4.0       PLUGINS   3.0\n",
       "4          AMAZFIT  10.0         BIP  10.0    BIPAMAZFIT   5.0\n",
       "...            ...   ...         ...   ...           ...   ...\n",
       "996            PS3   8.0        FIFA   4.0        STREET   4.0\n",
       "997          APPLE  18.0       WATCH  18.0            S3  13.0\n",
       "998        ATACADO  27.0        BABY  24.0          DOLL  24.0\n",
       "999          MICRO  12.0         195  10.0            65  10.0\n",
       "1000        FILTRO   7.0       BARRO   7.0          ALHO   7.0\n",
       "\n",
       "[1001 rows x 6 columns]"
      ]
     },
     "execution_count": 86,
     "metadata": {},
     "output_type": "execute_result"
    }
   ],
   "source": [
    "pd.DataFrame(list(df_raw['user_history']\n",
    "                  .apply(get_most_searched_words)))"
   ]
  },
  {
   "cell_type": "code",
   "execution_count": 90,
   "metadata": {},
   "outputs": [
    {
     "data": {
      "text/html": [
       "<div>\n",
       "<style scoped>\n",
       "    .dataframe tbody tr th:only-of-type {\n",
       "        vertical-align: middle;\n",
       "    }\n",
       "\n",
       "    .dataframe tbody tr th {\n",
       "        vertical-align: top;\n",
       "    }\n",
       "\n",
       "    .dataframe thead th {\n",
       "        text-align: right;\n",
       "    }\n",
       "</style>\n",
       "<table border=\"1\" class=\"dataframe\">\n",
       "  <thead>\n",
       "    <tr style=\"text-align: right;\">\n",
       "      <th></th>\n",
       "      <th>most_searched_word_1</th>\n",
       "      <th>most_searched_word_count_1</th>\n",
       "      <th>most_searched_word_2</th>\n",
       "      <th>most_searched_word_count_2</th>\n",
       "      <th>most_searched_word_3</th>\n",
       "      <th>most_searched_word_count_3</th>\n",
       "    </tr>\n",
       "  </thead>\n",
       "  <tbody>\n",
       "    <tr>\n",
       "      <th>0</th>\n",
       "      <td>RELOGIO</td>\n",
       "      <td>1.0</td>\n",
       "      <td>SMARTWATCH</td>\n",
       "      <td>1.0</td>\n",
       "      <td>RELOGIO</td>\n",
       "      <td>1.0</td>\n",
       "    </tr>\n",
       "    <tr>\n",
       "      <th>1</th>\n",
       "      <td>DESMAMADEIRA</td>\n",
       "      <td>5.0</td>\n",
       "      <td>ELETRICA</td>\n",
       "      <td>5.0</td>\n",
       "      <td>DESMAMADEIRA</td>\n",
       "      <td>5.0</td>\n",
       "    </tr>\n",
       "    <tr>\n",
       "      <th>2</th>\n",
       "      <td>None</td>\n",
       "      <td>NaN</td>\n",
       "      <td>None</td>\n",
       "      <td>NaN</td>\n",
       "      <td>None</td>\n",
       "      <td>NaN</td>\n",
       "    </tr>\n",
       "    <tr>\n",
       "      <th>3</th>\n",
       "      <td>SOUND</td>\n",
       "      <td>4.0</td>\n",
       "      <td>FORGE</td>\n",
       "      <td>4.0</td>\n",
       "      <td>PLUGINS</td>\n",
       "      <td>3.0</td>\n",
       "    </tr>\n",
       "    <tr>\n",
       "      <th>4</th>\n",
       "      <td>AMAZFIT</td>\n",
       "      <td>10.0</td>\n",
       "      <td>BIP</td>\n",
       "      <td>10.0</td>\n",
       "      <td>BIPAMAZFIT</td>\n",
       "      <td>5.0</td>\n",
       "    </tr>\n",
       "    <tr>\n",
       "      <th>...</th>\n",
       "      <td>...</td>\n",
       "      <td>...</td>\n",
       "      <td>...</td>\n",
       "      <td>...</td>\n",
       "      <td>...</td>\n",
       "      <td>...</td>\n",
       "    </tr>\n",
       "    <tr>\n",
       "      <th>996</th>\n",
       "      <td>PS3</td>\n",
       "      <td>8.0</td>\n",
       "      <td>FIFA</td>\n",
       "      <td>4.0</td>\n",
       "      <td>STREET</td>\n",
       "      <td>4.0</td>\n",
       "    </tr>\n",
       "    <tr>\n",
       "      <th>997</th>\n",
       "      <td>APPLE</td>\n",
       "      <td>18.0</td>\n",
       "      <td>WATCH</td>\n",
       "      <td>18.0</td>\n",
       "      <td>S3</td>\n",
       "      <td>13.0</td>\n",
       "    </tr>\n",
       "    <tr>\n",
       "      <th>998</th>\n",
       "      <td>ATACADO</td>\n",
       "      <td>27.0</td>\n",
       "      <td>BABY</td>\n",
       "      <td>24.0</td>\n",
       "      <td>DOLL</td>\n",
       "      <td>24.0</td>\n",
       "    </tr>\n",
       "    <tr>\n",
       "      <th>999</th>\n",
       "      <td>MICRO</td>\n",
       "      <td>12.0</td>\n",
       "      <td>195</td>\n",
       "      <td>10.0</td>\n",
       "      <td>65</td>\n",
       "      <td>10.0</td>\n",
       "    </tr>\n",
       "    <tr>\n",
       "      <th>1000</th>\n",
       "      <td>FILTRO</td>\n",
       "      <td>7.0</td>\n",
       "      <td>BARRO</td>\n",
       "      <td>7.0</td>\n",
       "      <td>ALHO</td>\n",
       "      <td>7.0</td>\n",
       "    </tr>\n",
       "  </tbody>\n",
       "</table>\n",
       "<p>1001 rows × 6 columns</p>\n",
       "</div>"
      ],
      "text/plain": [
       "     most_searched_word_1  most_searched_word_count_1 most_searched_word_2  \\\n",
       "0                 RELOGIO                         1.0           SMARTWATCH   \n",
       "1            DESMAMADEIRA                         5.0             ELETRICA   \n",
       "2                    None                         NaN                 None   \n",
       "3                   SOUND                         4.0                FORGE   \n",
       "4                 AMAZFIT                        10.0                  BIP   \n",
       "...                   ...                         ...                  ...   \n",
       "996                   PS3                         8.0                 FIFA   \n",
       "997                 APPLE                        18.0                WATCH   \n",
       "998               ATACADO                        27.0                 BABY   \n",
       "999                 MICRO                        12.0                  195   \n",
       "1000               FILTRO                         7.0                BARRO   \n",
       "\n",
       "      most_searched_word_count_2 most_searched_word_3  \\\n",
       "0                            1.0              RELOGIO   \n",
       "1                            5.0         DESMAMADEIRA   \n",
       "2                            NaN                 None   \n",
       "3                            4.0              PLUGINS   \n",
       "4                           10.0           BIPAMAZFIT   \n",
       "...                          ...                  ...   \n",
       "996                          4.0               STREET   \n",
       "997                         18.0                   S3   \n",
       "998                         24.0                 DOLL   \n",
       "999                         10.0                   65   \n",
       "1000                         7.0                 ALHO   \n",
       "\n",
       "      most_searched_word_count_3  \n",
       "0                            1.0  \n",
       "1                            5.0  \n",
       "2                            NaN  \n",
       "3                            3.0  \n",
       "4                            5.0  \n",
       "...                          ...  \n",
       "996                          4.0  \n",
       "997                         13.0  \n",
       "998                         24.0  \n",
       "999                         10.0  \n",
       "1000                         7.0  \n",
       "\n",
       "[1001 rows x 6 columns]"
      ]
     },
     "execution_count": 90,
     "metadata": {},
     "output_type": "execute_result"
    }
   ],
   "source": [
    "(pd.DataFrame(list(df_raw['user_history']\n",
    "                  .apply(get_most_searched_words))) \n",
    "             .rename(columns={0:\n",
    "                              'most_searched_word_1',\n",
    "                              1:\n",
    "                              'most_searched_word_count_1',\n",
    "                              2:\n",
    "                              'most_searched_word_2',\n",
    "                              3:\n",
    "                              'most_searched_word_count_2',\n",
    "                              4:\n",
    "                              'most_searched_word_3',\n",
    "                              5:\n",
    "                              'most_searched_word_count_3'}))"
   ]
  },
  {
   "cell_type": "code",
   "execution_count": 7,
   "metadata": {},
   "outputs": [],
   "source": [
    "def preproc_search(s:str)->str:\n",
    "    # TODO: improve search preprocessing\n",
    "    return s.lower()"
   ]
  },
  {
   "cell_type": "markdown",
   "metadata": {},
   "source": [
    "### Most searched bi-gram"
   ]
  },
  {
   "cell_type": "code",
   "execution_count": 12,
   "metadata": {},
   "outputs": [],
   "source": [
    "def token_sliding_window(s:str, size:int):\n",
    "    tokens = s.split(' ')\n",
    "    for i in range(len(tokens) - size + 1):\n",
    "        yield ' '.join(tokens[i:i+size])"
   ]
  },
  {
   "cell_type": "code",
   "execution_count": 13,
   "metadata": {},
   "outputs": [
    {
     "data": {
      "text/plain": [
       "['oi tudo', 'tudo bem', 'bem com', 'com vc']"
      ]
     },
     "execution_count": 13,
     "metadata": {},
     "output_type": "execute_result"
    }
   ],
   "source": [
    "list(token_sliding_window(\"oi tudo bem com vc\", 2))"
   ]
  },
  {
   "cell_type": "code",
   "execution_count": 14,
   "metadata": {},
   "outputs": [],
   "source": [
    "def get_most_searched_ngram(hist:list, n:int=2, m:int=3)->list:\n",
    "    searched_items = reduce(lambda x, y: \n",
    "                            x + [y['event_info']] if y['event_type']=='search' \n",
    "                            else x, \n",
    "                            hist, [])\n",
    "    searched_ngram = reduce(lambda x, y:\n",
    "                           x + list(token_sliding_window(y, n)),\n",
    "                           searched_items, [])\n",
    "    sorted_cycle = (sorted(take(m, cycle(Counter(searched_ngram)\n",
    "                                      .most_common(m))),\n",
    "                           key=lambda x: x[1],\n",
    "                           reverse=True))\n",
    "    common_ngrams_counts = [item\n",
    "                           for tup in sorted_cycle\n",
    "                           for item in tup]\n",
    "    return common_ngrams_counts"
   ]
  },
  {
   "cell_type": "code",
   "execution_count": 15,
   "metadata": {},
   "outputs": [],
   "source": [
    "cols_feat = ['most_searched_ngram_1',\n",
    "             'most_searched_ngram_count_1',\n",
    "             'most_searched_ngram_2',\n",
    "             'most_searched_ngram_count_2']\n",
    "df_raw[cols_feat] = (pd.DataFrame(list(df_raw['user_history']\n",
    "                                       .apply(get_most_searched_ngram))))"
   ]
  },
  {
   "cell_type": "code",
   "execution_count": 16,
   "metadata": {},
   "outputs": [
    {
     "data": {
      "text/html": [
       "<div>\n",
       "<style scoped>\n",
       "    .dataframe tbody tr th:only-of-type {\n",
       "        vertical-align: middle;\n",
       "    }\n",
       "\n",
       "    .dataframe tbody tr th {\n",
       "        vertical-align: top;\n",
       "    }\n",
       "\n",
       "    .dataframe thead th {\n",
       "        text-align: right;\n",
       "    }\n",
       "</style>\n",
       "<table border=\"1\" class=\"dataframe\">\n",
       "  <thead>\n",
       "    <tr style=\"text-align: right;\">\n",
       "      <th></th>\n",
       "      <th>user_history</th>\n",
       "      <th>item_bought</th>\n",
       "      <th>most_searched_ngram_1</th>\n",
       "      <th>most_searched_ngram_count_1</th>\n",
       "      <th>most_searched_ngram_2</th>\n",
       "      <th>most_searched_ngram_count_2</th>\n",
       "      <th>most_searched_ngram_3</th>\n",
       "      <th>most_searched_ngram_count_3</th>\n",
       "    </tr>\n",
       "  </thead>\n",
       "  <tbody>\n",
       "    <tr>\n",
       "      <th>0</th>\n",
       "      <td>[{'event_info': 1786148, 'event_timestamp': '2...</td>\n",
       "      <td>1748830</td>\n",
       "      <td>relogio smartwatch</td>\n",
       "      <td>1.0</td>\n",
       "      <td>relogio smartwatch</td>\n",
       "      <td>1.0</td>\n",
       "      <td>relogio smartwatch</td>\n",
       "      <td>1.0</td>\n",
       "    </tr>\n",
       "    <tr>\n",
       "      <th>1</th>\n",
       "      <td>[{'event_info': 643652, 'event_timestamp': '20...</td>\n",
       "      <td>228737</td>\n",
       "      <td>desmamadeira eletrica</td>\n",
       "      <td>5.0</td>\n",
       "      <td>desmamadeira eletrica</td>\n",
       "      <td>5.0</td>\n",
       "      <td>desmamadeira eletrica</td>\n",
       "      <td>5.0</td>\n",
       "    </tr>\n",
       "    <tr>\n",
       "      <th>2</th>\n",
       "      <td>[{'event_info': 248595, 'event_timestamp': '20...</td>\n",
       "      <td>1909110</td>\n",
       "      <td>None</td>\n",
       "      <td>NaN</td>\n",
       "      <td>None</td>\n",
       "      <td>NaN</td>\n",
       "      <td>None</td>\n",
       "      <td>NaN</td>\n",
       "    </tr>\n",
       "    <tr>\n",
       "      <th>3</th>\n",
       "      <td>[{'event_info': 'radioboss', 'event_timestamp'...</td>\n",
       "      <td>1197370</td>\n",
       "      <td>sound forge</td>\n",
       "      <td>4.0</td>\n",
       "      <td>sound forge</td>\n",
       "      <td>4.0</td>\n",
       "      <td>forge plugins</td>\n",
       "      <td>3.0</td>\n",
       "    </tr>\n",
       "    <tr>\n",
       "      <th>4</th>\n",
       "      <td>[{'event_info': 'amazfit bip', 'event_timestam...</td>\n",
       "      <td>2049207</td>\n",
       "      <td>amazfit bip</td>\n",
       "      <td>5.0</td>\n",
       "      <td>amazfit bipamazfit</td>\n",
       "      <td>5.0</td>\n",
       "      <td>bipamazfit bip</td>\n",
       "      <td>5.0</td>\n",
       "    </tr>\n",
       "    <tr>\n",
       "      <th>...</th>\n",
       "      <td>...</td>\n",
       "      <td>...</td>\n",
       "      <td>...</td>\n",
       "      <td>...</td>\n",
       "      <td>...</td>\n",
       "      <td>...</td>\n",
       "      <td>...</td>\n",
       "      <td>...</td>\n",
       "    </tr>\n",
       "    <tr>\n",
       "      <th>996</th>\n",
       "      <td>[{'event_info': 1073520, 'event_timestamp': '2...</td>\n",
       "      <td>17047</td>\n",
       "      <td>fifa street</td>\n",
       "      <td>4.0</td>\n",
       "      <td>street ps3</td>\n",
       "      <td>4.0</td>\n",
       "      <td>ps3 midia</td>\n",
       "      <td>4.0</td>\n",
       "    </tr>\n",
       "    <tr>\n",
       "      <th>997</th>\n",
       "      <td>[{'event_info': 1111331, 'event_timestamp': '2...</td>\n",
       "      <td>1700398</td>\n",
       "      <td>apple watch</td>\n",
       "      <td>18.0</td>\n",
       "      <td>watch s3</td>\n",
       "      <td>13.0</td>\n",
       "      <td>aparadores pelos</td>\n",
       "      <td>6.0</td>\n",
       "    </tr>\n",
       "    <tr>\n",
       "      <th>998</th>\n",
       "      <td>[{'event_info': 84286, 'event_timestamp': '201...</td>\n",
       "      <td>633650</td>\n",
       "      <td>baby doll</td>\n",
       "      <td>24.0</td>\n",
       "      <td>doll bojo</td>\n",
       "      <td>13.0</td>\n",
       "      <td>bojo atacado</td>\n",
       "      <td>13.0</td>\n",
       "    </tr>\n",
       "    <tr>\n",
       "      <th>999</th>\n",
       "      <td>[{'event_info': 'itasca', 'event_timestamp': '...</td>\n",
       "      <td>1200120</td>\n",
       "      <td>195 65</td>\n",
       "      <td>10.0</td>\n",
       "      <td>65 r15</td>\n",
       "      <td>10.0</td>\n",
       "      <td>micro sd</td>\n",
       "      <td>9.0</td>\n",
       "    </tr>\n",
       "    <tr>\n",
       "      <th>1000</th>\n",
       "      <td>[{'event_info': 'filtro barro', 'event_timesta...</td>\n",
       "      <td>149032</td>\n",
       "      <td>filtro barro</td>\n",
       "      <td>7.0</td>\n",
       "      <td>alho descascado</td>\n",
       "      <td>7.0</td>\n",
       "      <td>apartamento planta</td>\n",
       "      <td>5.0</td>\n",
       "    </tr>\n",
       "  </tbody>\n",
       "</table>\n",
       "<p>1001 rows × 8 columns</p>\n",
       "</div>"
      ],
      "text/plain": [
       "                                           user_history  item_bought  \\\n",
       "0     [{'event_info': 1786148, 'event_timestamp': '2...      1748830   \n",
       "1     [{'event_info': 643652, 'event_timestamp': '20...       228737   \n",
       "2     [{'event_info': 248595, 'event_timestamp': '20...      1909110   \n",
       "3     [{'event_info': 'radioboss', 'event_timestamp'...      1197370   \n",
       "4     [{'event_info': 'amazfit bip', 'event_timestam...      2049207   \n",
       "...                                                 ...          ...   \n",
       "996   [{'event_info': 1073520, 'event_timestamp': '2...        17047   \n",
       "997   [{'event_info': 1111331, 'event_timestamp': '2...      1700398   \n",
       "998   [{'event_info': 84286, 'event_timestamp': '201...       633650   \n",
       "999   [{'event_info': 'itasca', 'event_timestamp': '...      1200120   \n",
       "1000  [{'event_info': 'filtro barro', 'event_timesta...       149032   \n",
       "\n",
       "      most_searched_ngram_1  most_searched_ngram_count_1  \\\n",
       "0        relogio smartwatch                          1.0   \n",
       "1     desmamadeira eletrica                          5.0   \n",
       "2                      None                          NaN   \n",
       "3               sound forge                          4.0   \n",
       "4               amazfit bip                          5.0   \n",
       "...                     ...                          ...   \n",
       "996             fifa street                          4.0   \n",
       "997             apple watch                         18.0   \n",
       "998               baby doll                         24.0   \n",
       "999                  195 65                         10.0   \n",
       "1000           filtro barro                          7.0   \n",
       "\n",
       "      most_searched_ngram_2  most_searched_ngram_count_2  \\\n",
       "0        relogio smartwatch                          1.0   \n",
       "1     desmamadeira eletrica                          5.0   \n",
       "2                      None                          NaN   \n",
       "3               sound forge                          4.0   \n",
       "4        amazfit bipamazfit                          5.0   \n",
       "...                     ...                          ...   \n",
       "996              street ps3                          4.0   \n",
       "997                watch s3                         13.0   \n",
       "998               doll bojo                         13.0   \n",
       "999                  65 r15                         10.0   \n",
       "1000        alho descascado                          7.0   \n",
       "\n",
       "      most_searched_ngram_3  most_searched_ngram_count_3  \n",
       "0        relogio smartwatch                          1.0  \n",
       "1     desmamadeira eletrica                          5.0  \n",
       "2                      None                          NaN  \n",
       "3             forge plugins                          3.0  \n",
       "4            bipamazfit bip                          5.0  \n",
       "...                     ...                          ...  \n",
       "996               ps3 midia                          4.0  \n",
       "997        aparadores pelos                          6.0  \n",
       "998            bojo atacado                         13.0  \n",
       "999                micro sd                          9.0  \n",
       "1000     apartamento planta                          5.0  \n",
       "\n",
       "[1001 rows x 8 columns]"
      ]
     },
     "execution_count": 16,
     "metadata": {},
     "output_type": "execute_result"
    }
   ],
   "source": [
    "df_raw"
   ]
  },
  {
   "cell_type": "markdown",
   "metadata": {},
   "source": [
    "## Domain embedding"
   ]
  },
  {
   "cell_type": "markdown",
   "metadata": {},
   "source": [
    "Summarize domains by the top 10 words from all the titles for each domain."
   ]
  },
  {
   "cell_type": "code",
   "execution_count": 17,
   "metadata": {},
   "outputs": [
    {
     "data": {
      "text/plain": [
       "domain_id\n",
       "MLB-3D_GLASSES              Projetor Holográfico 3d Sistema Ventilador Fy3...\n",
       "MLB-3D_PENS                 Caneta 3d Impressora Drawing Pen 3d + Filament...\n",
       "MLB-3D_PRINTERS             Impressora 3d Anycubic I3 Mega S Modelo Novo +...\n",
       "MLB-3D_PRINTER_FILAMENTS    Filamento Pla De Fibra De Carbono - Gtmax 3d -...\n",
       "MLB-3D_PRINTER_HEATBEDS     Mesa Aquecida Pcb Mk3 Preta Aluminio 110ºc Mes...\n",
       "                                                  ...                        \n",
       "MLM-YARNS                   Estambre De Lana Tamatz Trapillo Para Tejer Es...\n",
       "MLM-YERBA_MATE              Abarrotes Te Yerba Mate  Con Palo Pipore 500 G...\n",
       "MLM-YOGA_MATS               Tapete Si-karai Para Crossfit / Gym Master Ros...\n",
       "MLM-ZAFUS                   Banco De Meditación Yoga Madera Portable Unita...\n",
       "MLM-ZIPPERS                 Corredera (zipper)(carrito) Para Cierre Del #5...\n",
       "Name: title, Length: 7893, dtype: object"
      ]
     },
     "execution_count": 17,
     "metadata": {},
     "output_type": "execute_result"
    }
   ],
   "source": [
    "df_item[['domain_id', 'title']].groupby(by='domain_id').agg(' '.join)['title']"
   ]
  },
  {
   "cell_type": "code",
   "execution_count": 227,
   "metadata": {},
   "outputs": [],
   "source": [
    "custom_stopwords = ['kit', '', '+', '-', 'und', 'unidade', 'unidad']\n",
    "stopwords = (nltk.corpus.stopwords.words('portuguese')\n",
    "             + nltk.corpus.stopwords.words('spanish')\n",
    "             + custom_stopwords)"
   ]
  },
  {
   "cell_type": "code",
   "execution_count": 302,
   "metadata": {},
   "outputs": [],
   "source": [
    "def generate_top_title(s:str, stopwords:list=stopwords, n:int=10)->str:\n",
    "    counter = Counter([w for w in nltk.word_tokenize(s.lower())\n",
    "                      if w not in stopwords\n",
    "                      and not re.search('\\d', w)\n",
    "                      and len(w) > 2]).most_common(n)\n",
    "    title = ' '.join([w[0] for w in counter])\n",
    "    return title"
   ]
  },
  {
   "cell_type": "code",
   "execution_count": 303,
   "metadata": {},
   "outputs": [
    {
     "name": "stdout",
     "output_type": "stream",
     "text": [
      "CPU times: user 4min 55s, sys: 884 ms, total: 4min 56s\n",
      "Wall time: 4min 58s\n"
     ]
    }
   ],
   "source": [
    "%%time\n",
    "df_domain_title = pd.DataFrame(df_item[['domain_id', 'title']]\n",
    "                               .groupby(by='domain_id')\n",
    "                               .agg(' '.join)\n",
    "                               ['title']\n",
    "                               .apply(generate_top_title))"
   ]
  },
  {
   "cell_type": "code",
   "execution_count": 310,
   "metadata": {},
   "outputs": [],
   "source": [
    "df_domain_title['title'] = (df_domain_title\n",
    "                            .reset_index()\n",
    "                            [['domain_id','title']]\n",
    "                            .apply(lambda x: \n",
    "                                   (' '.join(' '.join(x['domain_id']\n",
    "                                                      .lower()\n",
    "                                                      .split('-')[1:])\n",
    "                                             .split('_'))\n",
    "                                    + ' ' \n",
    "                                    + x['title']),\n",
    "                                   axis=1)\n",
    "                            .values)"
   ]
  },
  {
   "cell_type": "code",
   "execution_count": 313,
   "metadata": {},
   "outputs": [
    {
     "data": {
      "text/html": [
       "<div>\n",
       "<style scoped>\n",
       "    .dataframe tbody tr th:only-of-type {\n",
       "        vertical-align: middle;\n",
       "    }\n",
       "\n",
       "    .dataframe tbody tr th {\n",
       "        vertical-align: top;\n",
       "    }\n",
       "\n",
       "    .dataframe thead th {\n",
       "        text-align: right;\n",
       "    }\n",
       "</style>\n",
       "<table border=\"1\" class=\"dataframe\">\n",
       "  <thead>\n",
       "    <tr style=\"text-align: right;\">\n",
       "      <th></th>\n",
       "      <th>title</th>\n",
       "    </tr>\n",
       "    <tr>\n",
       "      <th>domain_id</th>\n",
       "      <th></th>\n",
       "    </tr>\n",
       "  </thead>\n",
       "  <tbody>\n",
       "    <tr>\n",
       "      <th>MLB-3D_GLASSES</th>\n",
       "      <td>3d glasses óculos oculos passivo ativo cinema ...</td>\n",
       "    </tr>\n",
       "    <tr>\n",
       "      <th>MLB-3D_PENS</th>\n",
       "      <td>3d pens caneta impressora filamento abs bivolt...</td>\n",
       "    </tr>\n",
       "    <tr>\n",
       "      <th>MLB-3D_PRINTERS</th>\n",
       "      <td>3d printers impressora anycubic creality photo...</td>\n",
       "    </tr>\n",
       "    <tr>\n",
       "      <th>MLB-3D_PRINTER_FILAMENTS</th>\n",
       "      <td>3d printer filaments pla filamento filamentos ...</td>\n",
       "    </tr>\n",
       "    <tr>\n",
       "      <th>MLB-3D_PRINTER_HEATBEDS</th>\n",
       "      <td>3d printer heatbeds mesa aquecida impressora p...</td>\n",
       "    </tr>\n",
       "    <tr>\n",
       "      <th>...</th>\n",
       "      <td>...</td>\n",
       "    </tr>\n",
       "    <tr>\n",
       "      <th>MLM-YARNS</th>\n",
       "      <td>yarns estambre hilaza madejas algodón gramos l...</td>\n",
       "    </tr>\n",
       "    <tr>\n",
       "      <th>MLM-YERBA_MATE</th>\n",
       "      <td>yerba mate mate yerba bombilla matero calabaza...</td>\n",
       "    </tr>\n",
       "    <tr>\n",
       "      <th>MLM-YOGA_MATS</th>\n",
       "      <td>yoga mats yoga tapete gym ejercicio pilates pi...</td>\n",
       "    </tr>\n",
       "    <tr>\n",
       "      <th>MLM-ZAFUS</th>\n",
       "      <td>zafus yoga meditación zafu banco madera portab...</td>\n",
       "    </tr>\n",
       "    <tr>\n",
       "      <th>MLM-ZIPPERS</th>\n",
       "      <td>zippers zipper cierres corredera carrito cierr...</td>\n",
       "    </tr>\n",
       "  </tbody>\n",
       "</table>\n",
       "<p>7893 rows × 1 columns</p>\n",
       "</div>"
      ],
      "text/plain": [
       "                                                                      title\n",
       "domain_id                                                                  \n",
       "MLB-3D_GLASSES            3d glasses óculos oculos passivo ativo cinema ...\n",
       "MLB-3D_PENS               3d pens caneta impressora filamento abs bivolt...\n",
       "MLB-3D_PRINTERS           3d printers impressora anycubic creality photo...\n",
       "MLB-3D_PRINTER_FILAMENTS  3d printer filaments pla filamento filamentos ...\n",
       "MLB-3D_PRINTER_HEATBEDS   3d printer heatbeds mesa aquecida impressora p...\n",
       "...                                                                     ...\n",
       "MLM-YARNS                 yarns estambre hilaza madejas algodón gramos l...\n",
       "MLM-YERBA_MATE            yerba mate mate yerba bombilla matero calabaza...\n",
       "MLM-YOGA_MATS             yoga mats yoga tapete gym ejercicio pilates pi...\n",
       "MLM-ZAFUS                 zafus yoga meditación zafu banco madera portab...\n",
       "MLM-ZIPPERS               zippers zipper cierres corredera carrito cierr...\n",
       "\n",
       "[7893 rows x 1 columns]"
      ]
     },
     "execution_count": 313,
     "metadata": {},
     "output_type": "execute_result"
    }
   ],
   "source": [
    "df_domain_title"
   ]
  },
  {
   "cell_type": "code",
   "execution_count": 314,
   "metadata": {},
   "outputs": [
    {
     "data": {
      "text/plain": [
       "array([['MLB-3D_GLASSES',\n",
       "        '3d glasses óculos oculos passivo ativo cinema original sony qualidade samsung yamaha'],\n",
       "       ['MLB-3D_PENS',\n",
       "        '3d pens caneta impressora filamento abs bivolt drawing lcd pen profissional cores'],\n",
       "       ['MLB-3D_PRINTERS',\n",
       "        '3d printers impressora anycubic creality photon resina ender pronta entrega nivelamento tronxy'],\n",
       "       ['MLB-3D_PRINTER_FILAMENTS',\n",
       "        '3d printer filaments pla filamento filamentos pedra impressora cores fibra carbono gtmax maquina'],\n",
       "       ['MLB-3D_PRINTER_HEATBEDS',\n",
       "        '3d printer heatbeds mesa aquecida impressora pcb preta aluminio dual power adesivo magnético'],\n",
       "       ['MLB-3D_PRINTER_HOTENDS',\n",
       "        '3d printer hotends hotend bico allmetal ptfe direct completo cooler termistor tubo cartucho'],\n",
       "       ['MLB-3D_PRINTER_NOZZLES',\n",
       "        '3d printer nozzles nozzle bico impressora volcano hotend vulcano frete peças'],\n",
       "       ['MLB-3D_PRINTER_THERMISTORS',\n",
       "        '3d printer thermistors termistor smd peças ntc promoção'],\n",
       "       ['MLB-ABDOMINAL_TONING_BELTS',\n",
       "        'abdominal toning belts abdominal muscular tonificador aparelho ems cinto estimulador cinta elétrica estimulação'],\n",
       "       ['MLB-ABSORBENT_SWEAT_PADS',\n",
       "        'absorbent sweat pads protetores roupas anti suor absorvente axilas'],\n",
       "       ['MLB-ABS_SENSORS',\n",
       "        'abs sensors abs sensor dianteiro traseiro original freio esquerdo direito hyundai roda'],\n",
       "       ['MLB-AB_ROLLER_WHEELS',\n",
       "        'ab roller wheels abdominal roda revoflex aparelho xtreme exercícios exercício casa rolo lombar'],\n",
       "       ['MLB-ACCESS_TURNSTILES',\n",
       "        'access turnstiles catraca biométrica academias prédios escolas empresas mecânica braço controle acesso'],\n",
       "       ['MLB-ACCORDIONS',\n",
       "        'accordions acordeon baixos sanfona scandalli gaita todeschini super michael voz roland'],\n",
       "       ['MLB-ACCORDION_CASES_AND_BAGS',\n",
       "        'accordion cases and bags acordeon baixos bag case almofadada nylon capa luxo mochila estojo'],\n",
       "       ['MLB-ACCORDION_STRAPS',\n",
       "        'accordion straps correia sax acordeon alto correias alças couro soprano tenor gaita'],\n",
       "       ['MLB-ACOUSTIC_GUITARS',\n",
       "        'acoustic guitars violão elétrico aço folk tagima nylon natural acústico giannini violao'],\n",
       "       ['MLB-ACOUSTIC_PANELS',\n",
       "        'acoustic panels espuma acústica placas anti chamas acustica lisa antichamas microfone difusor'],\n",
       "       ['MLB-ACTION_CAMERA_ACCESSORIES_KITS',\n",
       "        'action camera accessories kits gopro hero black acessórios pro acessorios completo suportes suporte sjcam'],\n",
       "       ['MLB-ACTION_CAMERA_ANTI_FOG_INSERTS',\n",
       "        'action camera anti fog inserts pastilhas anti embaçantes anti-fog gopro']],\n",
       "      dtype=object)"
      ]
     },
     "execution_count": 314,
     "metadata": {},
     "output_type": "execute_result"
    }
   ],
   "source": [
    "df_domain_title.reset_index()[['domain_id','title']].values[:20]"
   ]
  },
  {
   "cell_type": "code",
   "execution_count": 315,
   "metadata": {},
   "outputs": [],
   "source": [
    "embedder = SentenceTransformer('distilbert-multilingual-nli-stsb-quora-ranking')"
   ]
  },
  {
   "cell_type": "code",
   "execution_count": 316,
   "metadata": {},
   "outputs": [
    {
     "name": "stdout",
     "output_type": "stream",
     "text": [
      "CPU times: user 13min 43s, sys: 1.76 s, total: 13min 45s\n",
      "Wall time: 7min 6s\n"
     ]
    }
   ],
   "source": [
    "%%time\n",
    "df_domain_title['title_embedding'] = list(embedder.encode(list(df_domain_title['title'])))"
   ]
  },
  {
   "cell_type": "code",
   "execution_count": 362,
   "metadata": {},
   "outputs": [],
   "source": [
    "df_domain_title['domain_code'] = list(range(len(df_domain_title)))"
   ]
  },
  {
   "cell_type": "code",
   "execution_count": 383,
   "metadata": {},
   "outputs": [
    {
     "data": {
      "text/html": [
       "<div>\n",
       "<style scoped>\n",
       "    .dataframe tbody tr th:only-of-type {\n",
       "        vertical-align: middle;\n",
       "    }\n",
       "\n",
       "    .dataframe tbody tr th {\n",
       "        vertical-align: top;\n",
       "    }\n",
       "\n",
       "    .dataframe thead th {\n",
       "        text-align: right;\n",
       "    }\n",
       "</style>\n",
       "<table border=\"1\" class=\"dataframe\">\n",
       "  <thead>\n",
       "    <tr style=\"text-align: right;\">\n",
       "      <th></th>\n",
       "      <th>title</th>\n",
       "      <th>title_embedding</th>\n",
       "      <th>domain_code</th>\n",
       "    </tr>\n",
       "    <tr>\n",
       "      <th>domain_id</th>\n",
       "      <th></th>\n",
       "      <th></th>\n",
       "      <th></th>\n",
       "    </tr>\n",
       "  </thead>\n",
       "  <tbody>\n",
       "    <tr>\n",
       "      <th>MLB-3D_GLASSES</th>\n",
       "      <td>3d glasses óculos oculos passivo ativo cinema ...</td>\n",
       "      <td>[-0.06968159, 0.25974673, 0.5379761, 0.0724750...</td>\n",
       "      <td>0</td>\n",
       "    </tr>\n",
       "    <tr>\n",
       "      <th>MLB-3D_PENS</th>\n",
       "      <td>3d pens caneta impressora filamento abs bivolt...</td>\n",
       "      <td>[0.26427686, 0.2541827, 0.47321633, 0.29305992...</td>\n",
       "      <td>1</td>\n",
       "    </tr>\n",
       "    <tr>\n",
       "      <th>MLB-3D_PRINTERS</th>\n",
       "      <td>3d printers impressora anycubic creality photo...</td>\n",
       "      <td>[-0.101104945, 0.15050887, 0.7006622, 0.357083...</td>\n",
       "      <td>2</td>\n",
       "    </tr>\n",
       "    <tr>\n",
       "      <th>MLB-3D_PRINTER_FILAMENTS</th>\n",
       "      <td>3d printer filaments pla filamento filamentos ...</td>\n",
       "      <td>[0.17531304, 0.05898144, 0.51190627, 0.3485206...</td>\n",
       "      <td>3</td>\n",
       "    </tr>\n",
       "    <tr>\n",
       "      <th>MLB-3D_PRINTER_HEATBEDS</th>\n",
       "      <td>3d printer heatbeds mesa aquecida impressora p...</td>\n",
       "      <td>[0.051528, 0.21352565, 0.50668174, 0.3358144, ...</td>\n",
       "      <td>4</td>\n",
       "    </tr>\n",
       "    <tr>\n",
       "      <th>...</th>\n",
       "      <td>...</td>\n",
       "      <td>...</td>\n",
       "      <td>...</td>\n",
       "    </tr>\n",
       "    <tr>\n",
       "      <th>MLM-YARNS</th>\n",
       "      <td>yarns estambre hilaza madejas algodón gramos l...</td>\n",
       "      <td>[0.06797173, -0.23393154, 0.23260438, 0.425522...</td>\n",
       "      <td>7888</td>\n",
       "    </tr>\n",
       "    <tr>\n",
       "      <th>MLM-YERBA_MATE</th>\n",
       "      <td>yerba mate mate yerba bombilla matero calabaza...</td>\n",
       "      <td>[0.34707746, 0.2361566, 0.23432232, 0.05118732...</td>\n",
       "      <td>7889</td>\n",
       "    </tr>\n",
       "    <tr>\n",
       "      <th>MLM-YOGA_MATS</th>\n",
       "      <td>yoga mats yoga tapete gym ejercicio pilates pi...</td>\n",
       "      <td>[0.22566795, 0.14807013, 0.42122185, 0.3297225...</td>\n",
       "      <td>7890</td>\n",
       "    </tr>\n",
       "    <tr>\n",
       "      <th>MLM-ZAFUS</th>\n",
       "      <td>zafus yoga meditación zafu banco madera portab...</td>\n",
       "      <td>[0.074348785, 0.27690154, 0.36054817, 0.140551...</td>\n",
       "      <td>7891</td>\n",
       "    </tr>\n",
       "    <tr>\n",
       "      <th>MLM-ZIPPERS</th>\n",
       "      <td>zippers zipper cierres corredera carrito cierr...</td>\n",
       "      <td>[-0.13196965, -0.04408937, 0.29215792, 0.38227...</td>\n",
       "      <td>7892</td>\n",
       "    </tr>\n",
       "  </tbody>\n",
       "</table>\n",
       "<p>7893 rows × 3 columns</p>\n",
       "</div>"
      ],
      "text/plain": [
       "                                                                      title  \\\n",
       "domain_id                                                                     \n",
       "MLB-3D_GLASSES            3d glasses óculos oculos passivo ativo cinema ...   \n",
       "MLB-3D_PENS               3d pens caneta impressora filamento abs bivolt...   \n",
       "MLB-3D_PRINTERS           3d printers impressora anycubic creality photo...   \n",
       "MLB-3D_PRINTER_FILAMENTS  3d printer filaments pla filamento filamentos ...   \n",
       "MLB-3D_PRINTER_HEATBEDS   3d printer heatbeds mesa aquecida impressora p...   \n",
       "...                                                                     ...   \n",
       "MLM-YARNS                 yarns estambre hilaza madejas algodón gramos l...   \n",
       "MLM-YERBA_MATE            yerba mate mate yerba bombilla matero calabaza...   \n",
       "MLM-YOGA_MATS             yoga mats yoga tapete gym ejercicio pilates pi...   \n",
       "MLM-ZAFUS                 zafus yoga meditación zafu banco madera portab...   \n",
       "MLM-ZIPPERS               zippers zipper cierres corredera carrito cierr...   \n",
       "\n",
       "                                                            title_embedding  \\\n",
       "domain_id                                                                     \n",
       "MLB-3D_GLASSES            [-0.06968159, 0.25974673, 0.5379761, 0.0724750...   \n",
       "MLB-3D_PENS               [0.26427686, 0.2541827, 0.47321633, 0.29305992...   \n",
       "MLB-3D_PRINTERS           [-0.101104945, 0.15050887, 0.7006622, 0.357083...   \n",
       "MLB-3D_PRINTER_FILAMENTS  [0.17531304, 0.05898144, 0.51190627, 0.3485206...   \n",
       "MLB-3D_PRINTER_HEATBEDS   [0.051528, 0.21352565, 0.50668174, 0.3358144, ...   \n",
       "...                                                                     ...   \n",
       "MLM-YARNS                 [0.06797173, -0.23393154, 0.23260438, 0.425522...   \n",
       "MLM-YERBA_MATE            [0.34707746, 0.2361566, 0.23432232, 0.05118732...   \n",
       "MLM-YOGA_MATS             [0.22566795, 0.14807013, 0.42122185, 0.3297225...   \n",
       "MLM-ZAFUS                 [0.074348785, 0.27690154, 0.36054817, 0.140551...   \n",
       "MLM-ZIPPERS               [-0.13196965, -0.04408937, 0.29215792, 0.38227...   \n",
       "\n",
       "                          domain_code  \n",
       "domain_id                              \n",
       "MLB-3D_GLASSES                      0  \n",
       "MLB-3D_PENS                         1  \n",
       "MLB-3D_PRINTERS                     2  \n",
       "MLB-3D_PRINTER_FILAMENTS            3  \n",
       "MLB-3D_PRINTER_HEATBEDS             4  \n",
       "...                               ...  \n",
       "MLM-YARNS                        7888  \n",
       "MLM-YERBA_MATE                   7889  \n",
       "MLM-YOGA_MATS                    7890  \n",
       "MLM-ZAFUS                        7891  \n",
       "MLM-ZIPPERS                      7892  \n",
       "\n",
       "[7893 rows x 3 columns]"
      ]
     },
     "execution_count": 383,
     "metadata": {},
     "output_type": "execute_result"
    }
   ],
   "source": [
    "df_domain_title"
   ]
  },
  {
   "cell_type": "code",
   "execution_count": 389,
   "metadata": {},
   "outputs": [],
   "source": [
    "    domain_mapper = {x[1]: x[0]\n",
    "                     for x in\n",
    "                     enumerate(sorted(df_item['domain_id'].dropna().unique()))}\n"
   ]
  },
  {
   "cell_type": "code",
   "execution_count": 392,
   "metadata": {},
   "outputs": [
    {
     "data": {
      "text/plain": [
       "7888"
      ]
     },
     "execution_count": 392,
     "metadata": {},
     "output_type": "execute_result"
    }
   ],
   "source": [
    "domain_mapper['MLM-YARNS']"
   ]
  },
  {
   "cell_type": "markdown",
   "metadata": {},
   "source": [
    "Now use the domain embeddings to find out from which domain are the searched items from."
   ]
  },
  {
   "cell_type": "code",
   "execution_count": 317,
   "metadata": {},
   "outputs": [],
   "source": [
    "# Temporary solution\n",
    "df_raw['most_searched_ngram_1'] = df_raw['most_searched_ngram_1'].fillna('None')"
   ]
  },
  {
   "cell_type": "code",
   "execution_count": 318,
   "metadata": {},
   "outputs": [
    {
     "name": "stdout",
     "output_type": "stream",
     "text": [
      "CPU times: user 18.2 s, sys: 12 µs, total: 18.2 s\n",
      "Wall time: 9.23 s\n"
     ]
    }
   ],
   "source": [
    "%%time\n",
    "df_raw['most_searched_ngram_1_embedding'] = list(embedder.encode(list(df_raw['most_searched_ngram_1'])))"
   ]
  },
  {
   "cell_type": "code",
   "execution_count": 319,
   "metadata": {},
   "outputs": [
    {
     "name": "stdout",
     "output_type": "stream",
     "text": [
      "CPU times: user 8.3 s, sys: 65.7 ms, total: 8.37 s\n",
      "Wall time: 3.38 s\n"
     ]
    }
   ],
   "source": [
    "%%time\n",
    "data = np.array([np.array(x) for x in df_domain_title['title_embedding'].values])\n",
    "index = NNDescent(data, metric='cosine')"
   ]
  },
  {
   "cell_type": "code",
   "execution_count": 320,
   "metadata": {},
   "outputs": [
    {
     "name": "stdout",
     "output_type": "stream",
     "text": [
      "CPU times: user 3.3 s, sys: 132 ms, total: 3.43 s\n",
      "Wall time: 7.19 s\n"
     ]
    }
   ],
   "source": [
    "%%time\n",
    "query_data = np.array([np.array(x) for x in df_raw['most_searched_ngram_1_embedding'].values])\n",
    "closest_domain = index.query(query_data, k=5)"
   ]
  },
  {
   "cell_type": "code",
   "execution_count": 321,
   "metadata": {},
   "outputs": [
    {
     "data": {
      "text/plain": [
       "array([[3511, 3513, 3512, 7284, 7283],\n",
       "       [1476, 1446, 1435, 1469, 5510],\n",
       "       [7680, 5329, 4261, 4264, 6193],\n",
       "       ...,\n",
       "       [1338, 5399, 4549, 1336, 1339],\n",
       "       [1459, 4982,  640, 2013, 2598],\n",
       "       [6312, 3268, 2392, 6970, 3142]], dtype=int32)"
      ]
     },
     "execution_count": 321,
     "metadata": {},
     "output_type": "execute_result"
    }
   ],
   "source": [
    "closest_domain[0]"
   ]
  },
  {
   "cell_type": "code",
   "execution_count": 322,
   "metadata": {},
   "outputs": [
    {
     "data": {
      "text/plain": [
       "array([3511, 3513, 3512, 7284, 7283], dtype=int32)"
      ]
     },
     "execution_count": 322,
     "metadata": {},
     "output_type": "execute_result"
    }
   ],
   "source": [
    "closest_domain[0][0]"
   ]
  },
  {
   "cell_type": "code",
   "execution_count": 323,
   "metadata": {},
   "outputs": [
    {
     "data": {
      "text/html": [
       "<div>\n",
       "<style scoped>\n",
       "    .dataframe tbody tr th:only-of-type {\n",
       "        vertical-align: middle;\n",
       "    }\n",
       "\n",
       "    .dataframe tbody tr th {\n",
       "        vertical-align: top;\n",
       "    }\n",
       "\n",
       "    .dataframe thead th {\n",
       "        text-align: right;\n",
       "    }\n",
       "</style>\n",
       "<table border=\"1\" class=\"dataframe\">\n",
       "  <thead>\n",
       "    <tr style=\"text-align: right;\">\n",
       "      <th></th>\n",
       "      <th>title</th>\n",
       "      <th>title_embedding</th>\n",
       "    </tr>\n",
       "    <tr>\n",
       "      <th>domain_id</th>\n",
       "      <th></th>\n",
       "      <th></th>\n",
       "    </tr>\n",
       "  </thead>\n",
       "  <tbody>\n",
       "    <tr>\n",
       "      <th>MLB-SMARTWATCHES</th>\n",
       "      <td>smartwatches smartwatch relógio xiaomi intelig...</td>\n",
       "      <td>[-0.09381391, 0.23167917, 0.5604316, 0.0873341...</td>\n",
       "    </tr>\n",
       "    <tr>\n",
       "      <th>MLB-SMARTWATCH_CHARGERS</th>\n",
       "      <td>smartwatch chargers carregador xiaomi usb cabo...</td>\n",
       "      <td>[-0.0165702, 0.28124207, 0.5039951, 0.19861004...</td>\n",
       "    </tr>\n",
       "    <tr>\n",
       "      <th>MLB-SMARTWATCH_BATTERIES</th>\n",
       "      <td>smartwatch batteries bateria moto snap relógio...</td>\n",
       "      <td>[0.030472, 0.16015075, 0.5882568, 0.1388443, 0...</td>\n",
       "    </tr>\n",
       "    <tr>\n",
       "      <th>MLM-SMARTWATCH_BATTERIES</th>\n",
       "      <td>smartwatch batteries smartwatch bateria pila r...</td>\n",
       "      <td>[0.11540755, 0.20662041, 0.53214353, 0.0347781...</td>\n",
       "    </tr>\n",
       "    <tr>\n",
       "      <th>MLM-SMARTWATCHES</th>\n",
       "      <td>smartwatches reloj inteligente smartwatch watc...</td>\n",
       "      <td>[0.008772849, 0.2652028, 0.49709296, 0.1106698...</td>\n",
       "    </tr>\n",
       "  </tbody>\n",
       "</table>\n",
       "</div>"
      ],
      "text/plain": [
       "                                                                      title  \\\n",
       "domain_id                                                                     \n",
       "MLB-SMARTWATCHES          smartwatches smartwatch relógio xiaomi intelig...   \n",
       "MLB-SMARTWATCH_CHARGERS   smartwatch chargers carregador xiaomi usb cabo...   \n",
       "MLB-SMARTWATCH_BATTERIES  smartwatch batteries bateria moto snap relógio...   \n",
       "MLM-SMARTWATCH_BATTERIES  smartwatch batteries smartwatch bateria pila r...   \n",
       "MLM-SMARTWATCHES          smartwatches reloj inteligente smartwatch watc...   \n",
       "\n",
       "                                                            title_embedding  \n",
       "domain_id                                                                    \n",
       "MLB-SMARTWATCHES          [-0.09381391, 0.23167917, 0.5604316, 0.0873341...  \n",
       "MLB-SMARTWATCH_CHARGERS   [-0.0165702, 0.28124207, 0.5039951, 0.19861004...  \n",
       "MLB-SMARTWATCH_BATTERIES  [0.030472, 0.16015075, 0.5882568, 0.1388443, 0...  \n",
       "MLM-SMARTWATCH_BATTERIES  [0.11540755, 0.20662041, 0.53214353, 0.0347781...  \n",
       "MLM-SMARTWATCHES          [0.008772849, 0.2652028, 0.49709296, 0.1106698...  "
      ]
     },
     "execution_count": 323,
     "metadata": {},
     "output_type": "execute_result"
    }
   ],
   "source": [
    "df_domain_title.iloc[closest_domain[0][0]]"
   ]
  },
  {
   "cell_type": "code",
   "execution_count": 359,
   "metadata": {},
   "outputs": [
    {
     "data": {
      "text/plain": [
       "'banco banqueta'"
      ]
     },
     "execution_count": 359,
     "metadata": {},
     "output_type": "execute_result"
    }
   ],
   "source": [
    "idx = 89\n",
    "df_raw['most_searched_ngram_1'][idx]"
   ]
  },
  {
   "cell_type": "code",
   "execution_count": 360,
   "metadata": {},
   "outputs": [
    {
     "data": {
      "text/html": [
       "<div>\n",
       "<style scoped>\n",
       "    .dataframe tbody tr th:only-of-type {\n",
       "        vertical-align: middle;\n",
       "    }\n",
       "\n",
       "    .dataframe tbody tr th {\n",
       "        vertical-align: top;\n",
       "    }\n",
       "\n",
       "    .dataframe thead th {\n",
       "        text-align: right;\n",
       "    }\n",
       "</style>\n",
       "<table border=\"1\" class=\"dataframe\">\n",
       "  <thead>\n",
       "    <tr style=\"text-align: right;\">\n",
       "      <th></th>\n",
       "      <th>title</th>\n",
       "      <th>title_embedding</th>\n",
       "    </tr>\n",
       "    <tr>\n",
       "      <th>domain_id</th>\n",
       "      <th></th>\n",
       "      <th></th>\n",
       "    </tr>\n",
       "  </thead>\n",
       "  <tbody>\n",
       "    <tr>\n",
       "      <th>MLB-STOOLS</th>\n",
       "      <td>stools banqueta cozinha alta banquetas bar enc...</td>\n",
       "      <td>[0.22174336, 0.37877455, 0.5859332, 0.01127014...</td>\n",
       "    </tr>\n",
       "    <tr>\n",
       "      <th>MLB-DINING_SETS</th>\n",
       "      <td>dining sets mesa cadeiras jantar conjunto sala...</td>\n",
       "      <td>[0.09556813, 0.35928696, 0.58406156, 0.1645083...</td>\n",
       "    </tr>\n",
       "    <tr>\n",
       "      <th>MLM-SIDEBOARDS</th>\n",
       "      <td>sideboards credenza consola mueble vitrina mes...</td>\n",
       "      <td>[0.15594926, 0.29973918, 0.51180124, 0.0653956...</td>\n",
       "    </tr>\n",
       "    <tr>\n",
       "      <th>MLM-STOOLS</th>\n",
       "      <td>stools barra banco bar bancos cocina restauran...</td>\n",
       "      <td>[0.39710644, 0.55040145, 0.3535078, 0.02175984...</td>\n",
       "    </tr>\n",
       "    <tr>\n",
       "      <th>MLM-DINING_SETS</th>\n",
       "      <td>dining sets comedor sillas mesa madera persona...</td>\n",
       "      <td>[0.17041424, 0.490705, 0.5158578, 0.017168684,...</td>\n",
       "    </tr>\n",
       "  </tbody>\n",
       "</table>\n",
       "</div>"
      ],
      "text/plain": [
       "                                                             title  \\\n",
       "domain_id                                                            \n",
       "MLB-STOOLS       stools banqueta cozinha alta banquetas bar enc...   \n",
       "MLB-DINING_SETS  dining sets mesa cadeiras jantar conjunto sala...   \n",
       "MLM-SIDEBOARDS   sideboards credenza consola mueble vitrina mes...   \n",
       "MLM-STOOLS       stools barra banco bar bancos cocina restauran...   \n",
       "MLM-DINING_SETS  dining sets comedor sillas mesa madera persona...   \n",
       "\n",
       "                                                   title_embedding  \n",
       "domain_id                                                           \n",
       "MLB-STOOLS       [0.22174336, 0.37877455, 0.5859332, 0.01127014...  \n",
       "MLB-DINING_SETS  [0.09556813, 0.35928696, 0.58406156, 0.1645083...  \n",
       "MLM-SIDEBOARDS   [0.15594926, 0.29973918, 0.51180124, 0.0653956...  \n",
       "MLM-STOOLS       [0.39710644, 0.55040145, 0.3535078, 0.02175984...  \n",
       "MLM-DINING_SETS  [0.17041424, 0.490705, 0.5158578, 0.017168684,...  "
      ]
     },
     "execution_count": 360,
     "metadata": {},
     "output_type": "execute_result"
    }
   ],
   "source": [
    "df_domain_title.iloc[closest_domain[0][idx]]"
   ]
  },
  {
   "cell_type": "code",
   "execution_count": null,
   "metadata": {},
   "outputs": [],
   "source": []
  }
 ],
 "metadata": {
  "kernelspec": {
   "display_name": "Python 3",
   "language": "python",
   "name": "python3"
  },
  "language_info": {
   "codemirror_mode": {
    "name": "ipython",
    "version": 3
   },
   "file_extension": ".py",
   "mimetype": "text/x-python",
   "name": "python",
   "nbconvert_exporter": "python",
   "pygments_lexer": "ipython3",
   "version": "3.8.0"
  }
 },
 "nbformat": 4,
 "nbformat_minor": 4
}
